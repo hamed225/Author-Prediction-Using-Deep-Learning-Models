{
  "nbformat": 4,
  "nbformat_minor": 0,
  "metadata": {
    "colab": {
      "name": "POS Model for RNN.ipynb",
      "provenance": [],
      "collapsed_sections": [],
      "include_colab_link": true
    },
    "kernelspec": {
      "display_name": "Python 3",
      "language": "python",
      "name": "python3"
    },
    "accelerator": "GPU"
  },
  "cells": [
    {
      "cell_type": "markdown",
      "metadata": {
        "id": "view-in-github",
        "colab_type": "text"
      },
      "source": [
        "<a href=\"https://colab.research.google.com/github/tsmanral/Author-Prediction-Using-Deep-Learning-Models/blob/master/POS_Model_for_RNN.ipynb\" target=\"_parent\"><img src=\"https://colab.research.google.com/assets/colab-badge.svg\" alt=\"Open In Colab\"/></a>"
      ]
    },
    {
      "cell_type": "code",
      "metadata": {
        "id": "MiG6pXDgTF6r",
        "colab_type": "code",
        "colab": {}
      },
      "source": [
        "import pandas as pd\n",
        "import numpy as np\n",
        "import matplotlib.pyplot as plt\n",
        "\n",
        "\n",
        "from numpy import array\n",
        "from numpy import asarray\n",
        "from numpy import zeros\n",
        "from keras.preprocessing.text import Tokenizer\n",
        "from keras.preprocessing.sequence import pad_sequences\n",
        "from keras.models import Sequential\n",
        "from keras.layers import Dense, Dropout, LSTM, Conv1D\n",
        "from keras.layers import Flatten, GlobalAveragePooling1D\n",
        "from keras.layers import Embedding, TimeDistributed\n",
        "import keras.utils\n",
        "from keras.callbacks import ModelCheckpoint  \n"
      ],
      "execution_count": 0,
      "outputs": []
    },
    {
      "cell_type": "code",
      "metadata": {
        "id": "5ISp_YDITF65",
        "colab_type": "code",
        "colab": {}
      },
      "source": [
        "## extra imports to set GPU options\n",
        "import tensorflow as tf\n",
        "from keras import backend as k\n",
        " \n",
        "###################################\n",
        "# TensorFlow wizardry\n",
        "config = tf.ConfigProto()\n",
        " \n",
        "# Don't pre-allocate memory; allocate as-needed\n",
        "config.gpu_options.allow_growth = True\n",
        " \n",
        "# Only allow a total of half the GPU memory to be allocated\n",
        "config.gpu_options.per_process_gpu_memory_fraction = 0.9\n",
        " \n",
        "# Create a session with the above options specified.\n",
        "k.tensorflow_backend.set_session(tf.Session(config=config))\n",
        "###################################"
      ],
      "execution_count": 0,
      "outputs": []
    },
    {
      "cell_type": "code",
      "metadata": {
        "id": "pkSvxPk3ToCc",
        "colab_type": "code",
        "outputId": "65b3bb5e-2db9-4c51-bc1a-f29d742551f0",
        "colab": {
          "base_uri": "https://localhost:8080/",
          "height": 51
        }
      },
      "source": [
        "\"\"\"\n",
        "DON'T MODIFY ANYTHING IN THIS CELL\n",
        "\"\"\"\n",
        "from distutils.version import LooseVersion\n",
        "import warnings\n",
        "import tensorflow as tf\n",
        "\n",
        "# Check TensorFlow Version\n",
        "assert LooseVersion(tf.__version__) >= LooseVersion('1.0'), 'Please use TensorFlow version 1.0 or newer.  You are using {}'.format(tf.__version__)\n",
        "print('TensorFlow Version: {}'.format(tf.__version__))\n",
        "\n",
        "# Check for a GPU\n",
        "if not tf.test.gpu_device_name():\n",
        "    warnings.warn('No GPU found. Please use a GPU to train your neural network.')\n",
        "else:\n",
        "    print('Default GPU Device: {}'.format(tf.test.gpu_device_name()))\n"
      ],
      "execution_count": 0,
      "outputs": [
        {
          "output_type": "stream",
          "text": [
            "TensorFlow Version: 1.6.0\n",
            "Default GPU Device: /device:GPU:0\n"
          ],
          "name": "stdout"
        }
      ]
    },
    {
      "cell_type": "code",
      "metadata": {
        "id": "xo6Gxj4JTu2h",
        "colab_type": "code",
        "outputId": "b137553f-f58a-42b4-e6e6-daddc4dc25b0",
        "colab": {
          "base_uri": "https://localhost:8080/",
          "height": 3349
        }
      },
      "source": [
        "!pip install -U -q PyDrive\n",
        "\n",
        "from pydrive.auth import GoogleAuth\n",
        "from pydrive.drive import GoogleDrive\n",
        "from google.colab import auth\n",
        "from oauth2client.client import GoogleCredentials\n",
        "import os\n",
        "# 1. Authenticate and create the PyDrive client.\n",
        "auth.authenticate_user()\n",
        "gauth = GoogleAuth()\n",
        "gauth.credentials = GoogleCredentials.get_application_default()\n",
        "drive = GoogleDrive(gauth)\n",
        "\n",
        "# choose a local (colab) directory to store the data.\n",
        "local_download_path = os.path.expanduser('~/data_pos')\n",
        "try:\n",
        "  os.makedirs(local_download_path)\n",
        "except: pass\n",
        "\n",
        "# 2. Auto-iterate using the query syntax\n",
        "file_list = drive.ListFile(\n",
        "    {'q': \"'1OIo2AFE5433kfj9QGpGJVYERoWcmXVzB' in parents\"}).GetList()\n",
        "\n",
        "data = []\n",
        "for f in file_list:\n",
        "  # 3. Create & download by id.\n",
        "  print('title: %s, id: %s' % (f['title'], f['id']))\n",
        "  fname = os.path.join(local_download_path, f['title'])\n",
        "  print('downloading to {}'.format(fname))\n",
        "  f_ = drive.CreateFile({'id': f['id']})\n",
        "  f_.GetContentFile(fname)\n",
        "  with open(fname, 'r', encoding = \"ISO-8859-1\") as file:\n",
        "    data.append([f['title'].split('-')[0], file.read()])"
      ],
      "execution_count": 0,
      "outputs": [
        {
          "output_type": "stream",
          "text": [
            "title: George Gissing - 2.txt, id: 1lCMmjhdF4MlD8mWVVhMgdUDv7Hki3_-d\n",
            "downloading to /content/data_pos/George Gissing - 2.txt\n",
            "title: Humphrey Ward - 13.txt, id: 1yP2cZU3-djw5epRNhUyRf3Cprc-adBtq\n",
            "downloading to /content/data_pos/Humphrey Ward - 13.txt\n",
            "title: George Gissing - 15.txt, id: 16Qap744WSUYEpbPIYRfIWnxAkB5rnXiL\n",
            "downloading to /content/data_pos/George Gissing - 15.txt\n",
            "title: Arthur Conan Doyle - 11.txt, id: 1HB_DcPLPafswhFbgjRYImH8GfBvghplJ\n",
            "downloading to /content/data_pos/Arthur Conan Doyle - 11.txt\n",
            "title: Humphrey Ward - 10.txt, id: 1Tiqv8_lApsZPbgANKnGH_NmXotwmNx4G\n",
            "downloading to /content/data_pos/Humphrey Ward - 10.txt\n",
            "title: Arthur Conan Doyle - 10.txt, id: 1nRXK4FBhXvehImie22HvK4qG5FISiHFu\n",
            "downloading to /content/data_pos/Arthur Conan Doyle - 10.txt\n",
            "title: Arthur Conan Doyle - 7.txt, id: 1nz4_r-CvQZwKg91cnAvsHQE7UvA4eWoj\n",
            "downloading to /content/data_pos/Arthur Conan Doyle - 7.txt\n",
            "title: Henry Rider Haggard - 7.txt, id: 1vfyVPEJUqVHhyQd-4rJ4qLCfxoAY5kDO\n",
            "downloading to /content/data_pos/Henry Rider Haggard - 7.txt\n",
            "title: Henry Rider Haggard - 16.txt, id: 1KFVygFud1qYySo69WSPHZbdNNe3avQcw\n",
            "downloading to /content/data_pos/Henry Rider Haggard - 16.txt\n",
            "title: Humphrey Ward - 12.txt, id: 1pS4cFsP0yms3FgDqu0O2--qCqmewd5Qu\n",
            "downloading to /content/data_pos/Humphrey Ward - 12.txt\n",
            "title: Gilbert Parker - 16.txt, id: 1XgrVxWRkcuW_7lLxCvwxuorcgWk-Zcor\n",
            "downloading to /content/data_pos/Gilbert Parker - 16.txt\n",
            "title: Arthur Conan Doyle - 13.txt, id: 1qhxnAcOfeCMRQv51W52pu8ae2fDJgfUb\n",
            "downloading to /content/data_pos/Arthur Conan Doyle - 13.txt\n",
            "title: George Gissing - 11.txt, id: 1zHbzxGbnBeuacgMmH0p1vTYRfV0Uia5F\n",
            "downloading to /content/data_pos/George Gissing - 11.txt\n",
            "title: Arthur Conan Doyle - 17.txt, id: 1L4Pdlg1upr_tWIRYXIgSms98-fGTDM6M\n",
            "downloading to /content/data_pos/Arthur Conan Doyle - 17.txt\n",
            "title: Henry Rider Haggard - 11.txt, id: 1Dnl4ZDePyYcH36SYJ2ZCWKWIPj3UKx_i\n",
            "downloading to /content/data_pos/Henry Rider Haggard - 11.txt\n",
            "title: Arthur Conan Doyle - 9.txt, id: 1b7L-IE2IO7EZ2u3BZsLRbbur1_JS2dJb\n",
            "downloading to /content/data_pos/Arthur Conan Doyle - 9.txt\n",
            "title: Gilbert Parker - 9.txt, id: 1TtzAy10FjwI3zCKOHMRA2Aqi2Fo4kgg-\n",
            "downloading to /content/data_pos/Gilbert Parker - 9.txt\n",
            "title: Humphrey Ward - 4.txt, id: 1_LAg7rJvGPlWoTosNYgOzWilSSE9zSj-\n",
            "downloading to /content/data_pos/Humphrey Ward - 4.txt\n",
            "title: Gilbert Parker - 11.txt, id: 1wokRg61tuGJry4lRRM6S2qF0wo4lb7ck\n",
            "downloading to /content/data_pos/Gilbert Parker - 11.txt\n",
            "title: Henry Rider Haggard - 14.txt, id: 1jgwzKhPIyX76mGWl_OotDgc8HSiXYuyV\n",
            "downloading to /content/data_pos/Henry Rider Haggard - 14.txt\n",
            "title: George Gissing - 3.txt, id: 1frOysmMlmrzXGkwByk4cGbjmoRHQBaKu\n",
            "downloading to /content/data_pos/George Gissing - 3.txt\n",
            "title: Gilbert Parker - 8.txt, id: 1-eb26z8eXoNczyoHLcCI8foVcQUcG_PC\n",
            "downloading to /content/data_pos/Gilbert Parker - 8.txt\n",
            "title: George Gissing - 17.txt, id: 1Bd9ClzGYvtPCs2oOWViXr72olxTDPNC1\n",
            "downloading to /content/data_pos/George Gissing - 17.txt\n",
            "title: Humphrey Ward - 16.txt, id: 19SOHJQBVqaCdZY8H1dfjjtsuaatokD1g\n",
            "downloading to /content/data_pos/Humphrey Ward - 16.txt\n",
            "title: Humphrey Ward - 2.txt, id: 1OEsg-viyCSScKUJ6Z01Uc8l0oZ_Xqd1l\n",
            "downloading to /content/data_pos/Humphrey Ward - 2.txt\n",
            "title: Arthur Conan Doyle - 15.txt, id: 10aXjlevYdOi6N_mkCy1O6-cPB6nVVonv\n",
            "downloading to /content/data_pos/Arthur Conan Doyle - 15.txt\n",
            "title: Henry Rider Haggard - 13.txt, id: 1yKRctwQr7xfVWtpa5SB5ItnONmBeh6Pb\n",
            "downloading to /content/data_pos/Henry Rider Haggard - 13.txt\n",
            "title: George Gissing - 1.txt, id: 12xkvXDKjxgu1TEK1Npvvs2bdVr3bY1Rh\n",
            "downloading to /content/data_pos/George Gissing - 1.txt\n",
            "title: George Gissing - 13.txt, id: 18F9-7sxD8gdMJXCFGWsjIor3t53bGE5l\n",
            "downloading to /content/data_pos/George Gissing - 13.txt\n",
            "title: George Gissing - 6.txt, id: 1TOTx9TVEmWVOo60aVeZwzU1_ybyQ6JdN\n",
            "downloading to /content/data_pos/George Gissing - 6.txt\n",
            "title: Arthur Conan Doyle - 6.txt, id: 1mqJ7UzUyB6f9yWpsGPdyrEAZD_3LN7f1\n",
            "downloading to /content/data_pos/Arthur Conan Doyle - 6.txt\n",
            "title: Henry Rider Haggard - 6.txt, id: 1IsOg3rmJG1doJA7V59ClKF2rqxugcqEJ\n",
            "downloading to /content/data_pos/Henry Rider Haggard - 6.txt\n",
            "title: Arthur Conan Doyle - 8.txt, id: 1uCL6yxyP9vz7A607mAik-fyc5EfyHjea\n",
            "downloading to /content/data_pos/Arthur Conan Doyle - 8.txt\n",
            "title: Henry Rider Haggard - 22.txt, id: 15zC1lPcBMBi-H_rhhxWytF2O4OrUQ1GS\n",
            "downloading to /content/data_pos/Henry Rider Haggard - 22.txt\n",
            "title: Arthur Conan Doyle - 3.txt, id: 1TxjxVQQg6lGBr3oHfQq7ShVzHEq20y52\n",
            "downloading to /content/data_pos/Arthur Conan Doyle - 3.txt\n",
            "title: George Gissing - 18.txt, id: 1B-drnYbF8TFFRXxwxBupr-yPbHsB5762\n",
            "downloading to /content/data_pos/George Gissing - 18.txt\n",
            "title: Humphrey Ward - 1.txt, id: 1R0_WqIhD64CnSbxOhwH9LFtITDF9M1K3\n",
            "downloading to /content/data_pos/Humphrey Ward - 1.txt\n",
            "title: Arthur Conan Doyle - 2.txt, id: 1EZhFioWYtFD1GSqf-EzZilpD1OG2Wil4\n",
            "downloading to /content/data_pos/Arthur Conan Doyle - 2.txt\n"
          ],
          "name": "stdout"
        },
        {
          "output_type": "stream",
          "text": [
            "title: Gilbert Parker - 13.txt, id: 1O-O3f6NFXYFZYy9f5HkIVKIEqNH9sgy_\n",
            "downloading to /content/data_pos/Gilbert Parker - 13.txt\n",
            "title: Arthur Conan Doyle - 16.txt, id: 1WXzRRGG2pt9QC3a1oan3Wg-Hfe3QJBLi\n",
            "downloading to /content/data_pos/Arthur Conan Doyle - 16.txt\n",
            "title: Henry Rider Haggard - 12.txt, id: 1oDjEYDQjP7KdxO2VpzU08m5kJXdPOTK4\n",
            "downloading to /content/data_pos/Henry Rider Haggard - 12.txt\n",
            "title: Henry Rider Haggard - 25.txt, id: 1BrlRls7K1mCOdefL5Ih0Cr3jFpfxGqbv\n",
            "downloading to /content/data_pos/Henry Rider Haggard - 25.txt\n",
            "title: Arthur Conan Doyle - 12.txt, id: 1PSFBrdrggGe1b_1Z2O5WdnlHkdFSFOo_\n",
            "downloading to /content/data_pos/Arthur Conan Doyle - 12.txt\n",
            "title: Arthur Conan Doyle - 4.txt, id: 1p-XRhYDQCdccoYflkHuAdXkZVOwjpfdm\n",
            "downloading to /content/data_pos/Arthur Conan Doyle - 4.txt\n",
            "title: Humphrey Ward - 8.txt, id: 1E3UCDg2V70_N1nxpFSsrAiyBVziTMRdl\n",
            "downloading to /content/data_pos/Humphrey Ward - 8.txt\n",
            "title: Gilbert Parker - 7.txt, id: 1I2AgUyOdTnZ76rTHjsQRUmANa5P_5pqH\n",
            "downloading to /content/data_pos/Gilbert Parker - 7.txt\n",
            "title: Humphrey Ward - 7.txt, id: 1NJ5xd9c-tWmatFZONPKf0-gtV4VlqabB\n",
            "downloading to /content/data_pos/Humphrey Ward - 7.txt\n",
            "title: George Gissing - 7.txt, id: 1LXWb5BUhQOcpR5gIgSli23hi7kIDjplX\n",
            "downloading to /content/data_pos/George Gissing - 7.txt\n",
            "title: George Gissing - 5.txt, id: 1eGC_Bj2iDqk952n2C8mOf7xbKM0-qeQ8\n",
            "downloading to /content/data_pos/George Gissing - 5.txt\n",
            "title: Henry Rider Haggard - 8.txt, id: 1NPxdhg7EQsNYW1OTBwReaHTrwpiOCjB9\n",
            "downloading to /content/data_pos/Henry Rider Haggard - 8.txt\n",
            "title: Henry Rider Haggard - 15.txt, id: 1rCed7VBn4Nom9_AS_OYsUy5BGTscCscT\n",
            "downloading to /content/data_pos/Henry Rider Haggard - 15.txt\n",
            "title: Gilbert Parker - 10.txt, id: 1YcOoTzoHQpI51jk8TixtGj6NUWEYgXsf\n",
            "downloading to /content/data_pos/Gilbert Parker - 10.txt\n",
            "title: Henry Rider Haggard - 17.txt, id: 1B3iijkQvlC2rO1Uimy92ZGuJxBGkbmyU\n",
            "downloading to /content/data_pos/Henry Rider Haggard - 17.txt\n",
            "title: Henry Rider Haggard - 20.txt, id: 1E0-Mg0CGNAob4bMEtYocFckmu3rAf9NN\n",
            "downloading to /content/data_pos/Henry Rider Haggard - 20.txt\n",
            "title: Gilbert Parker - 15.txt, id: 1AtYQ9V2A1hc7NkA2siSt5XUZIjBDooaP\n",
            "downloading to /content/data_pos/Gilbert Parker - 15.txt\n",
            "title: Humphrey Ward - 18.txt, id: 1P3QtAUKcT3xdd0XNyV2JhEm4G3lqN4Ph\n",
            "downloading to /content/data_pos/Humphrey Ward - 18.txt\n",
            "title: George Gissing - 12.txt, id: 1qpdYhPxAy7p3C0DODrdjce2pbGB6SGOT\n",
            "downloading to /content/data_pos/George Gissing - 12.txt\n",
            "title: George Gissing - 9.txt, id: 1LTpA68PooXy-57aXVTPejCOjHFx_1s8O\n",
            "downloading to /content/data_pos/George Gissing - 9.txt\n",
            "title: Humphrey Ward - 19.txt, id: 1z2wUqCd1fggpBhhiAFTeNYHDEpKvd6yT\n",
            "downloading to /content/data_pos/Humphrey Ward - 19.txt\n",
            "title: Arthur Conan Doyle - 14.txt, id: 1l1wwVL1ixc1S8Zp6R-Gt681oWYaYh9JQ\n",
            "downloading to /content/data_pos/Arthur Conan Doyle - 14.txt\n",
            "title: Henry Rider Haggard - 5.txt, id: 11k-0ONmsNfPAxN8fO8pdCWPNHkUSbLYE\n",
            "downloading to /content/data_pos/Henry Rider Haggard - 5.txt\n",
            "title: Henry Rider Haggard - 18.txt, id: 1RX_PbJmykgz28XP3bWsvgf59_2oUivtu\n",
            "downloading to /content/data_pos/Henry Rider Haggard - 18.txt\n",
            "title: Henry Rider Haggard - 2.txt, id: 1SnTVtIWHWcLLmv-PSZkV8J2Mt3Ao9CCJ\n",
            "downloading to /content/data_pos/Henry Rider Haggard - 2.txt\n",
            "title: Henry Rider Haggard - 23.txt, id: 10z12GfkRTyazcPVOP4jrLHjE2-xhue27\n",
            "downloading to /content/data_pos/Henry Rider Haggard - 23.txt\n",
            "title: Gilbert Parker - 14.txt, id: 1U8T_lX-bqrC_plES-v3794SYxhN1N-FP\n",
            "downloading to /content/data_pos/Gilbert Parker - 14.txt\n",
            "title: Henry Rider Haggard - 10.txt, id: 1D6LCtTW-6nu9iQJV-gxjPdif-jTjqlIg\n",
            "downloading to /content/data_pos/Henry Rider Haggard - 10.txt\n",
            "title: George Gissing - 14.txt, id: 1_vcRDGX1RYFsl6nlLolXRoqs5W17queL\n",
            "downloading to /content/data_pos/George Gissing - 14.txt\n",
            "title: Humphrey Ward - 9.txt, id: 197td6qxtl3XCpMcwhqAFPh4qvxBqHtUm\n",
            "downloading to /content/data_pos/Humphrey Ward - 9.txt\n",
            "title: George Gissing - 10.txt, id: 101aaRvtwV6XULnvJg6btVAFWVtcC6Hq7\n",
            "downloading to /content/data_pos/George Gissing - 10.txt\n",
            "title: Henry Rider Haggard - 21.txt, id: 16zA7QoWr83WOUgqZ1Ndns9t9NBpqF4bH\n",
            "downloading to /content/data_pos/Henry Rider Haggard - 21.txt\n",
            "title: Henry Rider Haggard - 1.txt, id: 1XKjFGExgHnPGIjaWhsA85e1iDadp_FqF\n",
            "downloading to /content/data_pos/Henry Rider Haggard - 1.txt\n",
            "title: Henry Rider Haggard - 4.txt, id: 1SQ_vhrh2lKCiIxqIsjXLtkAp4R8AdBo-\n",
            "downloading to /content/data_pos/Henry Rider Haggard - 4.txt\n",
            "title: Humphrey Ward - 6.txt, id: 1komWIO-O_Vlt7d_j8Re3pr3PGKCpxS40\n",
            "downloading to /content/data_pos/Humphrey Ward - 6.txt\n",
            "title: Henry Rider Haggard - 3.txt, id: 1JFU24r-hAlfIvIl4HBnq7OupSnKNKjwo\n",
            "downloading to /content/data_pos/Henry Rider Haggard - 3.txt\n",
            "title: Gilbert Parker - 2.txt, id: 11t6g_7ZdL9bhgSrcbBgS0756wENZnMR_\n",
            "downloading to /content/data_pos/Gilbert Parker - 2.txt\n",
            "title: George Gissing - 19.txt, id: 1hhc6DClErfcuREwcfiLJ7U7AHrD_V9hi\n",
            "downloading to /content/data_pos/George Gissing - 19.txt\n"
          ],
          "name": "stdout"
        },
        {
          "output_type": "stream",
          "text": [
            "title: Gilbert Parker - 5.txt, id: 1atkDIkWgZN0xOYrLc0CAcmtS5x1kJqD0\n",
            "downloading to /content/data_pos/Gilbert Parker - 5.txt\n",
            "title: Henry Rider Haggard - 9.txt, id: 1IDmhDWbLnsoPrRkQwdrejXAm3WL4Z7m8\n",
            "downloading to /content/data_pos/Henry Rider Haggard - 9.txt\n",
            "title: Humphrey Ward - 14.txt, id: 1CzoKzHf8dCmvKo_x5Bd7cDxpUaINqowR\n",
            "downloading to /content/data_pos/Humphrey Ward - 14.txt\n",
            "title: Gilbert Parker - 12.txt, id: 1n_S6h-ax02aDj8sGXNLGqrHRtHhCR8eh\n",
            "downloading to /content/data_pos/Gilbert Parker - 12.txt\n",
            "title: Arthur Conan Doyle - 5.txt, id: 1UVH3T5AUm6Xyd7W4q-H07H1gOGkD17-g\n",
            "downloading to /content/data_pos/Arthur Conan Doyle - 5.txt\n",
            "title: Gilbert Parker - 6.txt, id: 1smgTQyEwOyvyB1bxp2YIF03urzWAkr3A\n",
            "downloading to /content/data_pos/Gilbert Parker - 6.txt\n",
            "title: Humphrey Ward - 15.txt, id: 1mgS1p_sVn70GjneAqQryC43fUphPZ1gC\n",
            "downloading to /content/data_pos/Humphrey Ward - 15.txt\n",
            "title: Henry Rider Haggard - 19.txt, id: 17kGjYBSqYp4RwYY8HIL3-pphflfxxKbw\n",
            "downloading to /content/data_pos/Henry Rider Haggard - 19.txt\n",
            "title: George Gissing - 16.txt, id: 1Lc-oJYVgc6_mAwMLLnwuFPvfQmnoLHnF\n",
            "downloading to /content/data_pos/George Gissing - 16.txt\n",
            "title: Gilbert Parker - 4.txt, id: 1Mw5a3Vlt3JnroAWS2URhtrnz8oQhwQLW\n",
            "downloading to /content/data_pos/Gilbert Parker - 4.txt\n",
            "title: Gilbert Parker - 3.txt, id: 13AYXfqU5GjCPiTyml5zeoYqfCpul7Isi\n",
            "downloading to /content/data_pos/Gilbert Parker - 3.txt\n",
            "title: George Gissing - 4.txt, id: 1FVfXIIyAJWCPVdNmAWUPvZrDdkYIKrxK\n",
            "downloading to /content/data_pos/George Gissing - 4.txt\n",
            "title: Humphrey Ward - 17.txt, id: 16wl16eMloeWg-nkaQ4skzEq29LEmTqPn\n",
            "downloading to /content/data_pos/Humphrey Ward - 17.txt\n",
            "title: George Gissing - 20.txt, id: 1XxLSieKBOpWDEptfuP0Uyni93v3ouy3h\n",
            "downloading to /content/data_pos/George Gissing - 20.txt\n",
            "title: Humphrey Ward - 11.txt, id: 1gG5RPjeRKZBZTQWmtixbAe8fh1rla9OZ\n",
            "downloading to /content/data_pos/Humphrey Ward - 11.txt\n",
            "title: Humphrey Ward - 5.txt, id: 1Jw-Wr-3lOQw8j20i6tXe6IFH5sJjIOM1\n",
            "downloading to /content/data_pos/Humphrey Ward - 5.txt\n",
            "title: Humphrey Ward - 3.txt, id: 1xcs2GhML5QUTLWINhKo_YAh42vgk3vqI\n",
            "downloading to /content/data_pos/Humphrey Ward - 3.txt\n",
            "title: Gilbert Parker - 1.txt, id: 13IXDje16OaMLBS4ZwypLpYIdI4_4p2zP\n",
            "downloading to /content/data_pos/Gilbert Parker - 1.txt\n",
            "title: George Gissing - 8.txt, id: 1fZhG7ub47xkgHzLzCXsUCFhJlXi_wi5G\n",
            "downloading to /content/data_pos/George Gissing - 8.txt\n",
            "title: Henry Rider Haggard - 24.txt, id: 1Q6-yVDdc4xEcFSqHdhrEZXR0v9nC49gf\n",
            "downloading to /content/data_pos/Henry Rider Haggard - 24.txt\n",
            "title: Arthur Conan Doyle - 1.txt, id: 1v_eiaenham4IILNEA9UTd6lE0sZdaejN\n",
            "downloading to /content/data_pos/Arthur Conan Doyle - 1.txt\n",
            "title: Arthur Conan Doyle - 18.txt, id: 1vMDqtRvMFuCiNu3UN7-u8Lt8OoJVHBtn\n",
            "downloading to /content/data_pos/Arthur Conan Doyle - 18.txt\n"
          ],
          "name": "stdout"
        }
      ]
    },
    {
      "cell_type": "code",
      "metadata": {
        "id": "exk0zCoYTvcz",
        "colab_type": "code",
        "outputId": "793d1454-bc71-46b7-ab37-ece5079c15b4",
        "colab": {
          "base_uri": "https://localhost:8080/",
          "height": 34
        }
      },
      "source": [
        "X = []\n",
        "for _,c in data:\n",
        "    X.append(c.lower())\n",
        "    \n",
        "Y = []\n",
        "for i,_ in data:\n",
        "    Y.append(i.lower())\n",
        "\n",
        "X1 = []\n",
        "Y_data1 = []\n",
        "\n",
        "for text in X:\n",
        "  c = text.strip().split()\n",
        "  X1.append(c)\n",
        "\n",
        "print(len(X))\n",
        "X_data1 = []\n",
        "count = 0\n",
        "for i in X1:\n",
        "  m=0\n",
        "  n=1000\n",
        "  times = len(i)//1000\n",
        "  for j in range(times):\n",
        "    X_data1.append(i[m:n])\n",
        "    m = m + 1000\n",
        "    n = n + 1000\n",
        "    Y_data1.append(Y[count]) \n",
        "  X_data1.append(i[m:len(i)+1])\n",
        "  Y_data1.append(Y[count])\n",
        "  count = count + 1 \n",
        "\n"
      ],
      "execution_count": 0,
      "outputs": [
        {
          "output_type": "stream",
          "text": [
            "98\n"
          ],
          "name": "stdout"
        }
      ]
    },
    {
      "cell_type": "code",
      "metadata": {
        "id": "ZKaKGalPygUW",
        "colab_type": "code",
        "outputId": "9ec8d28c-47f3-43f2-cd20-88cb0b096421",
        "colab": {
          "base_uri": "https://localhost:8080/",
          "height": 139
        }
      },
      "source": [
        "temp_list = []\n",
        "for i in range(len(X_data1)):\n",
        "  temp_list.append([X_data1[i], Y_data1[i]])\n",
        "print(len(temp_list))\n",
        "print(temp_list[0][1])\n",
        "\n",
        "import random\n",
        "\n",
        "random.shuffle(temp_list)\n",
        "print(len(temp_list))\n",
        "print(temp_list[0][1])\n",
        "\n",
        "X_data = []\n",
        "Y_data = []\n",
        "for i in range(len(temp_list)):\n",
        "  X_data.append(temp_list[i][0])\n",
        "  Y_data.append(temp_list[i][1])\n",
        "print(len(X_data), len(Y_data))\n",
        "print(X_data[0], Y_data[0])"
      ],
      "execution_count": 0,
      "outputs": [
        {
          "output_type": "stream",
          "text": [
            "11163\n",
            "george gissing \n",
            "11163\n",
            "henry rider haggard \n",
            "11163 11163\n",
            "['vbn', 'nnp', 'in', 'nns', 'vbp', 'vbn', 'in', 'jj', 'nn', 'cc', 'dt', 'vbz', 'rb', 'prp$', 'nn', 'jj', 'vbp', 'vbn', 'nn', 'in', 'prp', 'vbp', 'vbn', 'prp', 'vbd', 'in', 'prp$', 'fw', 'fw', 'vbd', 'prp', 'vbp', 'rb', 'in', 'dt', 'nn', 'in', 'dt', 'nnp', 'nn', 'cc', 'dt', 'nnp', 'nnp', 'vbz', 'prp$', 'nn', 'dt', 'nn', 'rb', 'md', 'vb', 'dt', 'nn', 'vbd', 'dt', 'vb', 'prp$', 'nn', 'nn', 'in', 'dt', 'nn', 'prp$', 'nn', 'rb', 'in', 'wdt', 'vbz', 'vbn', 'in', 'nn', 'nn', 'in', 'dt', 'jj', 'nn', 'in', 'nn', 'prp', 'vbp', 'nn', 'in', 'prp', 'wp', 'vbp', 'jj', 'nn', 'cc', 'nn', 'in', 'nn', 'prp', 'vbp', 'prp', 'in', 'prp', 'vbd', 'fw', 'fw', 'prp', 'vbp', 'prp', 'jj', 'cc', 'jj', 'in', 'dt', 'nn', 'in', 'cd', 'fw', 'fw', 'prp$', 'nn', 'vb', 'prp$', 'nn', 'to', 'prp', 'cc', 'nn', 'prp', 'vbp', 'nn', 'prp', 'vbd', 'prp', 'vbp', 'prp', 'vbp', 'in', 'dt', 'nn', 'in', 'dt', 'nns', 'vbd', 'wrb', 'nnp', 'vbd', 'in', 'prp$', 'nn', 'cc', 'in', 'dt', 'nn', 'in', 'prp$', 'nn', 'dt', 'nn', 'in', 'nnp', 'vbd', 'rb', 'to', 'dt', 'nn', 'prp', 'vbp', 'nnp', 'wp', 'nn', 'nnp', 'dt', 'nn', 'prp', 'vbd', 'prp', 'in', 'nnp', 'cc', 'nnp', 'dt', 'nn', 'cc', 'dt', 'nn', 'vbd', 'jj', 'in', 'prp$', 'nn', 'vbd', 'rp', 'nn', 'cc', 'cc', 'in', 'prp', 'prp', 'md', 'rb', 'vb', 'vbn', 'nn', 'prp', 'vbd', 'prp', 'in', 'dt', 'nn', 'cc', 'nn', 'cd', 'cc', 'cd', 'jj', 'nn', 'nn', 'wp', 'vbp', 'prp', 'nnp', 'nnp', 'vbd', 'in', 'dt', 'nn', 'fw', 'fw', 'prp', 'nn', 'cc', 'rb', 'nn', 'prp', 'vbd', 'in', 'dt', 'nn', 'nn', 'prp', 'vbz', 'in', 'dt', 'nn', 'in', 'dt', 'jj', 'nnp', 'nn', 'wp', 'vbz', 'rb', 'rb', 'vbg', 'in', 'dt', 'nn', 'to', 'vb', 'cc', 'prp', 'rb', 'vbd', 'in', 'dt', 'nn', 'nn', 'in', 'dt', 'nns', 'prp$', 'nns', 'rb', 'md', 'vb', 'nn', 'cc', 'nn', 'md', 'rb', 'vb', 'prp', 'vb', 'prp', 'vbd', 'in', 'nn', 'cc', 'in', 'nn', 'prp', 'vbd', 'nn', 'cd', 'cc', 'nn', 'prp', 'vbd', 'fw', 'fw', 'wrb', 'vbp', 'prp', 'vb', 'prp', 'vbp', 'wp', 'vbz', 'prp', 'to', 'vb', 'in', 'dt', 'vbz', 'in', 'nnp', 'cc', 'nnp', 'dt', 'nn', 'prp', 'md', 'vb', 'nn', 'prp', 'vbd', 'nnp', 'in', 'dt', 'nn', 'in', 'prp$', 'fw', 'fw', 'dt', 'nn', 'in', 'nn', 'cc', 'in', 'prp', 'vbd', 'vbn', 'prp$', 'nns', 'cc', 'nn', 'cd', 'cc', 'nnp', 'nn', 'nnp', 'in', 'dt', 'nn', 'in', 'nn', 'wp', 'vbd', 'prp$', 'nn', 'ex', 'vbp', 'jj', 'nns', 'in', 'dt', 'nn', 'prp$', 'fw', 'fw', 'jj', 'vbp', 'vbn', 'dt', 'nn', 'wrb', 'dt', 'nnp', 'vbd', 'prp', 'rp', 'in', 'prp', 'vbd', 'in', 'nn', 'prp', 'vbp', 'vbn', 'dt', 'nns', 'nn', 'cc', 'vbn', 'dt', 'nns', 'vbp', 'in', 'prp$', 'nn', 'cc', 'wrb', 'vbp', 'prp', 'jj', 'nn', 'vbz', 'nn', 'cc', 'dt', 'jj', 'nns', 'vbp', 'prp', 'rp', 'in', 'nn', 'prp', 'vbd', 'dt', 'nns', 'in', 'nn', 'in', 'dt', 'nns', 'in', 'dt', 'nn', 'prp', 'vbd', 'in', 'cc', 'prp', 'vbp', 'vbn', 'nn', 'cd', 'prp', 'vbp', 'nn', 'prp$', 'nn', 'to', 'vb', 'prp', 'dt', 'nn', 'in', 'dt', 'nn', 'in', 'nn', 'nn', 'in', 'dt', 'nn', 'nn', 'dt', 'jj', 'nn', 'wp', 'vbd', 'vbn', 'nnp', 'dt', 'nn', 'cc', 'in', 'prp$', 'nn', 'in', 'nn', 'dt', 'rbs', 'jj', 'in', 'nnp', 'nnp', 'prp', 'vbz', 'jj', 'cc', 'prp', 'vbp', 'rb', 'in', 'jj', 'fw', 'fw', 'in', 'prp', 'vbp', 'to', 'vb', 'nn', 'prp', 'md', 'vb', 'nn', 'vb', 'prp$', 'nn', 'prp$', 'nn', 'in', 'prp', 'vbp', 'jj', 'to', 'vb', 'dt', 'vbz', 'nn', 'cc', 'rb', 'jj', 'wrb', 'prp', 'vbp', 'in', 'nnp', 'dt', 'nns', 'vbp', 'in', 'dt', 'nn', 'wdt', 'vbz', 'rp', 'prp$', 'jj', 'nns', 'in', 'nn', 'vbp', 'prp', 'vb', 'wp', 'prp', 'vbp', 'prp$', 'nn', 'prp', 'vbp', 'rb', 'vb', 'prp', 'vbp', 'in', 'prp', 'vbp', 'dt', 'jj', 'jj', 'nn', 'vbn', 'nnp', 'in', 'nns', 'vbp', 'vbn', 'in', 'jj', 'nn', 'cc', 'dt', 'vbz', 'rb', 'prp$', 'nn', 'jj', 'vbp', 'vbn', 'nn', 'in', 'prp', 'vbp', 'vbn', 'prp', 'vbd', 'in', 'prp$', 'fw', 'fw', 'vbd', 'prp', 'vbp', 'rb', 'in', 'dt', 'nn', 'in', 'dt', 'nnp', 'nn', 'cc', 'dt', 'nnp', 'nnp', 'vbz', 'prp$', 'nn', 'dt', 'nn', 'rb', 'md', 'vb', 'dt', 'nn', 'vbd', 'dt', 'vb', 'prp$', 'nn', 'nn', 'in', 'dt', 'nn', 'prp$', 'nn', 'rb', 'in', 'wdt', 'vbz', 'vbn', 'in', 'nn', 'nn', 'in', 'dt', 'jj', 'nn', 'in', 'nn', 'prp', 'vbp', 'nn', 'in', 'prp', 'wp', 'vbp', 'jj', 'nn', 'cc', 'nn', 'in', 'nn', 'prp', 'vbp', 'prp', 'in', 'prp', 'vbd', 'fw', 'fw', 'prp', 'vbp', 'prp', 'jj', 'cc', 'jj', 'in', 'dt', 'nn', 'in', 'cd', 'fw', 'fw', 'prp$', 'nn', 'vb', 'prp$', 'nn', 'to', 'prp', 'cc', 'nn', 'prp', 'vbp', 'nn', 'prp', 'vbd', 'prp', 'vbp', 'prp', 'vbp', 'in', 'dt', 'nn', 'in', 'dt', 'nns', 'vbd', 'wrb', 'nnp', 'vbd', 'in', 'prp$', 'nn', 'cc', 'in', 'dt', 'nn', 'in', 'prp$', 'nn', 'dt', 'nn', 'in', 'nnp', 'vbd', 'rb', 'to', 'dt', 'nn', 'prp', 'vbp', 'nnp', 'wp', 'nn', 'nnp', 'dt', 'nn', 'prp', 'vbd', 'prp', 'in', 'nnp', 'cc', 'nnp', 'dt', 'nn', 'cc', 'dt', 'nn', 'vbd', 'jj', 'in', 'prp$', 'nn', 'vbd', 'rp', 'nn', 'cc', 'cc', 'in', 'prp', 'prp', 'md', 'rb', 'vb', 'vbn', 'nn', 'prp', 'vbd', 'prp', 'in', 'dt', 'nn', 'cc', 'nn', 'cd', 'cc', 'cd', 'jj', 'nn', 'nn', 'wp', 'vbp', 'prp', 'nnp', 'nnp', 'vbd', 'in', 'dt', 'nn', 'fw', 'fw', 'prp', 'nn', 'cc', 'rb', 'nn', 'prp', 'vbd', 'in', 'dt', 'nn', 'nn', 'prp', 'vbz', 'in', 'dt', 'nn', 'in', 'dt', 'jj', 'nnp', 'nn', 'wp', 'vbz', 'rb', 'rb', 'vbg', 'in', 'dt', 'nn', 'to', 'vb', 'cc', 'prp', 'rb', 'vbd', 'in', 'dt', 'nn', 'nn', 'in', 'dt', 'nns', 'prp$', 'nns', 'rb', 'md', 'vb', 'nn', 'cc', 'nn', 'md', 'rb', 'vb', 'prp', 'vb', 'prp', 'vbd', 'in', 'nn', 'cc', 'in', 'nn', 'prp', 'vbd', 'nn', 'cd', 'cc', 'nn', 'prp', 'vbd', 'fw', 'fw', 'wrb', 'vbp', 'prp', 'vb', 'prp', 'vbp', 'wp', 'vbz', 'prp', 'to', 'vb', 'in', 'dt', 'vbz', 'in', 'nnp', 'cc', 'nnp', 'dt', 'nn', 'prp', 'md', 'vb', 'nn', 'prp', 'vbd', 'nnp', 'in', 'dt', 'nn', 'in', 'prp$', 'fw', 'fw', 'dt', 'nn', 'in', 'nn', 'cc', 'in', 'prp', 'vbd', 'vbn', 'prp$', 'nns', 'cc', 'nn', 'cd', 'cc', 'nnp', 'nn', 'nnp', 'in', 'dt', 'nn', 'in', 'nn', 'wp', 'vbd', 'prp$', 'nn', 'ex', 'vbp', 'jj', 'nns', 'in', 'dt', 'nn', 'prp$', 'fw', 'fw', 'jj', 'vbp', 'vbn', 'dt', 'nn', 'wrb', 'dt', 'nnp', 'vbd', 'prp', 'rp', 'in', 'prp', 'vbd', 'in', 'nn', 'prp', 'vbp', 'vbn', 'dt', 'nns', 'nn', 'cc', 'vbn', 'dt', 'nns', 'vbp', 'in', 'prp$', 'nn', 'cc', 'wrb', 'vbp', 'prp', 'jj', 'nn', 'vbz', 'nn', 'cc', 'dt', 'jj', 'nns', 'vbp', 'prp', 'rp', 'in', 'nn', 'prp', 'vbd', 'dt', 'nns', 'in', 'nn', 'in', 'dt', 'nns', 'in', 'dt', 'nn', 'prp', 'vbd', 'in', 'cc', 'prp', 'vbp', 'vbn', 'nn', 'cd', 'prp', 'vbp', 'nn', 'prp$', 'nn', 'to', 'vb', 'prp', 'dt', 'nn', 'in', 'dt', 'nn'] henry rider haggard \n"
          ],
          "name": "stdout"
        }
      ]
    },
    {
      "cell_type": "code",
      "metadata": {
        "id": "KKUZrPnUTF8F",
        "colab_type": "code",
        "outputId": "29f9a7f1-fe7e-4a7e-f94a-75b2c03c1f89",
        "colab": {
          "base_uri": "https://localhost:8080/",
          "height": 51
        }
      },
      "source": [
        "from sklearn.preprocessing import LabelEncoder, OneHotEncoder\n",
        "\n",
        "# Converting Output values to One Hot Vector\n",
        "print(\"Converting to One hot vector(training set)...\")\n",
        "Y_data = np.array(Y_data)\n",
        "\n",
        "label_encoder = LabelEncoder()\n",
        "train_integer_encoded = label_encoder.fit_transform(Y_data)\n",
        "print(train_integer_encoded)\n"
      ],
      "execution_count": 0,
      "outputs": [
        {
          "output_type": "stream",
          "text": [
            "Converting to One hot vector(training set)...\n",
            "[3 1 0 ... 4 1 4]\n"
          ],
          "name": "stdout"
        }
      ]
    },
    {
      "cell_type": "code",
      "metadata": {
        "id": "Hj0P2-JZTF8N",
        "colab_type": "code",
        "outputId": "2b2fe727-63ed-4b21-f32a-5b7fe4897677",
        "colab": {
          "base_uri": "https://localhost:8080/",
          "height": 34
        }
      },
      "source": [
        "train_onehot_encoded = keras.utils.to_categorical(train_integer_encoded)\n",
        "print(train_onehot_encoded[2824,:])"
      ],
      "execution_count": 0,
      "outputs": [
        {
          "output_type": "stream",
          "text": [
            "[1. 0. 0. 0. 0.]\n"
          ],
          "name": "stdout"
        }
      ]
    },
    {
      "cell_type": "code",
      "metadata": {
        "id": "jbxB-OLHTF8R",
        "colab_type": "code",
        "outputId": "7de35cff-794b-469d-b668-31d42094af12",
        "colab": {
          "base_uri": "https://localhost:8080/",
          "height": 34
        }
      },
      "source": [
        "# prepare tokenizer\n",
        "t = Tokenizer()\n",
        "t.fit_on_texts(X_data)\n",
        "vocab_size = len(t.word_index) + 1\n",
        "print(vocab_size)"
      ],
      "execution_count": 0,
      "outputs": [
        {
          "output_type": "stream",
          "text": [
            "35\n"
          ],
          "name": "stdout"
        }
      ]
    },
    {
      "cell_type": "code",
      "metadata": {
        "id": "7prFqQQhTF8V",
        "colab_type": "code",
        "outputId": "d3b9672c-8aea-4e03-e3f3-4c28fe68aedc",
        "colab": {
          "base_uri": "https://localhost:8080/",
          "height": 54
        }
      },
      "source": [
        "# integer encode the documents\n",
        "encoded_docs = t.texts_to_sequences(X_data)\n",
        "print(encoded_docs[0])"
      ],
      "execution_count": 0,
      "outputs": [
        {
          "output_type": "stream",
          "text": [
            "[14, 9, 2, 11, 16, 14, 2, 4, 1, 7, 3, 19, 8, 12, 1, 4, 16, 14, 1, 2, 6, 16, 14, 6, 5, 2, 12, 10, 10, 5, 6, 16, 8, 2, 3, 1, 2, 3, 9, 1, 7, 3, 9, 9, 19, 12, 1, 3, 1, 8, 18, 13, 3, 1, 5, 3, 13, 12, 1, 1, 2, 3, 1, 12, 1, 8, 2, 20, 19, 14, 2, 1, 1, 2, 3, 4, 1, 2, 1, 6, 16, 1, 2, 6, 22, 16, 4, 1, 7, 1, 2, 1, 6, 16, 6, 2, 6, 5, 10, 10, 6, 16, 6, 4, 7, 4, 2, 3, 1, 2, 21, 10, 10, 12, 1, 13, 12, 1, 15, 6, 7, 1, 6, 16, 1, 6, 5, 6, 16, 6, 16, 2, 3, 1, 2, 3, 11, 5, 23, 9, 5, 2, 12, 1, 7, 2, 3, 1, 2, 12, 1, 3, 1, 2, 9, 5, 8, 15, 3, 1, 6, 16, 9, 22, 1, 9, 3, 1, 6, 5, 6, 2, 9, 7, 9, 3, 1, 7, 3, 1, 5, 4, 2, 12, 1, 5, 24, 1, 7, 7, 2, 6, 6, 18, 8, 13, 14, 1, 6, 5, 6, 2, 3, 1, 7, 1, 21, 7, 21, 4, 1, 1, 22, 16, 6, 9, 9, 5, 2, 3, 1, 10, 10, 6, 1, 7, 8, 1, 6, 5, 2, 3, 1, 1, 6, 19, 2, 3, 1, 2, 3, 4, 9, 1, 22, 19, 8, 8, 17, 2, 3, 1, 15, 13, 7, 6, 8, 5, 2, 3, 1, 1, 2, 3, 11, 12, 11, 8, 18, 13, 1, 7, 1, 18, 8, 13, 6, 13, 6, 5, 2, 1, 7, 2, 1, 6, 5, 1, 21, 7, 1, 6, 5, 10, 10, 23, 16, 6, 13, 6, 16, 22, 19, 6, 15, 13, 2, 3, 19, 2, 9, 7, 9, 3, 1, 6, 18, 13, 1, 6, 5, 9, 2, 3, 1, 2, 12, 10, 10, 3, 1, 2, 1, 7, 2, 6, 5, 14, 12, 11, 7, 1, 21, 7, 9, 1, 9, 2, 3, 1, 2, 1, 22, 5, 12, 1, 26, 16, 4, 11, 2, 3, 1, 12, 10, 10, 4, 16, 14, 3, 1, 23, 3, 9, 5, 6, 24, 2, 6, 5, 2, 1, 6, 16, 14, 3, 11, 1, 7, 14, 3, 11, 16, 2, 12, 1, 7, 23, 16, 6, 4, 1, 19, 1, 7, 3, 4, 11, 16, 6, 24, 2, 1, 6, 5, 3, 11, 2, 1, 2, 3, 11, 2, 3, 1, 6, 5, 2, 7, 6, 16, 14, 1, 21, 6, 16, 1, 12, 1, 15, 13, 6, 3, 1, 2, 3, 1, 2, 1, 1, 2, 3, 1, 1, 3, 4, 1, 22, 5, 14, 9, 3, 1, 7, 2, 12, 1, 2, 1, 3, 32, 4, 2, 9, 9, 6, 19, 4, 7, 6, 16, 8, 2, 4, 10, 10, 2, 6, 16, 15, 13, 1, 6, 18, 13, 1, 13, 12, 1, 12, 1, 2, 6, 16, 4, 15, 13, 3, 19, 1, 7, 8, 4, 23, 6, 16, 2, 9, 3, 11, 16, 2, 3, 1, 20, 19, 24, 12, 4, 11, 2, 1, 16, 6, 13, 22, 6, 16, 12, 1, 6, 16, 8, 13, 6, 16, 2, 6, 16, 3, 4, 4, 1, 14, 9, 2, 11, 16, 14, 2, 4, 1, 7, 3, 19, 8, 12, 1, 4, 16, 14, 1, 2, 6, 16, 14, 6, 5, 2, 12, 10, 10, 5, 6, 16, 8, 2, 3, 1, 2, 3, 9, 1, 7, 3, 9, 9, 19, 12, 1, 3, 1, 8, 18, 13, 3, 1, 5, 3, 13, 12, 1, 1, 2, 3, 1, 12, 1, 8, 2, 20, 19, 14, 2, 1, 1, 2, 3, 4, 1, 2, 1, 6, 16, 1, 2, 6, 22, 16, 4, 1, 7, 1, 2, 1, 6, 16, 6, 2, 6, 5, 10, 10, 6, 16, 6, 4, 7, 4, 2, 3, 1, 2, 21, 10, 10, 12, 1, 13, 12, 1, 15, 6, 7, 1, 6, 16, 1, 6, 5, 6, 16, 6, 16, 2, 3, 1, 2, 3, 11, 5, 23, 9, 5, 2, 12, 1, 7, 2, 3, 1, 2, 12, 1, 3, 1, 2, 9, 5, 8, 15, 3, 1, 6, 16, 9, 22, 1, 9, 3, 1, 6, 5, 6, 2, 9, 7, 9, 3, 1, 7, 3, 1, 5, 4, 2, 12, 1, 5, 24, 1, 7, 7, 2, 6, 6, 18, 8, 13, 14, 1, 6, 5, 6, 2, 3, 1, 7, 1, 21, 7, 21, 4, 1, 1, 22, 16, 6, 9, 9, 5, 2, 3, 1, 10, 10, 6, 1, 7, 8, 1, 6, 5, 2, 3, 1, 1, 6, 19, 2, 3, 1, 2, 3, 4, 9, 1, 22, 19, 8, 8, 17, 2, 3, 1, 15, 13, 7, 6, 8, 5, 2, 3, 1, 1, 2, 3, 11, 12, 11, 8, 18, 13, 1, 7, 1, 18, 8, 13, 6, 13, 6, 5, 2, 1, 7, 2, 1, 6, 5, 1, 21, 7, 1, 6, 5, 10, 10, 23, 16, 6, 13, 6, 16, 22, 19, 6, 15, 13, 2, 3, 19, 2, 9, 7, 9, 3, 1, 6, 18, 13, 1, 6, 5, 9, 2, 3, 1, 2, 12, 10, 10, 3, 1, 2, 1, 7, 2, 6, 5, 14, 12, 11, 7, 1, 21, 7, 9, 1, 9, 2, 3, 1, 2, 1, 22, 5, 12, 1, 26, 16, 4, 11, 2, 3, 1, 12, 10, 10, 4, 16, 14, 3, 1, 23, 3, 9, 5, 6, 24, 2, 6, 5, 2, 1, 6, 16, 14, 3, 11, 1, 7, 14, 3, 11, 16, 2, 12, 1, 7, 23, 16, 6, 4, 1, 19, 1, 7, 3, 4, 11, 16, 6, 24, 2, 1, 6, 5, 3, 11, 2, 1, 2, 3, 11, 2, 3, 1, 6, 5, 2, 7, 6, 16, 14, 1, 21, 6, 16, 1, 12, 1, 15, 13, 6, 3, 1, 2, 3, 1]\n"
          ],
          "name": "stdout"
        }
      ]
    },
    {
      "cell_type": "code",
      "metadata": {
        "id": "b257iTGITF8Y",
        "colab_type": "code",
        "outputId": "4e6ff574-1fcc-496a-879c-f6cd714ef513",
        "colab": {
          "base_uri": "https://localhost:8080/",
          "height": 136
        }
      },
      "source": [
        "# pad documents to a max length of 10000 words\n",
        "max_length = 200\n",
        "padded_docs = pad_sequences(encoded_docs, maxlen=max_length, padding='post')\n",
        "print(padded_docs)"
      ],
      "execution_count": 0,
      "outputs": [
        {
          "output_type": "stream",
          "text": [
            "[[ 8 17  2 ...  2  3  1]\n",
            " [11  5  4 ... 14 15 13]\n",
            " [ 4  1 15 ... 15 13  2]\n",
            " ...\n",
            " [ 3  4  4 ... 11  2 12]\n",
            " [ 7 12  1 ... 30  1  2]\n",
            " [ 1  7  1 ...  5  7  5]]\n"
          ],
          "name": "stdout"
        }
      ]
    },
    {
      "cell_type": "code",
      "metadata": {
        "id": "aSo7eVUCTF8a",
        "colab_type": "code",
        "outputId": "fc70e096-44c3-46d7-e639-b65fbef729da",
        "colab": {
          "base_uri": "https://localhost:8080/",
          "height": 51
        }
      },
      "source": [
        "auth.authenticate_user()\n",
        "gauth = GoogleAuth()\n",
        "gauth.credentials = GoogleCredentials.get_application_default()\n",
        "drive = GoogleDrive(gauth)\n",
        "\n",
        "# choose a local (colab) directory to store the data.\n",
        "local_download_path = os.path.expanduser('~/data')\n",
        "try:\n",
        "  os.makedirs(local_download_path)\n",
        "except: pass\n",
        "\n",
        "# 2. Auto-iterate using the query syntax\n",
        "file_list = drive.ListFile(\n",
        "    {'q': \"'1ogZLyJ5GTI8a0o8HPac8zTtm96SzCv-k' in parents\"}).GetList()\n",
        "print(file_list[0]['title'], file_list[0]['id'] )\n",
        "fname = os.path.join(local_download_path, file_list[0]['title'])\n",
        "f_ = drive.CreateFile({'id': file_list[0]['id']})\n",
        "f_.GetContentFile(fname)\n",
        "\n",
        "\n",
        "# load the whole embedding into memory\n",
        "embeddings_index = dict()\n",
        "f = open(fname)\n",
        "for line in f:\n",
        "\tvalues = line.split()\n",
        "\tword = values[0]\n",
        "\tcoefs = asarray(values[1:], dtype='float32')\n",
        "\tembeddings_index[word] = coefs\n",
        "f.close()\n",
        "print('Loaded %s word vectors.' % len(embeddings_index))"
      ],
      "execution_count": 0,
      "outputs": [
        {
          "output_type": "stream",
          "text": [
            "glove.6B.100d.txt 17BmrNJa4oJDNg3KZ6u2Ww0ETQYklOJJ7\n",
            "Loaded 400000 word vectors.\n"
          ],
          "name": "stdout"
        }
      ]
    },
    {
      "cell_type": "code",
      "metadata": {
        "id": "_nN1rDOFTF8e",
        "colab_type": "code",
        "outputId": "3303fe47-e8d8-424e-bcdf-5706e3aedf0b",
        "colab": {
          "base_uri": "https://localhost:8080/",
          "height": 34
        }
      },
      "source": [
        "# create a weight matrix for words in training docs\n",
        "embedding_matrix = zeros((vocab_size, 100))\n",
        "for word, i in t.word_index.items():\n",
        "\tembedding_vector = embeddings_index.get(word)\n",
        "\tif embedding_vector is not None:\n",
        "\t\tembedding_matrix[i] = embedding_vector\n",
        "print(embedding_matrix.shape)"
      ],
      "execution_count": 0,
      "outputs": [
        {
          "output_type": "stream",
          "text": [
            "(35, 100)\n"
          ],
          "name": "stdout"
        }
      ]
    },
    {
      "cell_type": "code",
      "metadata": {
        "id": "y8Dz3et34WML",
        "colab_type": "code",
        "outputId": "65c9827f-9395-4a16-9ff3-874e85acbf4e",
        "colab": {
          "base_uri": "https://localhost:8080/",
          "height": 102
        }
      },
      "source": [
        "print(padded_docs.shape)\n",
        "doc_train = np.array(padded_docs[0:8000,:])\n",
        "print(doc_train.shape)\n",
        "doc_test = np.array(padded_docs[8000:,:])\n",
        "print(doc_test.shape)\n",
        "\n",
        "onehot_train = np.array(train_onehot_encoded[0:8000,:])\n",
        "print(onehot_train.shape)\n",
        "onehot_test = np.array(train_onehot_encoded[8000:,:])\n",
        "print(onehot_test.shape)"
      ],
      "execution_count": 0,
      "outputs": [
        {
          "output_type": "stream",
          "text": [
            "(11163, 200)\n",
            "(8000, 200)\n",
            "(3163, 200)\n",
            "(8000, 5)\n",
            "(3163, 5)\n"
          ],
          "name": "stdout"
        }
      ]
    },
    {
      "cell_type": "code",
      "metadata": {
        "id": "EWmPP-IzTF8l",
        "colab_type": "code",
        "colab": {}
      },
      "source": [
        "# define model\n",
        "model = Sequential()\n",
        "e = Embedding(vocab_size, 100, weights=[embedding_matrix], input_length=200, trainable=False)\n",
        "model.add(e)\n",
        "#model.add(Conv1D(32, 3, border_mode='valid'))\n",
        "#model.add(Conv1D(64, 3, border_mode='valid'))\n",
        "model.add(LSTM(512, activation='tanh', return_sequences=False))\n",
        "\n",
        "#model.add(GlobalAveragePooling1D())\n",
        "\n",
        "#model.add(Dropout(0.3))\n",
        "#model.add(Flatten())\n",
        "#model.add(Dense(5000, activation='relu'))\n",
        "#model.add(Dropout(0.1))\n",
        "\n",
        "\n",
        "#model.add(Dense(1000, activation='relu'))\n",
        "#model.add(Dropout(0.2))\n",
        "model.add(Dropout(0.6))\n",
        "\n",
        "model.add(Dense(500, activation='relu', kernel_initializer='glorot_uniform'))\n",
        "model.add(Dropout(0.6))\n",
        "\n",
        "\n",
        "\n",
        "\n",
        "model.add(Dense(5, activation='softmax'))\n",
        "#model.add(TimeDistributed(Dense(100, activation='softmax')))"
      ],
      "execution_count": 0,
      "outputs": []
    },
    {
      "cell_type": "code",
      "metadata": {
        "id": "CIk5mMJQTF8p",
        "colab_type": "code",
        "colab": {}
      },
      "source": [
        "# compile the model\n",
        "num_of_epochs = 100\n",
        "batchsize = 64\n",
        "model.compile(optimizer='rmsprop', loss='categorical_crossentropy', metrics=['categorical_accuracy'])"
      ],
      "execution_count": 0,
      "outputs": []
    },
    {
      "cell_type": "code",
      "metadata": {
        "id": "3Lutt8EmTF8t",
        "colab_type": "code",
        "outputId": "7030eccf-0cd8-4fd0-8bcc-7fe940ade728",
        "colab": {
          "base_uri": "https://localhost:8080/",
          "height": 357
        }
      },
      "source": [
        "# summarize the model\n",
        "print(model.summary())"
      ],
      "execution_count": 0,
      "outputs": [
        {
          "output_type": "stream",
          "text": [
            "_________________________________________________________________\n",
            "Layer (type)                 Output Shape              Param #   \n",
            "=================================================================\n",
            "embedding_5 (Embedding)      (None, 200, 100)          3500      \n",
            "_________________________________________________________________\n",
            "lstm_5 (LSTM)                (None, 512)               1255424   \n",
            "_________________________________________________________________\n",
            "dropout_9 (Dropout)          (None, 512)               0         \n",
            "_________________________________________________________________\n",
            "dense_9 (Dense)              (None, 500)               256500    \n",
            "_________________________________________________________________\n",
            "dropout_10 (Dropout)         (None, 500)               0         \n",
            "_________________________________________________________________\n",
            "dense_10 (Dense)             (None, 5)                 2505      \n",
            "=================================================================\n",
            "Total params: 1,517,929\n",
            "Trainable params: 1,514,429\n",
            "Non-trainable params: 3,500\n",
            "_________________________________________________________________\n",
            "None\n"
          ],
          "name": "stdout"
        }
      ]
    },
    {
      "cell_type": "code",
      "metadata": {
        "id": "IKTu5uBWTF8-",
        "colab_type": "code",
        "colab": {}
      },
      "source": [
        "checkpointer = ModelCheckpoint(filepath='/content/weights.best.RNN_pos.hdf5', \n",
        "                              verbose=1, save_best_only=True)"
      ],
      "execution_count": 0,
      "outputs": []
    },
    {
      "cell_type": "code",
      "metadata": {
        "id": "zI3W8C-1TF9G",
        "colab_type": "code",
        "outputId": "08827a58-1e7e-4764-ace7-2e16ae1cfe08",
        "colab": {
          "base_uri": "https://localhost:8080/",
          "height": 6854
        }
      },
      "source": [
        "# fit the model\n",
        "history = model.fit(doc_train, onehot_train, epochs=num_of_epochs, verbose=1, batch_size=batchsize, validation_split=0.2, callbacks=[checkpointer])"
      ],
      "execution_count": 0,
      "outputs": [
        {
          "output_type": "stream",
          "text": [
            "Train on 6400 samples, validate on 1600 samples\n",
            "Epoch 1/100\n",
            "6400/6400 [==============================] - 54s 8ms/step - loss: 1.5851 - categorical_accuracy: 0.2878 - val_loss: 1.5524 - val_categorical_accuracy: 0.3287\n",
            "\n",
            "Epoch 00001: val_loss improved from inf to 1.55240, saving model to /content/weights.best.RNN_pos.hdf5\n",
            "Epoch 2/100\n",
            "6400/6400 [==============================] - 53s 8ms/step - loss: 1.5556 - categorical_accuracy: 0.3219 - val_loss: 1.5354 - val_categorical_accuracy: 0.3225\n",
            "\n",
            "Epoch 00002: val_loss improved from 1.55240 to 1.53540, saving model to /content/weights.best.RNN_pos.hdf5\n",
            "Epoch 3/100\n",
            "3520/6400 [===============>..............] - ETA: 22s - loss: 1.5257 - categorical_accuracy: 0.3301"
          ],
          "name": "stdout"
        },
        {
          "output_type": "stream",
          "text": [
            "6400/6400 [==============================] - 53s 8ms/step - loss: 1.5149 - categorical_accuracy: 0.3430 - val_loss: 1.4801 - val_categorical_accuracy: 0.3550\n",
            "\n",
            "Epoch 00003: val_loss improved from 1.53540 to 1.48007, saving model to /content/weights.best.RNN_pos.hdf5\n",
            "Epoch 4/100\n",
            "6400/6400 [==============================] - 53s 8ms/step - loss: 1.4736 - categorical_accuracy: 0.3750 - val_loss: 1.4101 - val_categorical_accuracy: 0.3812\n",
            "\n",
            "Epoch 00004: val_loss improved from 1.48007 to 1.41006, saving model to /content/weights.best.RNN_pos.hdf5\n",
            "Epoch 5/100\n",
            "5504/6400 [========================>.....] - ETA: 7s - loss: 1.4463 - categorical_accuracy: 0.4053"
          ],
          "name": "stdout"
        },
        {
          "output_type": "stream",
          "text": [
            "6400/6400 [==============================] - 54s 8ms/step - loss: 1.4380 - categorical_accuracy: 0.4072 - val_loss: 1.3707 - val_categorical_accuracy: 0.4163\n",
            "\n",
            "Epoch 00005: val_loss improved from 1.41006 to 1.37071, saving model to /content/weights.best.RNN_pos.hdf5\n",
            "Epoch 6/100\n",
            "6400/6400 [==============================] - 53s 8ms/step - loss: 1.3791 - categorical_accuracy: 0.4403 - val_loss: 1.2937 - val_categorical_accuracy: 0.4481\n",
            "\n",
            "Epoch 00006: val_loss improved from 1.37071 to 1.29374, saving model to /content/weights.best.RNN_pos.hdf5\n",
            "Epoch 7/100\n",
            "5824/6400 [==========================>...] - ETA: 4s - loss: 1.3079 - categorical_accuracy: 0.4820"
          ],
          "name": "stdout"
        },
        {
          "output_type": "stream",
          "text": [
            "6400/6400 [==============================] - 53s 8ms/step - loss: 1.3210 - categorical_accuracy: 0.4769 - val_loss: 1.4290 - val_categorical_accuracy: 0.4156\n",
            "\n",
            "Epoch 00007: val_loss did not improve\n",
            "Epoch 8/100\n",
            "6400/6400 [==============================] - 53s 8ms/step - loss: 1.2412 - categorical_accuracy: 0.5314 - val_loss: 1.1607 - val_categorical_accuracy: 0.5575\n",
            "\n",
            "Epoch 00008: val_loss improved from 1.29374 to 1.16073, saving model to /content/weights.best.RNN_pos.hdf5\n",
            "Epoch 9/100\n",
            "6400/6400 [==============================] - 53s 8ms/step - loss: 1.1676 - categorical_accuracy: 0.5673 - val_loss: 1.2774 - val_categorical_accuracy: 0.5369\n",
            "\n",
            "Epoch 00009: val_loss did not improve\n",
            "Epoch 10/100\n",
            " 640/6400 [==>...........................] - ETA: 46s - loss: 1.1258 - categorical_accuracy: 0.5828"
          ],
          "name": "stdout"
        },
        {
          "output_type": "stream",
          "text": [
            "6400/6400 [==============================] - 53s 8ms/step - loss: 1.1143 - categorical_accuracy: 0.6002 - val_loss: 1.2313 - val_categorical_accuracy: 0.5413\n",
            "\n",
            "Epoch 00010: val_loss did not improve\n",
            "Epoch 11/100\n",
            "6400/6400 [==============================] - 53s 8ms/step - loss: 0.9320 - categorical_accuracy: 0.6637 - val_loss: 0.8070 - val_categorical_accuracy: 0.7200\n",
            "\n",
            "Epoch 00011: val_loss improved from 1.16073 to 0.80702, saving model to /content/weights.best.RNN_pos.hdf5\n",
            "Epoch 12/100\n",
            "6400/6400 [==============================] - 53s 8ms/step - loss: 0.7394 - categorical_accuracy: 0.7434 - val_loss: 0.5898 - val_categorical_accuracy: 0.7987\n"
          ],
          "name": "stdout"
        },
        {
          "output_type": "stream",
          "text": [
            "\n",
            "Epoch 00012: val_loss improved from 0.80702 to 0.58976, saving model to /content/weights.best.RNN_pos.hdf5\n",
            "Epoch 13/100\n",
            "6400/6400 [==============================] - 52s 8ms/step - loss: 0.6494 - categorical_accuracy: 0.7837 - val_loss: 0.6515 - val_categorical_accuracy: 0.7944\n",
            "\n",
            "Epoch 00013: val_loss did not improve\n",
            "Epoch 14/100\n",
            "6400/6400 [==============================] - 53s 8ms/step - loss: 0.4903 - categorical_accuracy: 0.8447 - val_loss: 0.3051 - val_categorical_accuracy: 0.9087\n",
            "\n",
            "Epoch 00014: val_loss improved from 0.58976 to 0.30506, saving model to /content/weights.best.RNN_pos.hdf5\n",
            "Epoch 15/100\n",
            "3008/6400 [=============>................] - ETA: 26s - loss: 0.3849 - categorical_accuracy: 0.8863"
          ],
          "name": "stdout"
        },
        {
          "output_type": "stream",
          "text": [
            "6400/6400 [==============================] - 53s 8ms/step - loss: 0.3564 - categorical_accuracy: 0.8937 - val_loss: 0.2785 - val_categorical_accuracy: 0.9219\n",
            "\n",
            "Epoch 00015: val_loss improved from 0.30506 to 0.27847, saving model to /content/weights.best.RNN_pos.hdf5\n",
            "Epoch 16/100\n",
            "6400/6400 [==============================] - 53s 8ms/step - loss: 0.2664 - categorical_accuracy: 0.9177 - val_loss: 0.3334 - val_categorical_accuracy: 0.9031\n",
            "\n",
            "Epoch 00016: val_loss did not improve\n",
            "Epoch 17/100\n",
            "6080/6400 [===========================>..] - ETA: 2s - loss: 0.2216 - categorical_accuracy: 0.9410"
          ],
          "name": "stdout"
        },
        {
          "output_type": "stream",
          "text": [
            "6400/6400 [==============================] - 52s 8ms/step - loss: 0.2173 - categorical_accuracy: 0.9422 - val_loss: 0.2940 - val_categorical_accuracy: 0.9387\n",
            "\n",
            "Epoch 00017: val_loss did not improve\n",
            "Epoch 18/100\n",
            "6400/6400 [==============================] - 52s 8ms/step - loss: 0.2044 - categorical_accuracy: 0.9448 - val_loss: 0.1589 - val_categorical_accuracy: 0.9625\n",
            "\n",
            "Epoch 00018: val_loss improved from 0.27847 to 0.15891, saving model to /content/weights.best.RNN_pos.hdf5\n",
            "Epoch 19/100\n",
            "6400/6400 [==============================] - 53s 8ms/step - loss: 0.1556 - categorical_accuracy: 0.9617 - val_loss: 0.1261 - val_categorical_accuracy: 0.9706\n",
            "\n",
            "Epoch 00019: val_loss improved from 0.15891 to 0.12608, saving model to /content/weights.best.RNN_pos.hdf5\n",
            "Epoch 20/100\n",
            " 576/6400 [=>............................] - ETA: 44s - loss: 0.0834 - categorical_accuracy: 0.9826"
          ],
          "name": "stdout"
        },
        {
          "output_type": "stream",
          "text": [
            "6400/6400 [==============================] - 53s 8ms/step - loss: 0.1195 - categorical_accuracy: 0.9689 - val_loss: 0.1186 - val_categorical_accuracy: 0.9725\n",
            "\n",
            "Epoch 00020: val_loss improved from 0.12608 to 0.11857, saving model to /content/weights.best.RNN_pos.hdf5\n",
            "Epoch 21/100\n",
            "6400/6400 [==============================] - 53s 8ms/step - loss: 0.1035 - categorical_accuracy: 0.9752 - val_loss: 0.0916 - val_categorical_accuracy: 0.9881\n",
            "\n",
            "Epoch 00021: val_loss improved from 0.11857 to 0.09159, saving model to /content/weights.best.RNN_pos.hdf5\n",
            "Epoch 22/100\n",
            "5056/6400 [======================>.......] - ETA: 10s - loss: 0.1586 - categorical_accuracy: 0.9745"
          ],
          "name": "stdout"
        },
        {
          "output_type": "stream",
          "text": [
            "6400/6400 [==============================] - 53s 8ms/step - loss: 0.1524 - categorical_accuracy: 0.9731 - val_loss: 0.0501 - val_categorical_accuracy: 0.9831\n",
            "\n",
            "Epoch 00022: val_loss improved from 0.09159 to 0.05013, saving model to /content/weights.best.RNN_pos.hdf5\n",
            "Epoch 23/100\n",
            "6400/6400 [==============================] - 53s 8ms/step - loss: 0.1005 - categorical_accuracy: 0.9789 - val_loss: 0.0489 - val_categorical_accuracy: 0.9894\n",
            "\n",
            "Epoch 00023: val_loss improved from 0.05013 to 0.04889, saving model to /content/weights.best.RNN_pos.hdf5\n",
            "Epoch 24/100\n",
            "5696/6400 [=========================>....] - ETA: 5s - loss: 0.0734 - categorical_accuracy: 0.9828"
          ],
          "name": "stdout"
        },
        {
          "output_type": "stream",
          "text": [
            "6400/6400 [==============================] - 53s 8ms/step - loss: 0.0812 - categorical_accuracy: 0.9817 - val_loss: 0.1112 - val_categorical_accuracy: 0.9756\n",
            "\n",
            "Epoch 00024: val_loss did not improve\n",
            "Epoch 25/100\n",
            "6400/6400 [==============================] - 53s 8ms/step - loss: 0.0710 - categorical_accuracy: 0.9828 - val_loss: 0.0857 - val_categorical_accuracy: 0.9825\n",
            "\n",
            "Epoch 00025: val_loss did not improve\n",
            "Epoch 26/100\n",
            "6400/6400 [==============================] - 53s 8ms/step - loss: 0.0692 - categorical_accuracy: 0.9842 - val_loss: 0.0514 - val_categorical_accuracy: 0.9844\n",
            "\n",
            "Epoch 00026: val_loss did not improve\n",
            "Epoch 27/100\n",
            "1280/6400 [=====>........................] - ETA: 39s - loss: 0.0827 - categorical_accuracy: 0.9773"
          ],
          "name": "stdout"
        },
        {
          "output_type": "stream",
          "text": [
            "6400/6400 [==============================] - 53s 8ms/step - loss: 0.0571 - categorical_accuracy: 0.9873 - val_loss: 0.0540 - val_categorical_accuracy: 0.9894\n",
            "\n",
            "Epoch 00027: val_loss did not improve\n",
            "Epoch 28/100\n",
            "6400/6400 [==============================] - 53s 8ms/step - loss: 0.0763 - categorical_accuracy: 0.9836 - val_loss: 0.0380 - val_categorical_accuracy: 0.9906\n",
            "\n",
            "Epoch 00028: val_loss improved from 0.04889 to 0.03801, saving model to /content/weights.best.RNN_pos.hdf5\n",
            "Epoch 29/100\n",
            "6400/6400 [==============================] - 53s 8ms/step - loss: 0.0460 - categorical_accuracy: 0.9894 - val_loss: 0.7609 - val_categorical_accuracy: 0.9231\n",
            "\n",
            "Epoch 00029: val_loss did not improve\n",
            "Epoch 30/100\n"
          ],
          "name": "stdout"
        },
        {
          "output_type": "stream",
          "text": [
            "6400/6400 [==============================] - 53s 8ms/step - loss: 0.0775 - categorical_accuracy: 0.9859 - val_loss: 0.0861 - val_categorical_accuracy: 0.9838\n",
            "\n",
            "Epoch 00030: val_loss did not improve\n",
            "Epoch 31/100\n",
            "6400/6400 [==============================] - 53s 8ms/step - loss: 0.0386 - categorical_accuracy: 0.9917 - val_loss: 0.0598 - val_categorical_accuracy: 0.9919\n",
            "\n",
            "Epoch 00031: val_loss did not improve\n",
            "Epoch 32/100\n",
            "6400/6400 [==============================] - 53s 8ms/step - loss: 0.0449 - categorical_accuracy: 0.9909 - val_loss: 0.0670 - val_categorical_accuracy: 0.9906\n",
            "\n",
            "Epoch 00032: val_loss did not improve\n",
            "Epoch 33/100\n",
            " 512/6400 [=>............................] - ETA: 45s - loss: 0.0351 - categorical_accuracy: 0.9922"
          ],
          "name": "stdout"
        },
        {
          "output_type": "stream",
          "text": [
            "6400/6400 [==============================] - 53s 8ms/step - loss: 0.0888 - categorical_accuracy: 0.9856 - val_loss: 0.1560 - val_categorical_accuracy: 0.9800\n",
            "\n",
            "Epoch 00033: val_loss did not improve\n",
            "Epoch 34/100\n",
            "6400/6400 [==============================] - 53s 8ms/step - loss: 0.0355 - categorical_accuracy: 0.9931 - val_loss: 0.1906 - val_categorical_accuracy: 0.9700\n",
            "\n",
            "Epoch 00034: val_loss did not improve\n",
            "Epoch 35/100\n",
            "6400/6400 [==============================] - 53s 8ms/step - loss: 0.0588 - categorical_accuracy: 0.9908 - val_loss: 0.0683 - val_categorical_accuracy: 0.9888\n",
            "\n",
            "Epoch 00035: val_loss did not improve\n",
            "Epoch 36/100\n",
            " 576/6400 [=>............................] - ETA: 45s - loss: 0.0167 - categorical_accuracy: 0.9948"
          ],
          "name": "stdout"
        },
        {
          "output_type": "stream",
          "text": [
            "6400/6400 [==============================] - 53s 8ms/step - loss: 0.0525 - categorical_accuracy: 0.9911 - val_loss: 0.0378 - val_categorical_accuracy: 0.9938\n",
            "\n",
            "Epoch 00036: val_loss improved from 0.03801 to 0.03783, saving model to /content/weights.best.RNN_pos.hdf5\n",
            "Epoch 37/100\n",
            "6400/6400 [==============================] - 53s 8ms/step - loss: 0.0475 - categorical_accuracy: 0.9920 - val_loss: 0.0369 - val_categorical_accuracy: 0.9925\n",
            "\n",
            "Epoch 00037: val_loss improved from 0.03783 to 0.03690, saving model to /content/weights.best.RNN_pos.hdf5\n",
            "Epoch 38/100\n",
            "5056/6400 [======================>.......] - ETA: 10s - loss: 0.0362 - categorical_accuracy: 0.9921"
          ],
          "name": "stdout"
        },
        {
          "output_type": "stream",
          "text": [
            "6400/6400 [==============================] - 53s 8ms/step - loss: 0.0470 - categorical_accuracy: 0.9902 - val_loss: 0.0841 - val_categorical_accuracy: 0.9888\n",
            "\n",
            "Epoch 00038: val_loss did not improve\n",
            "Epoch 39/100\n",
            "6400/6400 [==============================] - 53s 8ms/step - loss: 0.0600 - categorical_accuracy: 0.9919 - val_loss: 0.0641 - val_categorical_accuracy: 0.9919\n",
            "\n",
            "Epoch 00039: val_loss did not improve\n",
            "Epoch 40/100\n",
            "6400/6400 [==============================] - 53s 8ms/step - loss: 0.0417 - categorical_accuracy: 0.9931 - val_loss: 0.0654 - val_categorical_accuracy: 0.9925\n",
            "\n",
            "Epoch 00040: val_loss did not improve\n",
            "Epoch 41/100\n",
            "1152/6400 [====>.........................] - ETA: 41s - loss: 0.0237 - categorical_accuracy: 0.9948"
          ],
          "name": "stdout"
        },
        {
          "output_type": "stream",
          "text": [
            "6400/6400 [==============================] - 53s 8ms/step - loss: 0.0288 - categorical_accuracy: 0.9955 - val_loss: 0.1010 - val_categorical_accuracy: 0.9881\n",
            "\n",
            "Epoch 00041: val_loss did not improve\n",
            "Epoch 42/100\n",
            "6400/6400 [==============================] - 53s 8ms/step - loss: 0.0395 - categorical_accuracy: 0.9934 - val_loss: 0.0495 - val_categorical_accuracy: 0.9919\n",
            "\n",
            "Epoch 00042: val_loss did not improve\n",
            "Epoch 43/100\n",
            "6400/6400 [==============================] - 53s 8ms/step - loss: 0.0556 - categorical_accuracy: 0.9923 - val_loss: 0.0988 - val_categorical_accuracy: 0.9862\n",
            "\n",
            "Epoch 00043: val_loss did not improve\n",
            "Epoch 44/100\n",
            " 640/6400 [==>...........................] - ETA: 44s - loss: 0.0021 - categorical_accuracy: 0.9984"
          ],
          "name": "stdout"
        },
        {
          "output_type": "stream",
          "text": [
            "6400/6400 [==============================] - 53s 8ms/step - loss: 0.0377 - categorical_accuracy: 0.9945 - val_loss: 0.0571 - val_categorical_accuracy: 0.9931\n",
            "\n",
            "Epoch 00044: val_loss did not improve\n",
            "Epoch 45/100\n",
            "6400/6400 [==============================] - 53s 8ms/step - loss: 0.0398 - categorical_accuracy: 0.9930 - val_loss: 0.0509 - val_categorical_accuracy: 0.9944\n",
            "\n",
            "Epoch 00045: val_loss did not improve\n",
            "Epoch 46/100\n",
            "6400/6400 [==============================] - 53s 8ms/step - loss: 0.0841 - categorical_accuracy: 0.9897 - val_loss: 0.0587 - val_categorical_accuracy: 0.9938\n",
            "\n",
            "Epoch 00046: val_loss did not improve\n",
            "Epoch 47/100\n",
            " 576/6400 [=>............................] - ETA: 44s - loss: 0.0410 - categorical_accuracy: 0.9948"
          ],
          "name": "stdout"
        },
        {
          "output_type": "stream",
          "text": [
            "6400/6400 [==============================] - 53s 8ms/step - loss: 0.0354 - categorical_accuracy: 0.9950 - val_loss: 0.0896 - val_categorical_accuracy: 0.9831\n",
            "\n",
            "Epoch 00047: val_loss did not improve\n",
            "Epoch 48/100\n",
            "6400/6400 [==============================] - 54s 8ms/step - loss: 0.0510 - categorical_accuracy: 0.9931 - val_loss: 0.0536 - val_categorical_accuracy: 0.9931\n",
            "\n",
            "Epoch 00048: val_loss did not improve\n",
            "Epoch 49/100\n",
            "6400/6400 [==============================] - 53s 8ms/step - loss: 0.0339 - categorical_accuracy: 0.9947 - val_loss: 0.0638 - val_categorical_accuracy: 0.9931\n",
            "\n",
            "Epoch 00049: val_loss did not improve\n",
            "Epoch 50/100\n",
            " 576/6400 [=>............................] - ETA: 45s - loss: 0.0019 - categorical_accuracy: 1.0000"
          ],
          "name": "stdout"
        },
        {
          "output_type": "stream",
          "text": [
            "6400/6400 [==============================] - 53s 8ms/step - loss: 0.0303 - categorical_accuracy: 0.9961 - val_loss: 0.0476 - val_categorical_accuracy: 0.9931\n",
            "\n",
            "Epoch 00050: val_loss did not improve\n",
            "Epoch 51/100\n",
            "6400/6400 [==============================] - 53s 8ms/step - loss: 0.0264 - categorical_accuracy: 0.9963 - val_loss: 0.0682 - val_categorical_accuracy: 0.9931\n",
            "\n",
            "Epoch 00051: val_loss did not improve\n",
            "Epoch 52/100\n",
            "6400/6400 [==============================] - 53s 8ms/step - loss: 0.0213 - categorical_accuracy: 0.9967 - val_loss: 0.0539 - val_categorical_accuracy: 0.9950\n",
            "\n",
            "Epoch 00052: val_loss did not improve\n",
            "Epoch 53/100\n",
            " 512/6400 [=>............................] - ETA: 46s - loss: 0.0069 - categorical_accuracy: 0.9980"
          ],
          "name": "stdout"
        },
        {
          "output_type": "stream",
          "text": [
            "6400/6400 [==============================] - 53s 8ms/step - loss: 0.0537 - categorical_accuracy: 0.9944 - val_loss: 0.1264 - val_categorical_accuracy: 0.9875\n",
            "\n",
            "Epoch 00053: val_loss did not improve\n",
            "Epoch 54/100\n",
            "6400/6400 [==============================] - 53s 8ms/step - loss: 0.0654 - categorical_accuracy: 0.9920 - val_loss: 0.0651 - val_categorical_accuracy: 0.9919\n",
            "\n",
            "Epoch 00054: val_loss did not improve\n",
            "Epoch 55/100\n",
            "6400/6400 [==============================] - 53s 8ms/step - loss: 0.0233 - categorical_accuracy: 0.9977 - val_loss: 0.0831 - val_categorical_accuracy: 0.9894\n",
            "\n",
            "Epoch 00055: val_loss did not improve\n",
            "Epoch 56/100\n",
            " 576/6400 [=>............................] - ETA: 44s - loss: 0.0200 - categorical_accuracy: 0.9931"
          ],
          "name": "stdout"
        },
        {
          "output_type": "stream",
          "text": [
            "6400/6400 [==============================] - 53s 8ms/step - loss: 0.0496 - categorical_accuracy: 0.9936 - val_loss: 0.0746 - val_categorical_accuracy: 0.9931\n",
            "\n",
            "Epoch 00056: val_loss did not improve\n",
            "Epoch 57/100\n",
            "6400/6400 [==============================] - 53s 8ms/step - loss: 0.0242 - categorical_accuracy: 0.9970 - val_loss: 0.0531 - val_categorical_accuracy: 0.9944\n",
            "\n",
            "Epoch 00057: val_loss did not improve\n",
            "Epoch 58/100\n",
            "6400/6400 [==============================] - 52s 8ms/step - loss: 0.0454 - categorical_accuracy: 0.9934 - val_loss: 0.0941 - val_categorical_accuracy: 0.9881\n",
            "\n",
            "Epoch 00058: val_loss did not improve\n",
            "Epoch 59/100\n",
            " 576/6400 [=>............................] - ETA: 45s - loss: 0.0348 - categorical_accuracy: 0.9965"
          ],
          "name": "stdout"
        },
        {
          "output_type": "stream",
          "text": [
            "6400/6400 [==============================] - 53s 8ms/step - loss: 0.0281 - categorical_accuracy: 0.9958 - val_loss: 0.0514 - val_categorical_accuracy: 0.9962\n",
            "\n",
            "Epoch 00059: val_loss did not improve\n",
            "Epoch 60/100\n",
            "6400/6400 [==============================] - 53s 8ms/step - loss: 0.0476 - categorical_accuracy: 0.9948 - val_loss: 0.0552 - val_categorical_accuracy: 0.9950\n",
            "\n",
            "Epoch 00060: val_loss did not improve\n",
            "Epoch 61/100\n",
            "6400/6400 [==============================] - 53s 8ms/step - loss: 0.0221 - categorical_accuracy: 0.9970 - val_loss: 0.0501 - val_categorical_accuracy: 0.9969\n",
            "\n",
            "Epoch 00061: val_loss did not improve\n",
            "Epoch 62/100\n",
            " 576/6400 [=>............................] - ETA: 44s - loss: 0.0531 - categorical_accuracy: 0.9948"
          ],
          "name": "stdout"
        },
        {
          "output_type": "stream",
          "text": [
            "6400/6400 [==============================] - 52s 8ms/step - loss: 0.0395 - categorical_accuracy: 0.9947 - val_loss: 0.1231 - val_categorical_accuracy: 0.9888\n",
            "\n",
            "Epoch 00062: val_loss did not improve\n",
            "Epoch 63/100\n",
            "6400/6400 [==============================] - 53s 8ms/step - loss: 0.0302 - categorical_accuracy: 0.9966 - val_loss: 0.0528 - val_categorical_accuracy: 0.9950\n",
            "\n",
            "Epoch 00063: val_loss did not improve\n",
            "Epoch 64/100\n",
            "6400/6400 [==============================] - 53s 8ms/step - loss: 0.0691 - categorical_accuracy: 0.9920 - val_loss: 0.0442 - val_categorical_accuracy: 0.9956\n",
            "\n",
            "Epoch 00064: val_loss did not improve\n",
            "Epoch 65/100\n",
            " 576/6400 [=>............................] - ETA: 45s - loss: 0.1325 - categorical_accuracy: 0.9844"
          ],
          "name": "stdout"
        },
        {
          "output_type": "stream",
          "text": [
            "6400/6400 [==============================] - 53s 8ms/step - loss: 0.0432 - categorical_accuracy: 0.9942 - val_loss: 0.0669 - val_categorical_accuracy: 0.9931\n",
            "\n",
            "Epoch 00065: val_loss did not improve\n",
            "Epoch 66/100\n",
            "6400/6400 [==============================] - 53s 8ms/step - loss: 0.0291 - categorical_accuracy: 0.9966 - val_loss: 0.0688 - val_categorical_accuracy: 0.9931\n",
            "\n",
            "Epoch 00066: val_loss did not improve\n",
            "Epoch 67/100\n",
            "6400/6400 [==============================] - 53s 8ms/step - loss: 0.0582 - categorical_accuracy: 0.9925 - val_loss: 0.1105 - val_categorical_accuracy: 0.9894\n",
            "\n",
            "Epoch 00067: val_loss did not improve\n",
            "Epoch 68/100\n",
            " 576/6400 [=>............................] - ETA: 46s - loss: 0.0494 - categorical_accuracy: 0.9913"
          ],
          "name": "stdout"
        },
        {
          "output_type": "stream",
          "text": [
            "6400/6400 [==============================] - 53s 8ms/step - loss: 0.0368 - categorical_accuracy: 0.9947 - val_loss: 0.0569 - val_categorical_accuracy: 0.9925\n",
            "\n",
            "Epoch 00068: val_loss did not improve\n",
            "Epoch 69/100\n",
            "6400/6400 [==============================] - 53s 8ms/step - loss: 0.0548 - categorical_accuracy: 0.9933 - val_loss: 0.0644 - val_categorical_accuracy: 0.9919\n",
            "\n",
            "Epoch 00069: val_loss did not improve\n",
            "Epoch 70/100\n",
            "6400/6400 [==============================] - 53s 8ms/step - loss: 0.0296 - categorical_accuracy: 0.9955 - val_loss: 0.0955 - val_categorical_accuracy: 0.9881\n",
            "\n",
            "Epoch 00070: val_loss did not improve\n",
            "Epoch 71/100\n",
            " 576/6400 [=>............................] - ETA: 45s - loss: 0.0564 - categorical_accuracy: 0.9965"
          ],
          "name": "stdout"
        },
        {
          "output_type": "stream",
          "text": [
            "6400/6400 [==============================] - 53s 8ms/step - loss: 0.0448 - categorical_accuracy: 0.9942 - val_loss: 0.0666 - val_categorical_accuracy: 0.9900\n",
            "\n",
            "Epoch 00071: val_loss did not improve\n",
            "Epoch 72/100\n",
            "6400/6400 [==============================] - 53s 8ms/step - loss: 0.0257 - categorical_accuracy: 0.9958 - val_loss: 0.0364 - val_categorical_accuracy: 0.9938\n",
            "\n",
            "Epoch 00072: val_loss improved from 0.03690 to 0.03643, saving model to /content/weights.best.RNN_pos.hdf5\n",
            "Epoch 73/100\n",
            "6400/6400 [==============================] - 53s 8ms/step - loss: 0.0295 - categorical_accuracy: 0.9956 - val_loss: 0.0402 - val_categorical_accuracy: 0.9969\n"
          ],
          "name": "stdout"
        },
        {
          "output_type": "stream",
          "text": [
            "\n",
            "Epoch 00073: val_loss did not improve\n",
            "Epoch 74/100\n",
            "6400/6400 [==============================] - 53s 8ms/step - loss: 0.0267 - categorical_accuracy: 0.9964 - val_loss: 0.0680 - val_categorical_accuracy: 0.9931\n",
            "\n",
            "Epoch 00074: val_loss did not improve\n",
            "Epoch 75/100\n",
            "6400/6400 [==============================] - 53s 8ms/step - loss: 0.0397 - categorical_accuracy: 0.9958 - val_loss: 0.0749 - val_categorical_accuracy: 0.9931\n",
            "\n",
            "Epoch 00075: val_loss did not improve\n",
            "Epoch 76/100\n",
            "5312/6400 [=======================>......] - ETA: 8s - loss: 0.0231 - categorical_accuracy: 0.9968"
          ],
          "name": "stdout"
        },
        {
          "output_type": "stream",
          "text": [
            "6400/6400 [==============================] - 53s 8ms/step - loss: 0.0200 - categorical_accuracy: 0.9972 - val_loss: 0.0887 - val_categorical_accuracy: 0.9912\n",
            "\n",
            "Epoch 00076: val_loss did not improve\n",
            "Epoch 77/100\n",
            "6400/6400 [==============================] - 53s 8ms/step - loss: 0.0191 - categorical_accuracy: 0.9977 - val_loss: 0.0598 - val_categorical_accuracy: 0.9938\n",
            "\n",
            "Epoch 00077: val_loss did not improve\n",
            "Epoch 78/100\n",
            "6400/6400 [==============================] - 53s 8ms/step - loss: 0.0181 - categorical_accuracy: 0.9977 - val_loss: 0.0411 - val_categorical_accuracy: 0.9956\n",
            "\n",
            "Epoch 00078: val_loss did not improve\n",
            "Epoch 79/100\n",
            "1216/6400 [====>.........................] - ETA: 39s - loss: 0.0495 - categorical_accuracy: 0.9951"
          ],
          "name": "stdout"
        },
        {
          "output_type": "stream",
          "text": [
            "6400/6400 [==============================] - 52s 8ms/step - loss: 0.0511 - categorical_accuracy: 0.9944 - val_loss: 0.0605 - val_categorical_accuracy: 0.9956\n",
            "\n",
            "Epoch 00079: val_loss did not improve\n",
            "Epoch 80/100\n",
            "6400/6400 [==============================] - 53s 8ms/step - loss: 0.0272 - categorical_accuracy: 0.9967 - val_loss: 0.3984 - val_categorical_accuracy: 0.9675\n",
            "\n",
            "Epoch 00080: val_loss did not improve\n",
            "Epoch 81/100\n",
            "6400/6400 [==============================] - 53s 8ms/step - loss: 0.0737 - categorical_accuracy: 0.9933 - val_loss: 0.0672 - val_categorical_accuracy: 0.9931\n",
            "\n",
            "Epoch 00081: val_loss did not improve\n",
            "Epoch 82/100\n",
            " 640/6400 [==>...........................] - ETA: 44s - loss: 1.1550e-05 - categorical_accuracy: 1.0000"
          ],
          "name": "stdout"
        },
        {
          "output_type": "stream",
          "text": [
            "6400/6400 [==============================] - 53s 8ms/step - loss: 0.0361 - categorical_accuracy: 0.9950 - val_loss: 0.0955 - val_categorical_accuracy: 0.9875\n",
            "\n",
            "Epoch 00082: val_loss did not improve\n",
            "Epoch 83/100\n",
            "6400/6400 [==============================] - 53s 8ms/step - loss: 0.0215 - categorical_accuracy: 0.9973 - val_loss: 0.0321 - val_categorical_accuracy: 0.9975\n",
            "\n",
            "Epoch 00083: val_loss improved from 0.03643 to 0.03207, saving model to /content/weights.best.RNN_pos.hdf5\n",
            "Epoch 84/100\n",
            "6400/6400 [==============================] - 53s 8ms/step - loss: 0.0247 - categorical_accuracy: 0.9977 - val_loss: 0.0650 - val_categorical_accuracy: 0.9938\n"
          ],
          "name": "stdout"
        },
        {
          "output_type": "stream",
          "text": [
            "\n",
            "Epoch 00084: val_loss did not improve\n",
            "Epoch 85/100\n",
            "6400/6400 [==============================] - 52s 8ms/step - loss: 0.0437 - categorical_accuracy: 0.9952 - val_loss: 0.0712 - val_categorical_accuracy: 0.9944\n",
            "\n",
            "Epoch 00085: val_loss did not improve\n",
            "Epoch 86/100\n",
            "6400/6400 [==============================] - 53s 8ms/step - loss: 0.0151 - categorical_accuracy: 0.9986 - val_loss: 0.0849 - val_categorical_accuracy: 0.9925\n",
            "\n",
            "Epoch 00086: val_loss did not improve\n",
            "Epoch 87/100\n",
            "5312/6400 [=======================>......] - ETA: 8s - loss: 0.0285 - categorical_accuracy: 0.9966"
          ],
          "name": "stdout"
        },
        {
          "output_type": "stream",
          "text": [
            "6400/6400 [==============================] - 53s 8ms/step - loss: 0.0242 - categorical_accuracy: 0.9969 - val_loss: 0.0359 - val_categorical_accuracy: 0.9969\n",
            "\n",
            "Epoch 00087: val_loss did not improve\n",
            "Epoch 88/100\n",
            "6400/6400 [==============================] - 53s 8ms/step - loss: 0.0281 - categorical_accuracy: 0.9963 - val_loss: 0.0671 - val_categorical_accuracy: 0.9912\n",
            "\n",
            "Epoch 00088: val_loss did not improve\n",
            "Epoch 89/100\n",
            "6400/6400 [==============================] - 53s 8ms/step - loss: 0.0659 - categorical_accuracy: 0.9945 - val_loss: 0.0653 - val_categorical_accuracy: 0.9931\n",
            "\n",
            "Epoch 00089: val_loss did not improve\n",
            "Epoch 90/100\n",
            "1216/6400 [====>.........................] - ETA: 40s - loss: 0.0307 - categorical_accuracy: 0.9959"
          ],
          "name": "stdout"
        },
        {
          "output_type": "stream",
          "text": [
            "6400/6400 [==============================] - 53s 8ms/step - loss: 0.0430 - categorical_accuracy: 0.9955 - val_loss: 0.0658 - val_categorical_accuracy: 0.9925\n",
            "\n",
            "Epoch 00090: val_loss did not improve\n",
            "Epoch 91/100\n",
            "6400/6400 [==============================] - 53s 8ms/step - loss: 0.0335 - categorical_accuracy: 0.9963 - val_loss: 0.0636 - val_categorical_accuracy: 0.9931\n",
            "\n",
            "Epoch 00091: val_loss did not improve\n",
            "Epoch 92/100\n",
            "6400/6400 [==============================] - 53s 8ms/step - loss: 0.0260 - categorical_accuracy: 0.9972 - val_loss: 0.1615 - val_categorical_accuracy: 0.9831\n",
            "\n",
            "Epoch 00092: val_loss did not improve\n",
            "Epoch 93/100\n",
            " 640/6400 [==>...........................] - ETA: 45s - loss: 0.0264 - categorical_accuracy: 0.9984"
          ],
          "name": "stdout"
        },
        {
          "output_type": "stream",
          "text": [
            "6400/6400 [==============================] - 53s 8ms/step - loss: 0.0155 - categorical_accuracy: 0.9984 - val_loss: 0.0533 - val_categorical_accuracy: 0.9944\n",
            "\n",
            "Epoch 00093: val_loss did not improve\n",
            "Epoch 94/100\n",
            "6400/6400 [==============================] - 53s 8ms/step - loss: 0.0568 - categorical_accuracy: 0.9953 - val_loss: 0.0404 - val_categorical_accuracy: 0.9950\n",
            "\n",
            "Epoch 00094: val_loss did not improve\n",
            "Epoch 95/100\n",
            "6400/6400 [==============================] - 53s 8ms/step - loss: 0.0188 - categorical_accuracy: 0.9975 - val_loss: 0.0512 - val_categorical_accuracy: 0.9950\n",
            "\n",
            "Epoch 00095: val_loss did not improve\n",
            "Epoch 96/100\n",
            " 576/6400 [=>............................] - ETA: 45s - loss: 1.6842e-04 - categorical_accuracy: 1.0000"
          ],
          "name": "stdout"
        },
        {
          "output_type": "stream",
          "text": [
            "6400/6400 [==============================] - 53s 8ms/step - loss: 0.0175 - categorical_accuracy: 0.9969 - val_loss: 0.0416 - val_categorical_accuracy: 0.9950\n",
            "\n",
            "Epoch 00096: val_loss did not improve\n",
            "Epoch 97/100\n",
            "6400/6400 [==============================] - 53s 8ms/step - loss: 0.0288 - categorical_accuracy: 0.9964 - val_loss: 0.0228 - val_categorical_accuracy: 0.9969\n",
            "\n",
            "Epoch 00097: val_loss improved from 0.03207 to 0.02278, saving model to /content/weights.best.RNN_pos.hdf5\n",
            "Epoch 98/100\n",
            "6400/6400 [==============================] - 53s 8ms/step - loss: 0.0219 - categorical_accuracy: 0.9977 - val_loss: 0.0300 - val_categorical_accuracy: 0.9969\n"
          ],
          "name": "stdout"
        },
        {
          "output_type": "stream",
          "text": [
            "\n",
            "Epoch 00098: val_loss did not improve\n",
            "Epoch 99/100\n",
            "6400/6400 [==============================] - 53s 8ms/step - loss: 0.0110 - categorical_accuracy: 0.9989 - val_loss: 0.0418 - val_categorical_accuracy: 0.9962\n",
            "\n",
            "Epoch 00099: val_loss did not improve\n",
            "Epoch 100/100\n",
            "6400/6400 [==============================] - 53s 8ms/step - loss: 0.0119 - categorical_accuracy: 0.9981 - val_loss: 0.0384 - val_categorical_accuracy: 0.9962\n",
            "\n",
            "Epoch 00100: val_loss did not improve\n"
          ],
          "name": "stdout"
        }
      ]
    },
    {
      "cell_type": "code",
      "metadata": {
        "id": "SDDh7xNiTF9P",
        "colab_type": "code",
        "outputId": "a67f7a6b-4981-4e6d-f443-3d178dbc9b7a",
        "colab": {
          "base_uri": "https://localhost:8080/",
          "height": 68
        }
      },
      "source": [
        "# evaluate the model\n",
        "loss_train, acc_train = model.evaluate(doc_train, onehot_train, verbose=1)\n",
        "print('Training Accuracy: ' +str(acc_train*100)+\"%\")\n",
        "print(\"Training Loss: \" +str(loss_train))"
      ],
      "execution_count": 0,
      "outputs": [
        {
          "output_type": "stream",
          "text": [
            "8000/8000 [==============================] - 32s 4ms/step\n",
            "Training Accuracy: 99.91250000000001%\n",
            "Training Loss: 0.009842201399092004\n"
          ],
          "name": "stdout"
        }
      ]
    },
    {
      "cell_type": "code",
      "metadata": {
        "id": "r3cK71lTTF9a",
        "colab_type": "code",
        "outputId": "9515a5bd-21db-4a89-89b3-1f453bd3b789",
        "colab": {
          "base_uri": "https://localhost:8080/",
          "height": 68
        }
      },
      "source": [
        "# evaluate the model\n",
        "loss_test, acc_test = model.evaluate(doc_test, onehot_test, verbose=1)\n",
        "print('Test Accuracy: ' +str(acc_test*100)+\"%\")\n",
        "print(\"Test Loss: \" +str(loss_test))"
      ],
      "execution_count": 0,
      "outputs": [
        {
          "output_type": "stream",
          "text": [
            "3163/3163 [==============================] - 13s 4ms/step\n",
            "Test Accuracy: 99.39930445779324%\n",
            "Test Loss: 0.0784376293352745\n"
          ],
          "name": "stdout"
        }
      ]
    },
    {
      "cell_type": "code",
      "metadata": {
        "id": "MIPkWRIpTF9p",
        "colab_type": "code",
        "colab": {}
      },
      "source": [
        "#predict = model.predict(doc_test)\n",
        "#print(predict[0])"
      ],
      "execution_count": 0,
      "outputs": []
    },
    {
      "cell_type": "code",
      "metadata": {
        "id": "a6QU9H9HTF9s",
        "colab_type": "code",
        "colab": {}
      },
      "source": [
        "#from keras.utils import plot_model\n",
        "#plot_model(model, to_file='model.png')"
      ],
      "execution_count": 0,
      "outputs": []
    },
    {
      "cell_type": "code",
      "metadata": {
        "id": "FL3KQwkXTF9u",
        "colab_type": "code",
        "colab": {}
      },
      "source": [
        "#from IPython.display import SVG\n",
        "#from keras.utils.vis_utils import model_to_dot\n",
        "\n",
        "#SVG(model_to_dot(model).create(prog='dot', format='svg'))"
      ],
      "execution_count": 0,
      "outputs": []
    },
    {
      "cell_type": "code",
      "metadata": {
        "id": "32EKcNiuTF92",
        "colab_type": "code",
        "outputId": "a5a84107-88a5-4873-84ec-1090ef2bf16b",
        "colab": {
          "base_uri": "https://localhost:8080/",
          "height": 376
        }
      },
      "source": [
        "# summarize history for accuracy\n",
        "plt.plot(history.history['categorical_accuracy'] )\n",
        "plt.plot(history.history['val_categorical_accuracy'])\n",
        "# plt.plot(history.history['val_acc'])\n",
        "plt.title('model accuracy  ')\n",
        "plt.ylabel('accuracy')\n",
        "plt.xlabel('epoch')\n",
        "plt.legend(['train', 'val'], loc='upper left')\n",
        "plt.show()"
      ],
      "execution_count": 0,
      "outputs": [
        {
          "output_type": "display_data",
          "data": {
            "image/png": "[encoded data removed]",
            "text/plain": [
              "<matplotlib.figure.Figure at 0x7fb9b9fc1be0>"
            ]
          },
          "metadata": {
            "tags": []
          }
        }
      ]
    },
    {
      "cell_type": "code",
      "metadata": {
        "id": "kRBVrgHVTF-A",
        "colab_type": "code",
        "outputId": "77949a63-4a5c-4df7-cf5c-c5f8b8867f60",
        "colab": {
          "base_uri": "https://localhost:8080/",
          "height": 376
        }
      },
      "source": [
        "# summarize history for loss\n",
        "plt.plot(history.history['loss'] )\n",
        "\n",
        "plt.plot(history.history['val_loss'])\n",
        "plt.title('model   loss')\n",
        "plt.ylabel('loss')\n",
        "plt.xlabel('epoch')\n",
        "plt.legend(['train', 'val'], loc='upper right')\n",
        "plt.show()"
      ],
      "execution_count": 0,
      "outputs": [
        {
          "output_type": "display_data",
          "data": {
            "image/png": "[encoded data removed]",
            "text/plain": [
              "<matplotlib.figure.Figure at 0x7fb9baff66a0>"
            ]
          },
          "metadata": {
            "tags": []
          }
        }
      ]
    }
  ]
}