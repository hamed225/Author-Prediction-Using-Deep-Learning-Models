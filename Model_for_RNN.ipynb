{
  "nbformat": 4,
  "nbformat_minor": 0,
  "metadata": {
    "colab": {
      "name": "Model for RNN.ipynb",
      "provenance": [],
      "collapsed_sections": [],
      "include_colab_link": true
    },
    "kernelspec": {
      "display_name": "Python 3",
      "language": "python",
      "name": "python3"
    },
    "accelerator": "GPU"
  },
  "cells": [
    {
      "cell_type": "markdown",
      "metadata": {
        "id": "view-in-github",
        "colab_type": "text"
      },
      "source": [
        "<a href=\"https://colab.research.google.com/github/tsmanral/Author-Prediction-Using-Deep-Learning-Models/blob/master/Model_for_RNN.ipynb\" target=\"_parent\"><img src=\"https://colab.research.google.com/assets/colab-badge.svg\" alt=\"Open In Colab\"/></a>"
      ]
    },
    {
      "cell_type": "code",
      "metadata": {
        "id": "MiG6pXDgTF6r",
        "colab_type": "code",
        "outputId": "0bc405c3-9f64-4858-aff2-42fdbb58ff8a",
        "colab": {
          "base_uri": "https://localhost:8080/",
          "height": 34
        }
      },
      "source": [
        "import pandas as pd\n",
        "import numpy as np\n",
        "import matplotlib.pyplot as plt\n",
        "\n",
        "\n",
        "from numpy import array\n",
        "from numpy import asarray\n",
        "from numpy import zeros\n",
        "from keras.preprocessing.text import Tokenizer\n",
        "from keras.preprocessing.sequence import pad_sequences\n",
        "from keras.models import Sequential\n",
        "from keras.layers import Dense, Dropout, LSTM, Conv1D\n",
        "from keras.layers import Flatten, GlobalAveragePooling1D\n",
        "from keras.layers import Embedding, TimeDistributed\n",
        "import keras.utils\n",
        "from keras.callbacks import ModelCheckpoint  \n"
      ],
      "execution_count": 0,
      "outputs": [
        {
          "output_type": "stream",
          "text": [
            "Using TensorFlow backend.\n"
          ],
          "name": "stderr"
        }
      ]
    },
    {
      "cell_type": "code",
      "metadata": {
        "id": "5ISp_YDITF65",
        "colab_type": "code",
        "colab": {}
      },
      "source": [
        "## extra imports to set GPU options\n",
        "import tensorflow as tf\n",
        "from keras import backend as k\n",
        "###################################\n",
        "# TensorFlow wizardry\n",
        "config = tf.ConfigProto()\n",
        " \n",
        "# Don't pre-allocate memory; allocate as-needed\n",
        "config.gpu_options.allow_growth = True\n",
        " \n",
        "# Only allow a total of half the GPU memory to be allocated\n",
        "config.gpu_options.per_process_gpu_memory_fraction = 0.9\n",
        " \n",
        "# Create a session with the above options specified.\n",
        "k.tensorflow_backend.set_session(tf.Session(config=config))\n",
        "###################################"
      ],
      "execution_count": 0,
      "outputs": []
    },
    {
      "cell_type": "code",
      "metadata": {
        "id": "pkSvxPk3ToCc",
        "colab_type": "code",
        "outputId": "9c82d5f4-886a-4f46-ba0e-5eea52b33fdb",
        "colab": {
          "base_uri": "https://localhost:8080/",
          "height": 51
        }
      },
      "source": [
        "\"\"\"\n",
        "DON'T MODIFY ANYTHING IN THIS CELL\n",
        "\"\"\"\n",
        "from distutils.version import LooseVersion\n",
        "import warnings\n",
        "import tensorflow as tf\n",
        "\n",
        "# Check TensorFlow Version\n",
        "assert LooseVersion(tf.__version__) >= LooseVersion('1.0'), 'Please use TensorFlow version 1.0 or newer.  You are using {}'.format(tf.__version__)\n",
        "print('TensorFlow Version: {}'.format(tf.__version__))\n",
        "\n",
        "# Check for a GPU\n",
        "if not tf.test.gpu_device_name():\n",
        "    warnings.warn('No GPU found. Please use a GPU to train your neural network.')\n",
        "else:\n",
        "    print('Default GPU Device: {}'.format(tf.test.gpu_device_name()))\n"
      ],
      "execution_count": 0,
      "outputs": [
        {
          "output_type": "stream",
          "text": [
            "TensorFlow Version: 1.6.0\n",
            "Default GPU Device: /device:GPU:0\n"
          ],
          "name": "stdout"
        }
      ]
    },
    {
      "cell_type": "code",
      "metadata": {
        "id": "xo6Gxj4JTu2h",
        "colab_type": "code",
        "outputId": "a288eeaf-9870-4624-b218-fcb3a453d6a6",
        "colab": {
          "base_uri": "https://localhost:8080/",
          "height": 3349
        }
      },
      "source": [
        "!pip install -U -q PyDrive\n",
        "\n",
        "from pydrive.auth import GoogleAuth\n",
        "from pydrive.drive import GoogleDrive\n",
        "from google.colab import auth\n",
        "from oauth2client.client import GoogleCredentials\n",
        "import os\n",
        "# 1. Authenticate and create the PyDrive client.\n",
        "auth.authenticate_user()\n",
        "gauth = GoogleAuth()\n",
        "gauth.credentials = GoogleCredentials.get_application_default()\n",
        "drive = GoogleDrive(gauth)\n",
        "\n",
        "# choose a local (colab) directory to store the data.\n",
        "local_download_path = os.path.expanduser('~/data_clean')\n",
        "try:\n",
        "  os.makedirs(local_download_path)\n",
        "except: pass\n",
        "\n",
        "# 2. Auto-iterate using the query syntax\n",
        "file_list = drive.ListFile(\n",
        "    {'q': \"'1W_ncgu50M_LR65A4jVvCuFklmosjIfpz' in parents\"}).GetList()\n",
        "\n",
        "data = []\n",
        "for f in file_list:\n",
        "  # 3. Create & download by id.\n",
        "  print('title: %s, id: %s' % (f['title'], f['id']))\n",
        "  fname = os.path.join(local_download_path, f['title'])\n",
        "  print('downloading to {}'.format(fname))\n",
        "  f_ = drive.CreateFile({'id': f['id']})\n",
        "  f_.GetContentFile(fname)\n",
        "  with open(fname, 'r', encoding = \"ISO-8859-1\") as file:\n",
        "    data.append([f['title'].split('-')[0], file.read()])"
      ],
      "execution_count": 0,
      "outputs": [
        {
          "output_type": "stream",
          "text": [
            "title: Humphrey Ward - 14.txt, id: 1KQ8TIQFtWWWJhsp6QIpn5RGhYO7NQ3wk\n",
            "downloading to /content/data_clean/Humphrey Ward - 14.txt\n",
            "title: Humphrey Ward - 16.txt, id: 1Xx6zE79WHWVFowU477l1YPGYMnEd4uCn\n",
            "downloading to /content/data_clean/Humphrey Ward - 16.txt\n",
            "title: Humphrey Ward - 19.txt, id: 1T9QE_hSZUx17oa7QGekYM23SIgLSfsE4\n",
            "downloading to /content/data_clean/Humphrey Ward - 19.txt\n",
            "title: Humphrey Ward - 17.txt, id: 1xx-umzzZFNncv9X8OWWj4auY60ShAE-8\n",
            "downloading to /content/data_clean/Humphrey Ward - 17.txt\n",
            "title: Humphrey Ward - 15.txt, id: 1CsLYGbi6pirecPBPNwli90Sb-XSM8q33\n",
            "downloading to /content/data_clean/Humphrey Ward - 15.txt\n",
            "title: Humphrey Ward - 18.txt, id: 1EULi5tNbF07SbrhycdDj_u58MVe8te2N\n",
            "downloading to /content/data_clean/Humphrey Ward - 18.txt\n",
            "title: Humphrey Ward - 13.txt, id: 15za4_hyAnLyw9xALmmp3R54m-ZfGtnjv\n",
            "downloading to /content/data_clean/Humphrey Ward - 13.txt\n",
            "title: Humphrey Ward - 9.txt, id: 1ZwNeiFvLOHUXsAJHUvC2PIJupsxT89Ne\n",
            "downloading to /content/data_clean/Humphrey Ward - 9.txt\n",
            "title: Humphrey Ward - 11.txt, id: 1A0I1VqoMZTQmD1i9J2B_iQ5ARaBCphB4\n",
            "downloading to /content/data_clean/Humphrey Ward - 11.txt\n",
            "title: Humphrey Ward - 10.txt, id: 1HzmiudAiqrLqLaVjmuK3WqO7HX-0oZQ1\n",
            "downloading to /content/data_clean/Humphrey Ward - 10.txt\n",
            "title: Humphrey Ward - 12.txt, id: 1ouAgIQh-OBJkBRoig3uZEd2sdmxqCO9o\n",
            "downloading to /content/data_clean/Humphrey Ward - 12.txt\n",
            "title: Humphrey Ward - 6.txt, id: 1wPKz83q7C4A8K2AxfdsnUfuq60EM5Tj5\n",
            "downloading to /content/data_clean/Humphrey Ward - 6.txt\n",
            "title: Humphrey Ward - 5.txt, id: 1Brl1tJ74VlqMAaCjNcMseq1sECNHzgdc\n",
            "downloading to /content/data_clean/Humphrey Ward - 5.txt\n",
            "title: Humphrey Ward - 8.txt, id: 1BD-iCAjxymPFEz47fmeuMIao9geQcbv1\n",
            "downloading to /content/data_clean/Humphrey Ward - 8.txt\n",
            "title: Humphrey Ward - 7.txt, id: 1muFCBLPJplzxXNLcBSOAcPIp9a_-Kgay\n",
            "downloading to /content/data_clean/Humphrey Ward - 7.txt\n",
            "title: Humphrey Ward - 2.txt, id: 1oCkTEh2zHv0yS8hnb-5nMBExM4zfRgX6\n",
            "downloading to /content/data_clean/Humphrey Ward - 2.txt\n",
            "title: Henry Rider Haggard - 21.txt, id: 1L-O6-Q1TywHEukBEc28hROVcVY5F0hqV\n",
            "downloading to /content/data_clean/Henry Rider Haggard - 21.txt\n",
            "title: Henry Rider Haggard - 17.txt, id: 1Vjw6yEjBSaSGECCU1It2Ym9RZYA6WnVy\n",
            "downloading to /content/data_clean/Henry Rider Haggard - 17.txt\n",
            "title: Henry Rider Haggard - 25.txt, id: 1lwZ0h18H8cwnJ3dHx9zBeHaLkS4xDgKz\n",
            "downloading to /content/data_clean/Henry Rider Haggard - 25.txt\n",
            "title: Henry Rider Haggard - 20.txt, id: 1-qfUAK7GzY_vrMzRrizb9P6dfuO-GQsP\n",
            "downloading to /content/data_clean/Henry Rider Haggard - 20.txt\n",
            "title: Henry Rider Haggard - 18.txt, id: 1_2t1uXV3UPZMgkpHmYS_G2_B0TkNJJEh\n",
            "downloading to /content/data_clean/Henry Rider Haggard - 18.txt\n",
            "title: Henry Rider Haggard - 23.txt, id: 1xFNFH3iay3NlpUy69f3pHK73POsKaGi3\n",
            "downloading to /content/data_clean/Henry Rider Haggard - 23.txt\n",
            "title: Henry Rider Haggard - 22.txt, id: 1e7bGSVPFRhOVh172FN1AkSDstV4U0J8U\n",
            "downloading to /content/data_clean/Henry Rider Haggard - 22.txt\n",
            "title: Henry Rider Haggard - 24.txt, id: 152eBKnhP6-9HFuPLDfpVnK-TTN-CRSln\n",
            "downloading to /content/data_clean/Henry Rider Haggard - 24.txt\n",
            "title: Henry Rider Haggard - 19.txt, id: 1UeoqO6QsMKPUFakL9fJ-ZIC_d5jg7DLf\n",
            "downloading to /content/data_clean/Henry Rider Haggard - 19.txt\n",
            "title: Humphrey Ward - 1.txt, id: 1nH8uYiaeQKlUudMvhkxWldhzUN6if5lZ\n",
            "downloading to /content/data_clean/Humphrey Ward - 1.txt\n",
            "title: Henry Rider Haggard - 14.txt, id: 1BsWOEQreFMnBY-kzbhYsg3ogf8DRvua6\n",
            "downloading to /content/data_clean/Henry Rider Haggard - 14.txt\n",
            "title: Henry Rider Haggard - 9.txt, id: 19TiaWpvLyWA--sSgVHzrkPzSHH7-vbLm\n",
            "downloading to /content/data_clean/Henry Rider Haggard - 9.txt\n",
            "title: Henry Rider Haggard - 8.txt, id: 1QtM3jbr1PDawsgIpZZRyDJW8mGPU6_oV\n",
            "downloading to /content/data_clean/Henry Rider Haggard - 8.txt\n",
            "title: Henry Rider Haggard - 15.txt, id: 1Zpe96YaYs5x0BQBVKSOjdLRvJ8_Xmte1\n",
            "downloading to /content/data_clean/Henry Rider Haggard - 15.txt\n",
            "title: Henry Rider Haggard - 12.txt, id: 18KKKhnwmUlzBVdJtWSVGD0baAkKQvanb\n",
            "downloading to /content/data_clean/Henry Rider Haggard - 12.txt\n",
            "title: Henry Rider Haggard - 7.txt, id: 1SKXDWCyZ8SiVZmNo-6S1FHOqANnpjSbm\n",
            "downloading to /content/data_clean/Henry Rider Haggard - 7.txt\n",
            "title: Henry Rider Haggard - 16.txt, id: 1-P7XJDOVF1bBFaVik1otdsfwtN0cao5L\n",
            "downloading to /content/data_clean/Henry Rider Haggard - 16.txt\n",
            "title: Henry Rider Haggard - 10.txt, id: 13R7Ta5tNwCQRoZMmScEfd_gMQ-EP7E1w\n",
            "downloading to /content/data_clean/Henry Rider Haggard - 10.txt\n",
            "title: Henry Rider Haggard - 11.txt, id: 1ZViWuYsDXue1a1jg0jQ5vCXzuYPFjlHW\n",
            "downloading to /content/data_clean/Henry Rider Haggard - 11.txt\n",
            "title: Henry Rider Haggard - 13.txt, id: 11jY6MowIlcceSBZ-EE-hJMJNV-_2SN-Q\n",
            "downloading to /content/data_clean/Henry Rider Haggard - 13.txt\n",
            "title: Gilbert Parker - 13.txt, id: 1QlyOQla-s2CoG080MJO7_n-KqNFDptoe\n",
            "downloading to /content/data_clean/Gilbert Parker - 13.txt\n",
            "title: Henry Rider Haggard - 5.txt, id: 13He6ly3Y4pyig8UGIf6IQbn5KSIbohsH\n",
            "downloading to /content/data_clean/Henry Rider Haggard - 5.txt\n"
          ],
          "name": "stdout"
        },
        {
          "output_type": "stream",
          "text": [
            "title: Henry Rider Haggard - 2.txt, id: 182DLelFZVUwgVCXgMYqyljcdeVekKLyg\n",
            "downloading to /content/data_clean/Henry Rider Haggard - 2.txt\n",
            "title: Henry Rider Haggard - 4.txt, id: 1RW0VikO9suP-fdX6U9WlmPnC47Pw_gTV\n",
            "downloading to /content/data_clean/Henry Rider Haggard - 4.txt\n",
            "title: Gilbert Parker - 14.txt, id: 1PtwJLsc_phb72-juruLNQWBWJgzbY2gk\n",
            "downloading to /content/data_clean/Gilbert Parker - 14.txt\n",
            "title: Henry Rider Haggard - 6.txt, id: 103UEqkdS8kQsRH9WWQqY2I3jM0pwHRj1\n",
            "downloading to /content/data_clean/Henry Rider Haggard - 6.txt\n",
            "title: Henry Rider Haggard - 1.txt, id: 1kxRrRkIluKMT-OZLdo6vqoWiUcGX23qN\n",
            "downloading to /content/data_clean/Henry Rider Haggard - 1.txt\n",
            "title: Gilbert Parker - 16.txt, id: 17na4xSvHKXD5OmCeJYiHVyf3YWnONGNs\n",
            "downloading to /content/data_clean/Gilbert Parker - 16.txt\n",
            "title: Henry Rider Haggard - 3.txt, id: 10P8MfJtE9KcHf9DwutglKBuSFVbi3GTx\n",
            "downloading to /content/data_clean/Henry Rider Haggard - 3.txt\n",
            "title: Gilbert Parker - 15.txt, id: 1RsBp3uXa_WruUJeYPAP0svEuCIBg5kwi\n",
            "downloading to /content/data_clean/Gilbert Parker - 15.txt\n",
            "title: Gilbert Parker - 11.txt, id: 1i4fchySMiERQY6ptNNw8TU1_8ceqTKwC\n",
            "downloading to /content/data_clean/Gilbert Parker - 11.txt\n",
            "title: Gilbert Parker - 8.txt, id: 1GKxe6ZSJVgyCrYS_8hIbFad-LW_TuOKn\n",
            "downloading to /content/data_clean/Gilbert Parker - 8.txt\n",
            "title: Gilbert Parker - 10.txt, id: 12lFEmqTn36_p-pBdgyH_gu4p4nL_Z4-5\n",
            "downloading to /content/data_clean/Gilbert Parker - 10.txt\n",
            "title: Gilbert Parker - 6.txt, id: 1ob-M3KnGiWzzXEo9l9c3tdV_vAMagZ4H\n",
            "downloading to /content/data_clean/Gilbert Parker - 6.txt\n",
            "title: Gilbert Parker - 12.txt, id: 1_BapBE9mljdDc5nqoyzKLjSLx8N_2jo7\n",
            "downloading to /content/data_clean/Gilbert Parker - 12.txt\n",
            "title: Gilbert Parker - 7.txt, id: 1jBQtz4fHy1cUutetlIwm72WUmLoqmyS0\n",
            "downloading to /content/data_clean/Gilbert Parker - 7.txt\n",
            "title: Gilbert Parker - 3.txt, id: 1ONT6lTjx-UgyCfz8NVax1lg5oHyAEyVS\n",
            "downloading to /content/data_clean/Gilbert Parker - 3.txt\n",
            "title: Gilbert Parker - 5.txt, id: 1eFE8vr5aUrvTnMieYkjH2SQn8v_soyUp\n",
            "downloading to /content/data_clean/Gilbert Parker - 5.txt\n",
            "title: Gilbert Parker - 4.txt, id: 1uRipDKiYhWTMRQ-asVIsR4dHJGekXi4f\n",
            "downloading to /content/data_clean/Gilbert Parker - 4.txt\n",
            "title: Gilbert Parker - 9.txt, id: 1nQ0mzZhWYXy1NMRZQglJThHN5KcU31P3\n",
            "downloading to /content/data_clean/Gilbert Parker - 9.txt\n",
            "title: George Gissing - 13.txt, id: 12p8h3dh4mXQm17GH07ChmgMw911HC1wN\n",
            "downloading to /content/data_clean/George Gissing - 13.txt\n",
            "title: George Gissing - 20.txt, id: 1IB5poZZh2b3hmp2xhrtlTWpfIBYXnN_c\n",
            "downloading to /content/data_clean/George Gissing - 20.txt\n",
            "title: George Gissing - 17.txt, id: 1hMF0td1t39E_AjSldaO-s67fh3rwAUdM\n",
            "downloading to /content/data_clean/George Gissing - 17.txt\n",
            "title: George Gissing - 15.txt, id: 1DE2fFFfy8uMHm67Glvh3tKtAZgQZCvAR\n",
            "downloading to /content/data_clean/George Gissing - 15.txt\n",
            "title: Gilbert Parker - 1.txt, id: 1cJ_2qRYVOqxIG5Thgkw333U2m5C8f9DO\n",
            "downloading to /content/data_clean/Gilbert Parker - 1.txt\n",
            "title: George Gissing - 19.txt, id: 1Fj8qRS1K2JINSp_o9_Li7cHlDavFIJng\n",
            "downloading to /content/data_clean/George Gissing - 19.txt\n",
            "title: George Gissing - 14.txt, id: 1c4tj1Sp37efyyla4M4Pce5RxCdHYqGYr\n",
            "downloading to /content/data_clean/George Gissing - 14.txt\n",
            "title: Gilbert Parker - 2.txt, id: 1ga0yYTaRg5QU9FZdigIILC98nM5YkEz4\n",
            "downloading to /content/data_clean/Gilbert Parker - 2.txt\n",
            "title: George Gissing - 18.txt, id: 1eDoTPHX6rKX52gOUob7qy9Y1xW6MkxWk\n",
            "downloading to /content/data_clean/George Gissing - 18.txt\n",
            "title: George Gissing - 16.txt, id: 1auWKlkRnJwZyPLaB-3IuDe9UcSRG2gh5\n",
            "downloading to /content/data_clean/George Gissing - 16.txt\n",
            "title: George Gissing - 6.txt, id: 1DK6-2NU-3Ev5wFM5KRfc7jK5_FfGq2Yg\n",
            "downloading to /content/data_clean/George Gissing - 6.txt\n",
            "title: George Gissing - 7.txt, id: 1OgoYhROqoSRtVBFGQ_ktrhbY9KqtgiLz\n",
            "downloading to /content/data_clean/George Gissing - 7.txt\n",
            "title: George Gissing - 4.txt, id: 1rH_lnxxdaGds1E3ZYa8BjTAAhHbq2QgL\n",
            "downloading to /content/data_clean/George Gissing - 4.txt\n",
            "title: George Gissing - 9.txt, id: 1nbPjR7xETQnWotWkscru4SBlZ9vyTREX\n",
            "downloading to /content/data_clean/George Gissing - 9.txt\n",
            "title: George Gissing - 5.txt, id: 1v9xZZ_WcL0JA2Ulv-K_btyLYUYhPC_wF\n",
            "downloading to /content/data_clean/George Gissing - 5.txt\n",
            "title: George Gissing - 3.txt, id: 1uZGkRA-RPjwZrkoMGODLA-XDfFw6Ch6G\n",
            "downloading to /content/data_clean/George Gissing - 3.txt\n",
            "title: George Gissing - 10.txt, id: 19pxsGO71AfMZUBLRf2sy0eBKZrldFJwx\n",
            "downloading to /content/data_clean/George Gissing - 10.txt\n",
            "title: George Gissing - 8.txt, id: 10ZCWwZFr6bc9KXxq3i5OkTLlw6mDKVq-\n",
            "downloading to /content/data_clean/George Gissing - 8.txt\n",
            "title: George Gissing - 11.txt, id: 1MUdmv1Pips-3kN4QaUHPgzzsDaXATRev\n",
            "downloading to /content/data_clean/George Gissing - 11.txt\n",
            "title: George Gissing - 12.txt, id: 1cyXJ3-UUbJXSxhD2cn-aGwe3gMX4dcBI\n",
            "downloading to /content/data_clean/George Gissing - 12.txt\n"
          ],
          "name": "stdout"
        },
        {
          "output_type": "stream",
          "text": [
            "title: George Gissing - 2.txt, id: 1TgeehcW7iqntOfbRLH8iy1I15XBVdaxj\n",
            "downloading to /content/data_clean/George Gissing - 2.txt\n",
            "title: George Gissing - 1.txt, id: 1KDkLX5NHiTSltmuM62AjHLvysn9YIOsr\n",
            "downloading to /content/data_clean/George Gissing - 1.txt\n",
            "title: Arthur Conan Doyle - 16.txt, id: 1x7aFEQd4B22hXRhgcXtFqpFynrELXh_1\n",
            "downloading to /content/data_clean/Arthur Conan Doyle - 16.txt\n",
            "title: Arthur Conan Doyle - 11.txt, id: 1r5sFr40dIr6fRkcxLSKnGFGAAAA6S5pT\n",
            "downloading to /content/data_clean/Arthur Conan Doyle - 11.txt\n",
            "title: Arthur Conan Doyle - 14.txt, id: 1Il1phCs0DRuvcGPWCeTBZxBhyrzuNvJd\n",
            "downloading to /content/data_clean/Arthur Conan Doyle - 14.txt\n",
            "title: Arthur Conan Doyle - 17.txt, id: 1WO8c4eGI0PrkbgPKuycecVefuVn8PRfK\n",
            "downloading to /content/data_clean/Arthur Conan Doyle - 17.txt\n",
            "title: Arthur Conan Doyle - 13.txt, id: 1FePgEn_ZEgdeqWtdJyI5PNR8RXAlSCas\n",
            "downloading to /content/data_clean/Arthur Conan Doyle - 13.txt\n",
            "title: Arthur Conan Doyle - 12.txt, id: 1BU0YcOr-_2EbjkxSrPuwqKiz2_bM4SL-\n",
            "downloading to /content/data_clean/Arthur Conan Doyle - 12.txt\n",
            "title: Arthur Conan Doyle - 15.txt, id: 1twl0Vmkb7muMtMKS1NwDOGzacOXTiPAs\n",
            "downloading to /content/data_clean/Arthur Conan Doyle - 15.txt\n",
            "title: Arthur Conan Doyle - 18.txt, id: 1w6pQHM7gZtL3vEd9tcpjntj81u1LDg_E\n",
            "downloading to /content/data_clean/Arthur Conan Doyle - 18.txt\n",
            "title: Arthur Conan Doyle - 2.txt, id: 1-ICV-ZUMj13-enMhUeaqsW8fqYKTnj40\n",
            "downloading to /content/data_clean/Arthur Conan Doyle - 2.txt\n",
            "title: Humphrey Ward - 4.txt, id: 1Wsd7n_qR3JYkpTwAEoqB_DuNRHsuAhV9\n",
            "downloading to /content/data_clean/Humphrey Ward - 4.txt\n",
            "title: Arthur Conan Doyle - 6.txt, id: 1ucaa3xIrW9ML0Ni0hw6GiPwGsECDSLVE\n",
            "downloading to /content/data_clean/Arthur Conan Doyle - 6.txt\n",
            "title: Arthur Conan Doyle - 5.txt, id: 1zxx0ZTpoOwop84M-jKtYh3Qyq4GpiNP8\n",
            "downloading to /content/data_clean/Arthur Conan Doyle - 5.txt\n",
            "title: Arthur Conan Doyle - 10.txt, id: 1lhoE0CpW-Ol6m_4rEKCXtezDm1Ng_7jd\n",
            "downloading to /content/data_clean/Arthur Conan Doyle - 10.txt\n",
            "title: Arthur Conan Doyle - 4.txt, id: 11vsZdrNuc0g1Fkjoz5z7rL1aaIMyUTU3\n",
            "downloading to /content/data_clean/Arthur Conan Doyle - 4.txt\n",
            "title: Humphrey Ward - 3.txt, id: 1PL-JDlMvNxQ3X6CTHBjQ_KtB1HmphQsv\n",
            "downloading to /content/data_clean/Humphrey Ward - 3.txt\n",
            "title: Arthur Conan Doyle - 9.txt, id: 1iGZzu8pnzuRZ-4gSeQsyxT_t8DJ-ZB7P\n",
            "downloading to /content/data_clean/Arthur Conan Doyle - 9.txt\n",
            "title: Arthur Conan Doyle - 3.txt, id: 13G0xwqXi7wIJP2v-zMzFPjiDhR5wqwC3\n",
            "downloading to /content/data_clean/Arthur Conan Doyle - 3.txt\n",
            "title: Arthur Conan Doyle - 1.txt, id: 179V02FZkDN2y_lveiS3LdtPgbGmqz-rL\n",
            "downloading to /content/data_clean/Arthur Conan Doyle - 1.txt\n",
            "title: Arthur Conan Doyle - 8.txt, id: 1nbIlSwMx5Ce7tiM3nV862xbV-Cam6IlT\n",
            "downloading to /content/data_clean/Arthur Conan Doyle - 8.txt\n",
            "title: Arthur Conan Doyle - 7.txt, id: 1MiigKKiSP_L5WVZEPKd2LyTxFNL1PC_d\n",
            "downloading to /content/data_clean/Arthur Conan Doyle - 7.txt\n"
          ],
          "name": "stdout"
        }
      ]
    },
    {
      "cell_type": "code",
      "metadata": {
        "id": "exk0zCoYTvcz",
        "colab_type": "code",
        "outputId": "2f1cfa43-853b-4a0b-9284-c77825b9e5e6",
        "colab": {
          "base_uri": "https://localhost:8080/",
          "height": 34
        }
      },
      "source": [
        "X = []\n",
        "for _,c in data:\n",
        "    X.append(c.lower())\n",
        "    \n",
        "Y = []\n",
        "for i,_ in data:\n",
        "    Y.append(i.lower())\n",
        "\n",
        "X1 = []\n",
        "Y_data1 = []\n",
        "\n",
        "for text in X:\n",
        "  c = text.strip().split()\n",
        "  X1.append(c)\n",
        "\n",
        "print(len(X))\n",
        "X_data1 = []\n",
        "count = 0\n",
        "for i in X1:\n",
        "  m=0\n",
        "  n=1000\n",
        "  times = len(i)//1000\n",
        "  for j in range(times):\n",
        "    X_data1.append(i[m:n])\n",
        "    m = m + 1000\n",
        "    n = n + 1000\n",
        "    Y_data1.append(Y[count]) \n",
        "  X_data1.append(i[m:len(i)+1])\n",
        "  Y_data1.append(Y[count])\n",
        "  count = count + 1 \n",
        "\n"
      ],
      "execution_count": 0,
      "outputs": [
        {
          "output_type": "stream",
          "text": [
            "98\n"
          ],
          "name": "stdout"
        }
      ]
    },
    {
      "cell_type": "code",
      "metadata": {
        "id": "BrIOdi-mvtUa",
        "colab_type": "code",
        "outputId": "78914835-57cd-491b-8e3d-63b906c0bbf9",
        "colab": {
          "base_uri": "https://localhost:8080/",
          "height": 139
        }
      },
      "source": [
        "temp_list = []\n",
        "for i in range(len(X_data1)):\n",
        "  temp_list.append([X_data1[i], Y_data1[i]])\n",
        "print(len(temp_list))\n",
        "print(temp_list[0][1])\n",
        "\n",
        "import random\n",
        "\n",
        "random.shuffle(temp_list)\n",
        "print(len(temp_list))\n",
        "print(temp_list[0][1])\n",
        "\n",
        "X_data = []\n",
        "Y_data = []\n",
        "for i in range(len(temp_list)):\n",
        "  X_data.append(temp_list[i][0])\n",
        "  Y_data.append(temp_list[i][1])\n",
        "print(len(X_data), len(Y_data))\n",
        "print(X_data[0], Y_data[0])"
      ],
      "execution_count": 0,
      "outputs": [
        {
          "output_type": "stream",
          "text": [
            "10078\n",
            "humphrey ward \n",
            "10078\n",
            "henry rider haggard \n",
            "10078 10078\n",
            "['fire', 'be', 'fierce', 'enough', 'but', 'i', 'said', 'nothing', 'and', 'though', 'my', 'hand', 'trembled', 'i', 'once', 'more', 'grasped', 'the', 'daggers', 'hilt', 'and', 'wild', 'with', 'fear', 'at', 'my', 'own', 'weakness', 'set', 'myself', 'to', 'find', 'a', 'means', 'to', 'slay', 'her', 'while', 'yet', 'my', 'sense', 'remained', 'come', 'hither', 'harmachis', 'she', 'went', 'on', 'in', 'her', 'softest', 'voice', 'come', 'sit', 'by', 'me', 'and', 'we', 'will', 'talk', 'together', 'for', 'i', 'have', 'much', 'to', 'tell', 'thee', 'and', 'she', 'made', 'place', 'for', 'me', 'at', 'her', 'side', 'upon', 'the', 'silken', 'seat', 'and', 'i', 'thinking', 'that', 'i', 'might', 'so', 'more', 'swiftly', 'strike', 'rose', 'and', 'seated', 'myself', 'some', 'little', 'way', 'from', 'her', 'on', 'the', 'couch', 'while', 'flinging', 'back', 'her', 'head', 'she', 'gazed', 'on', 'me', 'with', 'her', 'slumbrous', 'eyes', 'now', 'was', 'my', 'occasion', 'for', 'her', 'throat', 'and', 'breast', 'were', 'bare', 'and', 'with', 'a', 'mighty', 'effort', 'once', 'again', 'i', 'lifted', 'my', 'hand', 'to', 'clutch', 'the', 'daggerhilt', 'but', 'more', 'quick', 'than', 'thought', 'she', 'caught', 'my', 'fingers', 'with', 'her', 'own', 'and', 'gently', 'held', 'them', 'why', 'lookest', 'thou', 'so', 'wildly', 'harmachis', 'she', 'said', 'art', 'sick', 'ay', 'sick', 'indeed', 'i', 'gasped', 'then', 'lean', 'thou', 'on', 'the', 'cushions', 'and', 'rest', 'thee', 'she', 'answered', 'still', 'holding', 'my', 'hand', 'from', 'which', 'the', 'strength', 'had', 'fled', 'the', 'fit', 'will', 'surely', 'pass', 'too', 'long', 'hast', 'thou', 'laboured', 'with', 'thy', 'stars', 'how', 'soft', 'is', 'the', 'night', 'air', 'that', 'flows', 'from', 'yonder', 'casement', 'heavy', 'with', 'the', 'breath', 'of', 'lilies', 'hark', 'to', 'the', 'whisper', 'of', 'the', 'sea', 'lapping', 'against', 'the', 'rocks', 'that', 'though', 'it', 'is', 'faint', 'yet', 'being', 'so', 'strong', 'doth', 'almost', 'drown', 'the', 'quick', 'cool', 'fall', 'of', 'yonder', 'fountain', 'list', 'to', 'philomel', 'how', 'sweet', 'from', 'a', 'full', 'heart', 'of', 'love', 'she', 'sings', 'her', 'message', 'to', 'her', 'dear', 'indeed', 'it', 'is', 'a', 'lovely', 'night', 'and', 'most', 'beautiful', 'is', 'natures', 'music', 'sung', 'with', 'a', 'hundred', 'voices', 'from', 'wind', 'and', 'trees', 'and', 'birds', 'and', 'oceans', 'wrinkled', 'lips', 'and', 'yet', 'sung', 'all', 'to', 'tune', 'listen', 'harmachis', 'i', 'have', 'guessed', 'something', 'concerning', 'thee', 'thou', 'too', 'art', 'of', 'a', 'royal', 'race', 'no', 'humble', 'blood', 'pours', 'in', 'those', 'veins', 'of', 'thine', 'surely', 'such', 'a', 'shoot', 'could', 'spring', 'but', 'from', 'the', 'stock', 'of', 'princes', 'what', 'gazest', 'thou', 'at', 'the', 'leafmark', 'on', 'my', 'breast', 'it', 'was', 'pricked', 'there', 'in', 'honour', 'of', 'great', 'osiris', 'whom', 'with', 'thee', 'i', 'worship', 'see', 'let', 'me', 'hence', 'i', 'groaned', 'striving', 'to', 'rise', 'but', 'all', 'my', 'strength', 'had', 'gone', 'nay', 'not', 'yet', 'awhile', 'thou', 'wouldst', 'not', 'leave', 'me', 'yet', 'thou', 'canst', 'not', 'leave', 'me', 'yet', 'harmachis', 'hast', 'thou', 'never', 'loved', 'nay', 'nay', 'o', 'queen', 'what', 'have', 'i', 'to', 'do', 'with', 'love', 'let', 'me', 'hence', 'i', 'am', 'fainti', 'am', 'fordone', 'never', 'to', 'have', 'lovedtis', 'strange', 'never', 'to', 'have', 'known', 'some', 'woman', 'heart', 'beat', 'all', 'in', 'tune', 'to', 'thinenever', 'to', 'have', 'seen', 'the', 'eyes', 'of', 'thy', 'adored', 'aswim', 'with', 'passions', 'tears', 'as', 'she', 'sighed', 'her', 'vows', 'upon', 'thy', 'breast', 'never', 'to', 'have', 'loved', 'never', 'to', 'have', 'lost', 'thyself', 'in', 'the', 'mystery', 'of', 'anothers', 'soul', 'nor', 'to', 'have', 'learned', 'how', 'nature', 'can', 'overcome', 'our', 'naked', 'loneliness', 'and', 'with', 'the', 'golden', 'web', 'of', 'love', 'of', 'twain', 'weave', 'one', 'identity', 'why', 'it', 'is', 'never', 'to', 'have', 'lived', 'harmachis', 'and', 'ever', 'as', 'she', 'murmured', 'she', 'drew', 'nearer', 'to', 'me', 'till', 'at', 'last', 'with', 'a', 'long', 'sweet', 'sigh', 'she', 'flung', 'one', 'arm', 'about', 'my', 'neck', 'and', 'gazed', 'upon', 'me', 'with', 'blue', 'unfathomable', 'eyes', 'and', 'smiled', 'her', 'dark', 'slow', 'smile', 'that', 'like', 'an', 'opening', 'flower', 'revealed', 'beauty', 'within', 'beauty', 'hidden', 'nearer', 'she', 'bent', 'her', 'queenly', 'form', 'and', 'still', 'more', 'nearnow', 'her', 'perfumed', 'breath', 'played', 'upon', 'my', 'hair', 'and', 'now', 'her', 'lips', 'met', 'mine', 'and', 'woe', 'is', 'me', 'in', 'that', 'kiss', 'more', 'deadly', 'and', 'more', 'strong', 'than', 'the', 'embrace', 'of', 'death', 'were', 'forgotten', 'isis', 'my', 'heavenly', 'hope', 'oaths', 'honour', 'country', 'friends', 'all', 'thingsall', 'things', 'save', 'that', 'cleopatra', 'clasped', 'me', 'in', 'her', 'arms', 'and', 'called', 'me', 'love', 'and', 'lord', 'now', 'pledge', 'me', 'she', 'sighed', 'pledge', 'me', 'one', 'cup', 'of', 'wine', 'in', 'token', 'of', 'thy', 'love', 'i', 'took', 'the', 'draught', 'and', 'i', 'drank', 'deep', 'then', 'too', 'late', 'i', 'knew', 'that', 'it', 'was', 'drugged', 'i', 'fell', 'upon', 'the', 'couch', 'and', 'though', 'my', 'senses', 'still', 'were', 'with', 'me', 'i', 'could', 'neither', 'speak', 'nor', 'rise', 'but', 'cleopatra', 'bending', 'over', 'me', 'drew', 'the', 'dagger', 'from', 'my', 'robe', 'ive', 'won', 'she', 'cried', 'shaking', 'back', 'her', 'long', 'hair', 'ive', 'won', 'and', 'for', 'the', 'stake', 'of', 'egypt', 'why', 'twas', 'a', 'game', 'worth', 'playing', 'with', 'this', 'dagger', 'then', 'thou', 'wouldst', 'have', 'slain', 'me', 'o', 'my', 'royal', 'rival', 'whose', 'myrmidons', 'even', 'now', 'are', 'gathered', 'at', 'my', 'palace', 'gate', 'art', 'still', 'awake', 'now', 'what', 'hinders', 'me', 'that', 'i', 'should', 'not', 'plunge', 'it', 'to', 'thy', 'heart', 'i', 'heard', 'and', 'feebly', 'pointed', 'to', 'my', 'breast', 'for', 'i', 'was', 'fain', 'to', 'die', 'she', 'drew', 'herself', 'to', 'the', 'full', 'of', 'her', 'imperial', 'height', 'and', 'the', 'great', 'knife', 'glittered', 'in', 'her', 'hand', 'down', 'it', 'came', 'till', 'its', 'edge', 'pricked', 'my', 'flesh', 'nay', 'she', 'cried', 'again', 'and', 'cast', 'it', 'from', 'her', 'too', 'well', 'i', 'like', 'thee', 'it', 'were', 'pity', 'to', 'slay', 'such', 'a', 'man', 'i', 'give', 'thee', 'thy', 'life', 'live', 'on', 'lost', 'pharaoh', 'live', 'on', 'poor', 'fallen', 'prince', 'blasted', 'by', 'a', 'womans', 'wit', 'live', 'on', 'harmachisto', 'adorn', 'my', 'triumph', 'then', 'sight', 'left', 'me', 'and', 'in', 'my', 'ears', 'i', 'only', 'heard', 'the', 'song', 'of', 'the', 'nightingale', 'the', 'murmur', 'of', 'the', 'sea', 'and', 'the', 'music', 'of', 'cleopatras', 'laugh', 'of', 'victory', 'and', 'as', 'i', 'sank', 'away', 'the', 'sound', 'of', 'that', 'low', 'laugh', 'still', 'followed', 'me', 'into', 'the', 'land', 'of', 'sleep', 'and', 'still', 'it', 'follows', 'me', 'through', 'life', 'to', 'death', 'once', 'more', 'i', 'woke', 'it', 'was', 'to', 'find', 'myself', 'in', 'my', 'own', 'chamber', 'i', 'started', 'up', 'surely', 'i', 'too', 'had', 'dreamed', 'a', 'dream', 'it', 'could', 'be', 'nothing', 'but', 'a', 'dream', 'it', 'could', 'not', 'be', 'that', 'i', 'woke', 'to', 'know', 'myself', 'a', 'traitor', 'that', 'the', 'opportunity', 'had', 'gone', 'for', 'ever', 'that', 'i', 'had', 'betrayed', 'the', 'cause', 'and', 'that', 'last', 'night', 'those', 'brave', 'men', 'headed', 'by', 'my', 'uncle', 'had', 'waited', 'in', 'vain', 'at', 'the', 'outer', 'gate', 'that', 'egypt', 'from', 'abu', 'to', 'athu', 'was', 'even', 'now', 'waitingwaiting', 'in', 'vain', 'nay', 'whatever', 'else', 'might', 'be', 'this', 'could', 'not', 'be', 'oh', 'it', 'was', 'an', 'awful', 'dream', 'which', 'i', 'had', 'dreamed', 'a', 'second', 'such', 'would', 'slay', 'a'] henry rider haggard \n"
          ],
          "name": "stdout"
        }
      ]
    },
    {
      "cell_type": "code",
      "metadata": {
        "id": "KKUZrPnUTF8F",
        "colab_type": "code",
        "outputId": "f61fe586-4328-453c-8e69-eba8cf22c5f2",
        "colab": {
          "base_uri": "https://localhost:8080/",
          "height": 51
        }
      },
      "source": [
        "from sklearn.preprocessing import LabelEncoder, OneHotEncoder\n",
        "\n",
        "# Converting Output values to One Hot Vector\n",
        "print(\"Converting to One hot vector(training set)...\")\n",
        "Y_data = np.array(Y_data)\n",
        "\n",
        "label_encoder = LabelEncoder()\n",
        "train_integer_encoded = label_encoder.fit_transform(Y_data)\n",
        "print(train_integer_encoded)\n"
      ],
      "execution_count": 0,
      "outputs": [
        {
          "output_type": "stream",
          "text": [
            "Converting to One hot vector(training set)...\n",
            "[3 3 0 ... 4 4 3]\n"
          ],
          "name": "stdout"
        }
      ]
    },
    {
      "cell_type": "code",
      "metadata": {
        "id": "Hj0P2-JZTF8N",
        "colab_type": "code",
        "outputId": "4488527d-08f9-4c7e-f29b-7b21cb165bed",
        "colab": {
          "base_uri": "https://localhost:8080/",
          "height": 34
        }
      },
      "source": [
        "train_onehot_encoded = keras.utils.to_categorical(train_integer_encoded)\n",
        "print(train_onehot_encoded[2841,:])"
      ],
      "execution_count": 0,
      "outputs": [
        {
          "output_type": "stream",
          "text": [
            "[0. 0. 0. 1. 0.]\n"
          ],
          "name": "stdout"
        }
      ]
    },
    {
      "cell_type": "code",
      "metadata": {
        "id": "jbxB-OLHTF8R",
        "colab_type": "code",
        "outputId": "c95c54a8-d5b0-4873-d552-97ef7e18eed4",
        "colab": {
          "base_uri": "https://localhost:8080/",
          "height": 34
        }
      },
      "source": [
        "# prepare tokenizer\n",
        "t = Tokenizer()\n",
        "t.fit_on_texts(X_data)\n",
        "vocab_size = len(t.word_index) + 1\n",
        "print(vocab_size)"
      ],
      "execution_count": 0,
      "outputs": [
        {
          "output_type": "stream",
          "text": [
            "128625\n"
          ],
          "name": "stdout"
        }
      ]
    },
    {
      "cell_type": "code",
      "metadata": {
        "id": "7prFqQQhTF8V",
        "colab_type": "code",
        "outputId": "5be791c6-aa86-4b1e-a6ec-e56d6f094b32",
        "colab": {
          "base_uri": "https://localhost:8080/",
          "height": 54
        }
      },
      "source": [
        "# integer encode the documents\n",
        "encoded_docs = t.texts_to_sequences(X_data)\n",
        "print(encoded_docs[0])"
      ],
      "execution_count": 0,
      "outputs": [
        {
          "output_type": "stream",
          "text": [
            "[331, 25, 1020, 213, 21, 6, 31, 141, 2, 128, 28, 116, 1853, 6, 140, 63, 2938, 1, 12106, 4317, 2, 572, 17, 334, 20, 28, 105, 1506, 271, 258, 4, 227, 5, 479, 4, 2527, 12, 162, 119, 28, 395, 675, 74, 2017, 2518, 15, 131, 27, 7, 12, 10485, 158, 74, 596, 36, 29, 2, 45, 52, 240, 282, 18, 6, 26, 106, 4, 148, 356, 2, 15, 96, 195, 18, 29, 20, 12, 219, 54, 1, 9195, 882, 2, 6, 534, 10, 6, 111, 37, 63, 1392, 1383, 275, 2, 918, 258, 67, 68, 115, 32, 12, 27, 1, 2685, 162, 9091, 100, 12, 151, 15, 1234, 27, 29, 17, 12, 30573, 86, 56, 9, 28, 1189, 18, 12, 1100, 2, 772, 39, 1577, 2, 17, 5, 1828, 880, 140, 94, 6, 792, 28, 116, 4, 10819, 1, 57481, 21, 63, 581, 81, 118, 15, 443, 28, 738, 17, 12, 105, 2, 1112, 285, 49, 147, 22556, 269, 37, 3739, 2518, 15, 31, 712, 1090, 1631, 1090, 196, 6, 2061, 50, 3643, 269, 27, 1, 6131, 2, 363, 356, 15, 154, 120, 858, 28, 116, 32, 30, 1, 544, 16, 1477, 1, 1191, 52, 633, 518, 139, 122, 1518, 269, 5819, 17, 451, 1774, 88, 833, 24, 1, 178, 323, 10, 9667, 32, 803, 8994, 634, 17, 1, 639, 3, 7249, 5584, 4, 1, 1685, 3, 1, 537, 18569, 182, 1, 1741, 10, 128, 11, 24, 1328, 119, 238, 37, 378, 6425, 309, 6634, 1, 581, 1956, 566, 3, 803, 2148, 3740, 4, 57482, 88, 746, 32, 5, 324, 174, 3, 193, 15, 11141, 12, 1111, 4, 12, 280, 196, 11, 24, 5, 1635, 178, 2, 177, 469, 24, 3884, 1012, 5080, 17, 5, 409, 1251, 32, 653, 2, 733, 2, 2342, 2, 24943, 4318, 337, 2, 119, 5080, 34, 4, 6088, 718, 2518, 6, 26, 1856, 166, 2336, 356, 269, 139, 712, 3, 5, 1026, 1310, 38, 2172, 389, 17380, 7, 152, 2542, 3, 2015, 633, 103, 5, 2472, 55, 1008, 21, 32, 1, 3125, 3, 4133, 43, 44245, 269, 20, 1, 57483, 27, 28, 772, 11, 9, 7186, 40, 7, 801, 3, 101, 5772, 203, 17, 356, 6, 2314, 73, 149, 29, 2074, 6, 2729, 4496, 4, 1052, 21, 34, 28, 544, 16, 232, 586, 22, 119, 2075, 269, 4319, 22, 310, 29, 119, 269, 4394, 22, 310, 29, 119, 2518, 1518, 269, 92, 514, 586, 586, 476, 942, 43, 26, 6, 4, 57, 17, 193, 149, 29, 2074, 6, 107, 57484, 107, 37749, 92, 4, 26, 57485, 294, 92, 4, 26, 366, 67, 161, 174, 1304, 34, 7, 6088, 4, 57486, 4, 26, 214, 1, 86, 3, 451, 6323, 44246, 17, 3703, 720, 19, 15, 2141, 12, 7579, 54, 451, 772, 92, 4, 26, 514, 92, 4, 26, 367, 5528, 7, 1, 1782, 3, 6782, 444, 316, 4, 26, 851, 88, 421, 93, 2119, 117, 3211, 3676, 2, 17, 1, 1095, 8897, 3, 193, 3, 8456, 17381, 42, 7120, 147, 11, 24, 92, 4, 26, 484, 2518, 2, 163, 19, 15, 1315, 15, 343, 1188, 4, 29, 221, 20, 126, 17, 5, 122, 746, 1598, 15, 1664, 42, 455, 71, 28, 881, 2, 1234, 54, 29, 17, 648, 16042, 86, 2, 560, 12, 344, 1337, 372, 10, 77, 47, 1222, 2713, 2721, 553, 341, 553, 1156, 1188, 15, 662, 12, 10820, 690, 2, 120, 63, 57487, 12, 12339, 639, 1003, 54, 28, 396, 2, 56, 12, 337, 368, 513, 2, 3334, 24, 29, 7, 10, 1655, 63, 2762, 2, 63, 378, 81, 1, 5333, 3, 268, 39, 937, 5689, 28, 6041, 293, 5690, 801, 392, 317, 34, 44247, 157, 369, 10, 2400, 2177, 29, 7, 12, 400, 2, 312, 29, 193, 2, 264, 56, 5219, 29, 15, 2141, 5219, 29, 42, 1354, 3, 1211, 7, 4621, 3, 451, 193, 6, 190, 1, 4097, 2, 6, 1659, 480, 50, 139, 507, 6, 156, 10, 11, 9, 8105, 6, 289, 54, 1, 2685, 2, 128, 28, 1970, 120, 39, 17, 29, 6, 55, 587, 235, 316, 1052, 21, 2400, 2044, 97, 29, 343, 1, 4098, 32, 28, 2216, 387, 1345, 15, 242, 1511, 100, 12, 122, 396, 387, 1345, 2, 18, 1, 2864, 3, 1137, 147, 10821, 5, 1066, 822, 1433, 17, 33, 4098, 50, 269, 4319, 26, 1865, 29, 476, 28, 1026, 3105, 345, 37750, 153, 56, 58, 825, 20, 28, 1268, 840, 712, 120, 2391, 56, 43, 24944, 29, 10, 6, 76, 22, 6475, 11, 4, 451, 174, 6, 185, 2, 4438, 761, 4, 28, 772, 18, 6, 9, 5108, 4, 403, 15, 343, 155, 4, 1, 324, 3, 12, 6042, 1805, 2, 1, 101, 1593, 8995, 7, 12, 116, 85, 11, 82, 221, 69, 961, 7186, 28, 1533, 586, 15, 242, 94, 2, 950, 11, 32, 12, 139, 75, 6, 77, 356, 11, 39, 886, 4, 2527, 103, 5, 60, 6, 198, 356, 451, 109, 300, 27, 367, 1665, 300, 27, 270, 784, 793, 14895, 36, 5, 1053, 3616, 300, 27, 44248, 14217, 28, 1660, 50, 374, 167, 29, 2, 7, 28, 799, 6, 79, 185, 1, 1410, 3, 1, 19923, 1, 2615, 3, 1, 537, 2, 1, 1012, 3, 10822, 590, 3, 2722, 2, 19, 6, 971, 125, 1, 413, 3, 10, 449, 590, 120, 386, 29, 65, 1, 472, 3, 486, 2, 120, 11, 5050, 29, 121, 109, 4, 268, 140, 63, 6, 2756, 11, 9, 4, 227, 258, 7, 28, 105, 1173, 6, 727, 62, 633, 6, 139, 16, 2436, 5, 807, 11, 55, 25, 141, 21, 5, 807, 11, 55, 22, 25, 10, 6, 2756, 4, 72, 258, 5, 3058, 10, 1, 1174, 16, 232, 18, 163, 10, 6, 16, 1908, 1, 622, 2, 10, 126, 178, 152, 1170, 136, 5360, 36, 28, 693, 16, 804, 7, 1262, 20, 1, 2173, 840, 10, 1137, 32, 37751, 4, 37752, 9, 153, 56, 26523, 7, 1262, 586, 568, 376, 111, 25, 33, 55, 22, 25, 172, 11, 9, 47, 1519, 807, 30, 6, 16, 2436, 5, 565, 103, 41, 2527, 5]\n"
          ],
          "name": "stdout"
        }
      ]
    },
    {
      "cell_type": "code",
      "metadata": {
        "id": "b257iTGITF8Y",
        "colab_type": "code",
        "outputId": "b288f63a-3e29-4f96-f3a8-cac129d2f7b2",
        "colab": {
          "base_uri": "https://localhost:8080/",
          "height": 136
        }
      },
      "source": [
        "# pad documents to a max length of 10000 words\n",
        "max_length =1000\n",
        "padded_docs = pad_sequences(encoded_docs, maxlen=max_length, padding='post')\n",
        "print(padded_docs)"
      ],
      "execution_count": 0,
      "outputs": [
        {
          "output_type": "stream",
          "text": [
            "[[  331    25  1020 ...    41  2527     5]\n",
            " [ 4233   221     1 ...    13    58   625]\n",
            " [  199    42    18 ...    58     1  7653]\n",
            " ...\n",
            " [    5  1792   238 ...    12    69     1]\n",
            " [  555  1011 37439 ...  2147    31     4]\n",
            " [  762   278     5 ...    87    10   299]]\n"
          ],
          "name": "stdout"
        }
      ]
    },
    {
      "cell_type": "code",
      "metadata": {
        "id": "aSo7eVUCTF8a",
        "colab_type": "code",
        "outputId": "dfdd7361-1b18-4ebf-bbdd-b287cc6932fc",
        "colab": {
          "base_uri": "https://localhost:8080/",
          "height": 51
        }
      },
      "source": [
        "auth.authenticate_user()\n",
        "gauth = GoogleAuth()\n",
        "gauth.credentials = GoogleCredentials.get_application_default()\n",
        "drive = GoogleDrive(gauth)\n",
        "\n",
        "# choose a local (colab) directory to store the data.\n",
        "local_download_path = os.path.expanduser('~/data_clean')\n",
        "try:\n",
        "  os.makedirs(local_download_path)\n",
        "except: pass\n",
        "\n",
        "# 2. Auto-iterate using the query syntax\n",
        "file_list = drive.ListFile(\n",
        "    {'q': \"'1ogZLyJ5GTI8a0o8HPac8zTtm96SzCv-k' in parents\"}).GetList()\n",
        "print(file_list[0]['title'], file_list[0]['id'] )\n",
        "fname = os.path.join(local_download_path, file_list[0]['title'])\n",
        "f_ = drive.CreateFile({'id': file_list[0]['id']})\n",
        "f_.GetContentFile(fname)\n",
        "\n",
        "\n",
        "# load the whole embedding into memory\n",
        "embeddings_index = dict()\n",
        "f = open(fname)\n",
        "for line in f:\n",
        "\tvalues = line.split()\n",
        "\tword = values[0]\n",
        "\tcoefs = asarray(values[1:], dtype='float32')\n",
        "\tembeddings_index[word] = coefs\n",
        "f.close()\n",
        "print('Loaded %s word vectors.' % len(embeddings_index))"
      ],
      "execution_count": 0,
      "outputs": [
        {
          "output_type": "stream",
          "text": [
            "glove.6B.100d.txt 17BmrNJa4oJDNg3KZ6u2Ww0ETQYklOJJ7\n",
            "Loaded 400000 word vectors.\n"
          ],
          "name": "stdout"
        }
      ]
    },
    {
      "cell_type": "code",
      "metadata": {
        "id": "_nN1rDOFTF8e",
        "colab_type": "code",
        "outputId": "8d7b725b-7390-43df-fb3b-fe50d9b936c2",
        "colab": {
          "base_uri": "https://localhost:8080/",
          "height": 34
        }
      },
      "source": [
        "# create a weight matrix for words in training docs\n",
        "embedding_matrix = zeros((vocab_size, 100))\n",
        "for word, i in t.word_index.items():\n",
        "\tembedding_vector = embeddings_index.get(word)\n",
        "\tif embedding_vector is not None:\n",
        "\t\tembedding_matrix[i] = embedding_vector\n",
        "print(embedding_matrix.shape)"
      ],
      "execution_count": 0,
      "outputs": [
        {
          "output_type": "stream",
          "text": [
            "(128625, 100)\n"
          ],
          "name": "stdout"
        }
      ]
    },
    {
      "cell_type": "code",
      "metadata": {
        "id": "WEPQ4veW3Qy7",
        "colab_type": "code",
        "outputId": "56a82d41-0801-4fe7-d278-5f39b2c3a8bf",
        "colab": {
          "base_uri": "https://localhost:8080/",
          "height": 102
        }
      },
      "source": [
        "print(padded_docs.shape)\n",
        "doc_train = np.array(padded_docs[0:8000,:])\n",
        "print(doc_train.shape)\n",
        "doc_test = np.array(padded_docs[8000:,:])\n",
        "print(doc_test.shape)\n",
        "\n",
        "onehot_train = np.array(train_onehot_encoded[0:8000,:])\n",
        "print(onehot_train.shape)\n",
        "onehot_test = np.array(train_onehot_encoded[8000:,:])\n",
        "print(onehot_test.shape)"
      ],
      "execution_count": 0,
      "outputs": [
        {
          "output_type": "stream",
          "text": [
            "(10078, 1000)\n",
            "(8000, 1000)\n",
            "(2078, 1000)\n",
            "(8000, 5)\n",
            "(2078, 5)\n"
          ],
          "name": "stdout"
        }
      ]
    },
    {
      "cell_type": "code",
      "metadata": {
        "id": "EWmPP-IzTF8l",
        "colab_type": "code",
        "colab": {}
      },
      "source": [
        "# define model\n",
        "model = Sequential()\n",
        "e = Embedding(vocab_size, 100, weights=[embedding_matrix], input_length=1000, trainable=False)\n",
        "model.add(e)\n",
        "#model.add(Conv1D(32, 3, border_mode='valid'))\n",
        "#model.add(Conv1D(64, 3, border_mode='valid'))\n",
        "model.add(LSTM(512, activation='tanh', return_sequences=False))\n",
        "\n",
        "#model.add(GlobalAveragePooling1D())\n",
        "\n",
        "#model.add(Dropout(0.3))\n",
        "#model.add(Flatten())\n",
        "#model.add(Dense(5000, activation='relu'))\n",
        "#model.add(Dropout(0.1))\n",
        "\n",
        "\n",
        "#model.add(Dense(1000, activation='relu'))\n",
        "#model.add(Dropout(0.2))\n",
        "model.add(Dropout(0.6))\n",
        "\n",
        "model.add(Dense(500, activation='relu', kernel_initializer='glorot_uniform'))\n",
        "model.add(Dropout(0.6))\n",
        "\n",
        "\n",
        "\n",
        "\n",
        "model.add(Dense(5, activation='softmax'))\n",
        "#model.add(TimeDistributed(Dense(100, activation='softmax')))"
      ],
      "execution_count": 0,
      "outputs": []
    },
    {
      "cell_type": "code",
      "metadata": {
        "id": "CIk5mMJQTF8p",
        "colab_type": "code",
        "colab": {}
      },
      "source": [
        "# compile the model\n",
        "num_of_epochs = 100\n",
        "batchsize = 256\n",
        "model.compile(optimizer='rmsprop', loss='categorical_crossentropy', metrics=['categorical_accuracy'])"
      ],
      "execution_count": 0,
      "outputs": []
    },
    {
      "cell_type": "code",
      "metadata": {
        "id": "3Lutt8EmTF8t",
        "colab_type": "code",
        "outputId": "72fa992f-9baf-4969-912b-74865cd787a7",
        "colab": {
          "base_uri": "https://localhost:8080/",
          "height": 357
        }
      },
      "source": [
        "# summarize the model\n",
        "print(model.summary())"
      ],
      "execution_count": 0,
      "outputs": [
        {
          "output_type": "stream",
          "text": [
            "_________________________________________________________________\n",
            "Layer (type)                 Output Shape              Param #   \n",
            "=================================================================\n",
            "embedding_1 (Embedding)      (None, 1000, 100)         12862500  \n",
            "_________________________________________________________________\n",
            "lstm_1 (LSTM)                (None, 512)               1255424   \n",
            "_________________________________________________________________\n",
            "dropout_1 (Dropout)          (None, 512)               0         \n",
            "_________________________________________________________________\n",
            "dense_1 (Dense)              (None, 500)               256500    \n",
            "_________________________________________________________________\n",
            "dropout_2 (Dropout)          (None, 500)               0         \n",
            "_________________________________________________________________\n",
            "dense_2 (Dense)              (None, 5)                 2505      \n",
            "=================================================================\n",
            "Total params: 14,376,929\n",
            "Trainable params: 1,514,429\n",
            "Non-trainable params: 12,862,500\n",
            "_________________________________________________________________\n",
            "None\n"
          ],
          "name": "stdout"
        }
      ]
    },
    {
      "cell_type": "code",
      "metadata": {
        "id": "IKTu5uBWTF8-",
        "colab_type": "code",
        "colab": {}
      },
      "source": [
        "checkpointer = ModelCheckpoint(filepath='/content/weights.best.RNN.hdf5', \n",
        "                               verbose=1, save_best_only=True)"
      ],
      "execution_count": 0,
      "outputs": []
    },
    {
      "cell_type": "code",
      "metadata": {
        "id": "zI3W8C-1TF9G",
        "colab_type": "code",
        "outputId": "36e98cd9-a420-4a0e-ea6d-8f26c6029c5b",
        "colab": {
          "base_uri": "https://localhost:8080/",
          "height": 6854
        }
      },
      "source": [
        "# fit the model\n",
        "history = model.fit(doc_train, onehot_train, epochs=num_of_epochs, verbose=1, batch_size=batchsize, callbacks=[checkpointer], validation_split=0.2)"
      ],
      "execution_count": 0,
      "outputs": [
        {
          "output_type": "stream",
          "text": [
            "Train on 6400 samples, validate on 1600 samples\n",
            "Epoch 1/100\n",
            "6400/6400 [==============================] - 81s 13ms/step - loss: 1.6107 - categorical_accuracy: 0.2619 - val_loss: 1.5567 - val_categorical_accuracy: 0.2781\n",
            "\n",
            "Epoch 00001: val_loss improved from inf to 1.55667, saving model to /content/weights.best.RNN.hdf5\n",
            "Epoch 2/100\n",
            "6400/6400 [==============================] - 79s 12ms/step - loss: 1.5711 - categorical_accuracy: 0.2827 - val_loss: 1.5506 - val_categorical_accuracy: 0.3063\n",
            "\n",
            "Epoch 00002: val_loss improved from 1.55667 to 1.55060, saving model to /content/weights.best.RNN.hdf5\n",
            "Epoch 3/100\n",
            "6400/6400 [==============================] - 79s 12ms/step - loss: 1.5548 - categorical_accuracy: 0.3067 - val_loss: 1.5141 - val_categorical_accuracy: 0.3450\n",
            "\n",
            "Epoch 00003: val_loss improved from 1.55060 to 1.51406, saving model to /content/weights.best.RNN.hdf5\n",
            "Epoch 4/100\n",
            "6400/6400 [==============================] - 79s 12ms/step - loss: 1.5778 - categorical_accuracy: 0.3219 - val_loss: 1.5269 - val_categorical_accuracy: 0.3250\n",
            "\n",
            "Epoch 00004: val_loss did not improve\n",
            "Epoch 5/100\n",
            "6400/6400 [==============================] - 79s 12ms/step - loss: 1.5224 - categorical_accuracy: 0.3345 - val_loss: 1.4944 - val_categorical_accuracy: 0.3563\n",
            "\n",
            "Epoch 00005: val_loss improved from 1.51406 to 1.49439, saving model to /content/weights.best.RNN.hdf5\n",
            "Epoch 6/100\n",
            "1280/6400 [=====>........................] - ETA: 58s - loss: 1.5659 - categorical_accuracy: 0.3375 "
          ],
          "name": "stdout"
        },
        {
          "output_type": "stream",
          "text": [
            "6400/6400 [==============================] - 79s 12ms/step - loss: 1.5246 - categorical_accuracy: 0.3489 - val_loss: 1.5127 - val_categorical_accuracy: 0.3444\n",
            "\n",
            "Epoch 00006: val_loss did not improve\n",
            "Epoch 7/100\n",
            "6400/6400 [==============================] - 79s 12ms/step - loss: 1.5237 - categorical_accuracy: 0.3605 - val_loss: 2.3576 - val_categorical_accuracy: 0.2412\n",
            "\n",
            "Epoch 00007: val_loss did not improve\n",
            "Epoch 8/100\n",
            "6400/6400 [==============================] - 79s 12ms/step - loss: 1.5364 - categorical_accuracy: 0.3408 - val_loss: 1.4844 - val_categorical_accuracy: 0.3625\n",
            "\n",
            "Epoch 00008: val_loss improved from 1.49439 to 1.48438, saving model to /content/weights.best.RNN.hdf5\n",
            "Epoch 9/100\n",
            "6400/6400 [==============================] - 79s 12ms/step - loss: 1.6230 - categorical_accuracy: 0.3716 - val_loss: 1.5710 - val_categorical_accuracy: 0.2681\n",
            "\n",
            "Epoch 00009: val_loss did not improve\n",
            "Epoch 10/100\n",
            "6400/6400 [==============================] - 79s 12ms/step - loss: 1.4519 - categorical_accuracy: 0.3933 - val_loss: 1.3624 - val_categorical_accuracy: 0.4381\n",
            "\n",
            "Epoch 00010: val_loss improved from 1.48438 to 1.36243, saving model to /content/weights.best.RNN.hdf5\n",
            "Epoch 11/100\n",
            "5632/6400 [=========================>....] - ETA: 8s - loss: 1.4763 - categorical_accuracy: 0.3956 "
          ],
          "name": "stdout"
        },
        {
          "output_type": "stream",
          "text": [
            "6400/6400 [==============================] - 79s 12ms/step - loss: 1.4808 - categorical_accuracy: 0.3894 - val_loss: 1.4656 - val_categorical_accuracy: 0.3831\n",
            "\n",
            "Epoch 00011: val_loss did not improve\n",
            "Epoch 12/100\n",
            "6400/6400 [==============================] - 79s 12ms/step - loss: 1.4143 - categorical_accuracy: 0.4106 - val_loss: 1.2882 - val_categorical_accuracy: 0.4725\n",
            "\n",
            "Epoch 00012: val_loss improved from 1.36243 to 1.28824, saving model to /content/weights.best.RNN.hdf5\n",
            "Epoch 13/100\n",
            "6400/6400 [==============================] - 79s 12ms/step - loss: 1.3824 - categorical_accuracy: 0.4417 - val_loss: 1.5058 - val_categorical_accuracy: 0.3937\n",
            "\n",
            "Epoch 00013: val_loss did not improve\n",
            "Epoch 14/100\n",
            "6400/6400 [==============================] - 79s 12ms/step - loss: 1.3961 - categorical_accuracy: 0.4169 - val_loss: 1.3512 - val_categorical_accuracy: 0.4206\n",
            "\n",
            "Epoch 00014: val_loss did not improve\n",
            "Epoch 15/100\n",
            "6400/6400 [==============================] - 79s 12ms/step - loss: 1.3038 - categorical_accuracy: 0.4627 - val_loss: 1.2321 - val_categorical_accuracy: 0.4956\n",
            "\n",
            "Epoch 00015: val_loss improved from 1.28824 to 1.23214, saving model to /content/weights.best.RNN.hdf5\n",
            "Epoch 16/100\n",
            "5632/6400 [=========================>....] - ETA: 8s - loss: 1.3027 - categorical_accuracy: 0.4670 "
          ],
          "name": "stdout"
        },
        {
          "output_type": "stream",
          "text": [
            "6400/6400 [==============================] - 79s 12ms/step - loss: 1.3057 - categorical_accuracy: 0.4683 - val_loss: 1.6227 - val_categorical_accuracy: 0.2769\n",
            "\n",
            "Epoch 00016: val_loss did not improve\n",
            "Epoch 17/100\n",
            "6400/6400 [==============================] - 79s 12ms/step - loss: 1.3285 - categorical_accuracy: 0.4656 - val_loss: 1.1935 - val_categorical_accuracy: 0.5088\n",
            "\n",
            "Epoch 00017: val_loss improved from 1.23214 to 1.19349, saving model to /content/weights.best.RNN.hdf5\n",
            "Epoch 18/100\n",
            "6400/6400 [==============================] - 79s 12ms/step - loss: 1.2217 - categorical_accuracy: 0.5144 - val_loss: 1.3165 - val_categorical_accuracy: 0.4562\n",
            "\n",
            "Epoch 00018: val_loss did not improve\n",
            "Epoch 19/100\n",
            "6400/6400 [==============================] - 80s 12ms/step - loss: 1.2354 - categorical_accuracy: 0.5027 - val_loss: 1.1474 - val_categorical_accuracy: 0.5444\n",
            "\n",
            "Epoch 00019: val_loss improved from 1.19349 to 1.14736, saving model to /content/weights.best.RNN.hdf5\n",
            "Epoch 20/100\n",
            "6400/6400 [==============================] - 80s 12ms/step - loss: 1.2027 - categorical_accuracy: 0.5230 - val_loss: 1.1206 - val_categorical_accuracy: 0.5544\n",
            "\n",
            "Epoch 00020: val_loss improved from 1.14736 to 1.12064, saving model to /content/weights.best.RNN.hdf5\n",
            "Epoch 21/100\n",
            "4864/6400 [=====================>........] - ETA: 17s - loss: 1.1655 - categorical_accuracy: 0.5236"
          ],
          "name": "stdout"
        },
        {
          "output_type": "stream",
          "text": [
            "6400/6400 [==============================] - 80s 12ms/step - loss: 1.2055 - categorical_accuracy: 0.5206 - val_loss: 1.1341 - val_categorical_accuracy: 0.5606\n",
            "\n",
            "Epoch 00021: val_loss did not improve\n",
            "Epoch 22/100\n",
            "6400/6400 [==============================] - 80s 12ms/step - loss: 1.1528 - categorical_accuracy: 0.5377 - val_loss: 1.0461 - val_categorical_accuracy: 0.5794\n",
            "\n",
            "Epoch 00022: val_loss improved from 1.12064 to 1.04614, saving model to /content/weights.best.RNN.hdf5\n",
            "Epoch 23/100\n",
            "6400/6400 [==============================] - 80s 12ms/step - loss: 1.1580 - categorical_accuracy: 0.5398 - val_loss: 1.4126 - val_categorical_accuracy: 0.3987\n",
            "\n",
            "Epoch 00023: val_loss did not improve\n",
            "Epoch 24/100\n",
            "6400/6400 [==============================] - 80s 12ms/step - loss: 1.1164 - categorical_accuracy: 0.5628 - val_loss: 1.3462 - val_categorical_accuracy: 0.4988\n",
            "\n",
            "Epoch 00024: val_loss did not improve\n",
            "Epoch 25/100\n",
            "6400/6400 [==============================] - 80s 12ms/step - loss: 1.1400 - categorical_accuracy: 0.5483 - val_loss: 1.1310 - val_categorical_accuracy: 0.5375\n",
            "\n",
            "Epoch 00025: val_loss did not improve\n",
            "Epoch 26/100\n",
            "5888/6400 [==========================>...] - ETA: 5s - loss: 1.0600 - categorical_accuracy: 0.5941"
          ],
          "name": "stdout"
        },
        {
          "output_type": "stream",
          "text": [
            "6400/6400 [==============================] - 80s 12ms/step - loss: 1.0777 - categorical_accuracy: 0.5862 - val_loss: 1.0609 - val_categorical_accuracy: 0.6031\n",
            "\n",
            "Epoch 00026: val_loss did not improve\n",
            "Epoch 27/100\n",
            "6400/6400 [==============================] - 80s 12ms/step - loss: 0.9977 - categorical_accuracy: 0.6339 - val_loss: 1.7648 - val_categorical_accuracy: 0.3556\n",
            "\n",
            "Epoch 00027: val_loss did not improve\n",
            "Epoch 28/100\n",
            "6400/6400 [==============================] - 80s 12ms/step - loss: 1.0186 - categorical_accuracy: 0.6091 - val_loss: 0.9470 - val_categorical_accuracy: 0.6281\n",
            "\n",
            "Epoch 00028: val_loss improved from 1.04614 to 0.94703, saving model to /content/weights.best.RNN.hdf5\n",
            "Epoch 29/100\n",
            "6400/6400 [==============================] - 80s 12ms/step - loss: 0.9565 - categorical_accuracy: 0.6364 - val_loss: 1.0648 - val_categorical_accuracy: 0.6088\n",
            "\n",
            "Epoch 00029: val_loss did not improve\n",
            "Epoch 30/100\n",
            "6400/6400 [==============================] - 79s 12ms/step - loss: 0.9449 - categorical_accuracy: 0.6514 - val_loss: 0.8632 - val_categorical_accuracy: 0.6856\n",
            "\n",
            "Epoch 00030: val_loss improved from 0.94703 to 0.86317, saving model to /content/weights.best.RNN.hdf5\n",
            "Epoch 31/100\n",
            "5888/6400 [==========================>...] - ETA: 5s - loss: 0.8881 - categorical_accuracy: 0.6722"
          ],
          "name": "stdout"
        },
        {
          "output_type": "stream",
          "text": [
            "6400/6400 [==============================] - 79s 12ms/step - loss: 0.8809 - categorical_accuracy: 0.6758 - val_loss: 0.8642 - val_categorical_accuracy: 0.6869\n",
            "\n",
            "Epoch 00031: val_loss did not improve\n",
            "Epoch 32/100\n",
            "6400/6400 [==============================] - 79s 12ms/step - loss: 0.9029 - categorical_accuracy: 0.6675 - val_loss: 0.7767 - val_categorical_accuracy: 0.7306\n",
            "\n",
            "Epoch 00032: val_loss improved from 0.86317 to 0.77667, saving model to /content/weights.best.RNN.hdf5\n",
            "Epoch 33/100\n",
            "6400/6400 [==============================] - 80s 12ms/step - loss: 0.8328 - categorical_accuracy: 0.7077 - val_loss: 0.8425 - val_categorical_accuracy: 0.7094\n",
            "\n",
            "Epoch 00033: val_loss did not improve\n",
            "Epoch 34/100\n",
            "6400/6400 [==============================] - 80s 12ms/step - loss: 0.8255 - categorical_accuracy: 0.6955 - val_loss: 0.7903 - val_categorical_accuracy: 0.7381\n",
            "\n",
            "Epoch 00034: val_loss did not improve\n",
            "Epoch 35/100\n",
            "6400/6400 [==============================] - 80s 12ms/step - loss: 0.8438 - categorical_accuracy: 0.7003 - val_loss: 0.8667 - val_categorical_accuracy: 0.6494\n",
            "\n",
            "Epoch 00035: val_loss did not improve\n",
            "Epoch 36/100\n",
            "5888/6400 [==========================>...] - ETA: 5s - loss: 0.8105 - categorical_accuracy: 0.6872"
          ],
          "name": "stdout"
        },
        {
          "output_type": "stream",
          "text": [
            "6400/6400 [==============================] - 80s 12ms/step - loss: 0.7948 - categorical_accuracy: 0.6948 - val_loss: 0.7621 - val_categorical_accuracy: 0.7212\n",
            "\n",
            "Epoch 00036: val_loss improved from 0.77667 to 0.76211, saving model to /content/weights.best.RNN.hdf5\n",
            "Epoch 37/100\n",
            "6400/6400 [==============================] - 80s 12ms/step - loss: 0.7386 - categorical_accuracy: 0.7383 - val_loss: 0.6665 - val_categorical_accuracy: 0.7656\n",
            "\n",
            "Epoch 00037: val_loss improved from 0.76211 to 0.66648, saving model to /content/weights.best.RNN.hdf5\n",
            "Epoch 38/100\n",
            "6400/6400 [==============================] - 80s 12ms/step - loss: 0.7019 - categorical_accuracy: 0.7500 - val_loss: 0.6753 - val_categorical_accuracy: 0.7550\n",
            "\n",
            "Epoch 00038: val_loss did not improve\n",
            "Epoch 39/100\n",
            "6400/6400 [==============================] - 80s 12ms/step - loss: 0.7107 - categorical_accuracy: 0.7631 - val_loss: 0.7138 - val_categorical_accuracy: 0.7519\n",
            "\n",
            "Epoch 00039: val_loss did not improve\n",
            "Epoch 40/100\n",
            "6400/6400 [==============================] - 80s 12ms/step - loss: 0.7207 - categorical_accuracy: 0.7589 - val_loss: 0.6342 - val_categorical_accuracy: 0.7831\n",
            "\n",
            "Epoch 00040: val_loss improved from 0.66648 to 0.63416, saving model to /content/weights.best.RNN.hdf5\n",
            "Epoch 41/100\n",
            "4096/6400 [==================>...........] - ETA: 26s - loss: 0.5960 - categorical_accuracy: 0.7991"
          ],
          "name": "stdout"
        },
        {
          "output_type": "stream",
          "text": [
            "6400/6400 [==============================] - 80s 13ms/step - loss: 0.6462 - categorical_accuracy: 0.7777 - val_loss: 0.6190 - val_categorical_accuracy: 0.7913\n",
            "\n",
            "Epoch 00041: val_loss improved from 0.63416 to 0.61902, saving model to /content/weights.best.RNN.hdf5\n",
            "Epoch 42/100\n",
            "6400/6400 [==============================] - 80s 13ms/step - loss: 0.6765 - categorical_accuracy: 0.7548 - val_loss: 0.6685 - val_categorical_accuracy: 0.7519\n",
            "\n",
            "Epoch 00042: val_loss did not improve\n",
            "Epoch 43/100\n",
            "6400/6400 [==============================] - 80s 13ms/step - loss: 0.5763 - categorical_accuracy: 0.7992 - val_loss: 0.5120 - val_categorical_accuracy: 0.8306\n",
            "\n",
            "Epoch 00043: val_loss improved from 0.61902 to 0.51205, saving model to /content/weights.best.RNN.hdf5\n",
            "Epoch 44/100\n",
            "6400/6400 [==============================] - 80s 13ms/step - loss: 0.6266 - categorical_accuracy: 0.7913 - val_loss: 0.5892 - val_categorical_accuracy: 0.7881\n",
            "\n",
            "Epoch 00044: val_loss did not improve\n",
            "Epoch 45/100\n",
            "6400/6400 [==============================] - 80s 13ms/step - loss: 0.5391 - categorical_accuracy: 0.8173 - val_loss: 0.7107 - val_categorical_accuracy: 0.7531\n",
            "\n",
            "Epoch 00045: val_loss did not improve\n",
            "Epoch 46/100\n",
            "4352/6400 [===================>..........] - ETA: 23s - loss: 0.5105 - categorical_accuracy: 0.8401"
          ],
          "name": "stdout"
        },
        {
          "output_type": "stream",
          "text": [
            "6400/6400 [==============================] - 80s 13ms/step - loss: 0.5267 - categorical_accuracy: 0.8311 - val_loss: 0.5542 - val_categorical_accuracy: 0.8069\n",
            "\n",
            "Epoch 00046: val_loss did not improve\n",
            "Epoch 47/100\n",
            "6400/6400 [==============================] - 80s 13ms/step - loss: 0.4283 - categorical_accuracy: 0.8606 - val_loss: 0.6108 - val_categorical_accuracy: 0.8113\n",
            "\n",
            "Epoch 00047: val_loss did not improve\n",
            "Epoch 48/100\n",
            "6400/6400 [==============================] - 80s 13ms/step - loss: 0.5053 - categorical_accuracy: 0.8316 - val_loss: 0.4888 - val_categorical_accuracy: 0.8375\n",
            "\n",
            "Epoch 00048: val_loss improved from 0.51205 to 0.48884, saving model to /content/weights.best.RNN.hdf5\n",
            "Epoch 49/100\n",
            "6400/6400 [==============================] - 80s 13ms/step - loss: 0.4589 - categorical_accuracy: 0.8566 - val_loss: 0.6502 - val_categorical_accuracy: 0.8075\n",
            "\n",
            "Epoch 00049: val_loss did not improve\n",
            "Epoch 50/100\n",
            "6400/6400 [==============================] - 80s 13ms/step - loss: 0.3498 - categorical_accuracy: 0.8855 - val_loss: 0.5964 - val_categorical_accuracy: 0.8231\n",
            "\n",
            "Epoch 00050: val_loss did not improve\n",
            "Epoch 51/100\n",
            "6144/6400 [===========================>..] - ETA: 2s - loss: 0.4526 - categorical_accuracy: 0.8573"
          ],
          "name": "stdout"
        },
        {
          "output_type": "stream",
          "text": [
            "\b\b\b\b\b\b\b\b\b\b\b\b\b\b\b\b\b\b\b\b\b\b\b\b\b\b\b\b\b\b\b\b\b\b\b\b\b\b\b\b\b\b\b\b\b\b\b\b\b\b\b\b\b\b\b\b\b\b\b\b\b\b\b\b\b\b\b\b\b\b\b\b\b\b\b\b\b\b\b\b\b\b\b\b\b\b\b\b\b\b\b\b\b\b\b\b\b\b\r6400/6400 [==============================] - 80s 13ms/step - loss: 0.4457 - categorical_accuracy: 0.8598 - val_loss: 0.4205 - val_categorical_accuracy: 0.8638\n",
            "\n",
            "Epoch 00051: val_loss improved from 0.48884 to 0.42053, saving model to /content/weights.best.RNN.hdf5\n",
            "Epoch 52/100\n",
            "6400/6400 [==============================] - 80s 13ms/step - loss: 0.3579 - categorical_accuracy: 0.8861 - val_loss: 0.3813 - val_categorical_accuracy: 0.8819\n",
            "\n",
            "Epoch 00052: val_loss improved from 0.42053 to 0.38129, saving model to /content/weights.best.RNN.hdf5\n",
            "Epoch 53/100\n",
            "6400/6400 [==============================] - 80s 13ms/step - loss: 0.3140 - categorical_accuracy: 0.9006 - val_loss: 0.6351 - val_categorical_accuracy: 0.8037\n",
            "\n",
            "Epoch 00053: val_loss did not improve\n",
            "Epoch 54/100\n",
            "6400/6400 [==============================] - 80s 13ms/step - loss: 0.3174 - categorical_accuracy: 0.8936 - val_loss: 0.4581 - val_categorical_accuracy: 0.8656\n",
            "\n",
            "Epoch 00054: val_loss did not improve\n",
            "Epoch 55/100\n",
            "6400/6400 [==============================] - 80s 13ms/step - loss: 0.3100 - categorical_accuracy: 0.9000 - val_loss: 0.5340 - val_categorical_accuracy: 0.8413\n",
            "\n",
            "Epoch 00055: val_loss did not improve\n",
            "Epoch 56/100\n",
            "2048/6400 [========>.....................] - ETA: 50s - loss: 0.2995 - categorical_accuracy: 0.9014"
          ],
          "name": "stdout"
        },
        {
          "output_type": "stream",
          "text": [
            "6400/6400 [==============================] - 80s 13ms/step - loss: 0.3108 - categorical_accuracy: 0.8964 - val_loss: 0.3793 - val_categorical_accuracy: 0.8825\n",
            "\n",
            "Epoch 00056: val_loss improved from 0.38129 to 0.37931, saving model to /content/weights.best.RNN.hdf5\n",
            "Epoch 57/100\n",
            "6400/6400 [==============================] - 80s 13ms/step - loss: 0.2784 - categorical_accuracy: 0.9144 - val_loss: 0.3862 - val_categorical_accuracy: 0.8831\n",
            "\n",
            "Epoch 00057: val_loss did not improve\n",
            "Epoch 58/100\n",
            "6400/6400 [==============================] - 80s 13ms/step - loss: 0.2151 - categorical_accuracy: 0.9294 - val_loss: 0.5313 - val_categorical_accuracy: 0.8294\n",
            "\n",
            "Epoch 00058: val_loss did not improve\n",
            "Epoch 59/100\n",
            "6400/6400 [==============================] - 80s 13ms/step - loss: 0.2482 - categorical_accuracy: 0.9227 - val_loss: 0.5166 - val_categorical_accuracy: 0.8381\n",
            "\n",
            "Epoch 00059: val_loss did not improve\n",
            "Epoch 60/100\n",
            "6400/6400 [==============================] - 80s 13ms/step - loss: 0.2041 - categorical_accuracy: 0.9294 - val_loss: 0.6541 - val_categorical_accuracy: 0.8100\n",
            "\n",
            "Epoch 00060: val_loss did not improve\n",
            "Epoch 61/100\n",
            "5120/6400 [=======================>......] - ETA: 14s - loss: 0.1927 - categorical_accuracy: 0.9365"
          ],
          "name": "stdout"
        },
        {
          "output_type": "stream",
          "text": [
            "6400/6400 [==============================] - 80s 13ms/step - loss: 0.2154 - categorical_accuracy: 0.9298 - val_loss: 0.4238 - val_categorical_accuracy: 0.8762\n",
            "\n",
            "Epoch 00061: val_loss did not improve\n",
            "Epoch 62/100\n",
            "6400/6400 [==============================] - 80s 12ms/step - loss: 0.1436 - categorical_accuracy: 0.9517 - val_loss: 0.5434 - val_categorical_accuracy: 0.8719\n",
            "\n",
            "Epoch 00062: val_loss did not improve\n",
            "Epoch 63/100\n",
            "6400/6400 [==============================] - 80s 12ms/step - loss: 0.1825 - categorical_accuracy: 0.9409 - val_loss: 0.3721 - val_categorical_accuracy: 0.8919\n",
            "\n",
            "Epoch 00063: val_loss improved from 0.37931 to 0.37209, saving model to /content/weights.best.RNN.hdf5\n",
            "Epoch 64/100\n",
            "6400/6400 [==============================] - 80s 12ms/step - loss: 0.2014 - categorical_accuracy: 0.9384 - val_loss: 0.4730 - val_categorical_accuracy: 0.8575\n",
            "\n",
            "Epoch 00064: val_loss did not improve\n",
            "Epoch 65/100\n",
            "6400/6400 [==============================] - 80s 13ms/step - loss: 0.1311 - categorical_accuracy: 0.9583 - val_loss: 0.3589 - val_categorical_accuracy: 0.9050\n",
            "\n",
            "Epoch 00065: val_loss improved from 0.37209 to 0.35891, saving model to /content/weights.best.RNN.hdf5\n",
            "Epoch 66/100\n",
            "5888/6400 [==========================>...] - ETA: 5s - loss: 0.1641 - categorical_accuracy: 0.9507"
          ],
          "name": "stdout"
        },
        {
          "output_type": "stream",
          "text": [
            "6400/6400 [==============================] - 80s 13ms/step - loss: 0.1597 - categorical_accuracy: 0.9516 - val_loss: 0.4777 - val_categorical_accuracy: 0.8844\n",
            "\n",
            "Epoch 00066: val_loss did not improve\n",
            "Epoch 67/100\n",
            "6400/6400 [==============================] - 81s 13ms/step - loss: 0.1049 - categorical_accuracy: 0.9614 - val_loss: 0.3800 - val_categorical_accuracy: 0.9087\n",
            "\n",
            "Epoch 00067: val_loss did not improve\n",
            "Epoch 68/100\n",
            "6400/6400 [==============================] - 81s 13ms/step - loss: 0.1492 - categorical_accuracy: 0.9519 - val_loss: 0.4441 - val_categorical_accuracy: 0.8988\n",
            "\n",
            "Epoch 00068: val_loss did not improve\n",
            "Epoch 69/100\n",
            "6400/6400 [==============================] - 81s 13ms/step - loss: 0.0908 - categorical_accuracy: 0.9709 - val_loss: 0.3872 - val_categorical_accuracy: 0.9137\n",
            "\n",
            "Epoch 00069: val_loss did not improve\n",
            "Epoch 70/100\n",
            "6400/6400 [==============================] - 81s 13ms/step - loss: 0.1183 - categorical_accuracy: 0.9647 - val_loss: 0.3768 - val_categorical_accuracy: 0.9150\n",
            "\n",
            "Epoch 00070: val_loss did not improve\n",
            "Epoch 71/100\n",
            "6400/6400 [==============================] - 81s 13ms/step - loss: 0.1203 - categorical_accuracy: 0.9644 - val_loss: 0.7998 - val_categorical_accuracy: 0.8313\n",
            "\n",
            "Epoch 00071: val_loss did not improve\n",
            "Epoch 72/100\n",
            " 512/6400 [=>............................] - ETA: 1:08 - loss: 0.2074 - categorical_accuracy: 0.9297"
          ],
          "name": "stdout"
        },
        {
          "output_type": "stream",
          "text": [
            "6400/6400 [==============================] - 81s 13ms/step - loss: 0.1157 - categorical_accuracy: 0.9641 - val_loss: 0.3534 - val_categorical_accuracy: 0.9194\n",
            "\n",
            "Epoch 00072: val_loss improved from 0.35891 to 0.35336, saving model to /content/weights.best.RNN.hdf5\n",
            "Epoch 73/100\n",
            "6400/6400 [==============================] - 81s 13ms/step - loss: 0.1345 - categorical_accuracy: 0.9634 - val_loss: 0.3943 - val_categorical_accuracy: 0.9081\n",
            "\n",
            "Epoch 00073: val_loss did not improve\n",
            "Epoch 74/100\n",
            "6400/6400 [==============================] - 81s 13ms/step - loss: 0.0752 - categorical_accuracy: 0.9755 - val_loss: 0.4382 - val_categorical_accuracy: 0.9044\n",
            "\n",
            "Epoch 00074: val_loss did not improve\n",
            "Epoch 75/100\n",
            "6400/6400 [==============================] - 81s 13ms/step - loss: 0.1061 - categorical_accuracy: 0.9736 - val_loss: 1.0271 - val_categorical_accuracy: 0.7794\n",
            "\n",
            "Epoch 00075: val_loss did not improve\n",
            "Epoch 76/100\n",
            "6400/6400 [==============================] - 81s 13ms/step - loss: 0.0843 - categorical_accuracy: 0.9725 - val_loss: 0.3756 - val_categorical_accuracy: 0.9156\n",
            "\n",
            "Epoch 00076: val_loss did not improve\n",
            "Epoch 77/100\n",
            "5120/6400 [=======================>......] - ETA: 14s - loss: 0.0688 - categorical_accuracy: 0.9768"
          ],
          "name": "stdout"
        },
        {
          "output_type": "stream",
          "text": [
            "6400/6400 [==============================] - 81s 13ms/step - loss: 0.1231 - categorical_accuracy: 0.9647 - val_loss: 0.4078 - val_categorical_accuracy: 0.8975\n",
            "\n",
            "Epoch 00077: val_loss did not improve\n",
            "Epoch 78/100\n",
            "6400/6400 [==============================] - 81s 13ms/step - loss: 0.0590 - categorical_accuracy: 0.9822 - val_loss: 1.0331 - val_categorical_accuracy: 0.7294\n",
            "\n",
            "Epoch 00078: val_loss did not improve\n",
            "Epoch 79/100\n",
            "6400/6400 [==============================] - 80s 13ms/step - loss: 0.0700 - categorical_accuracy: 0.9767 - val_loss: 0.4417 - val_categorical_accuracy: 0.9225\n",
            "\n",
            "Epoch 00079: val_loss did not improve\n",
            "Epoch 80/100\n",
            "6400/6400 [==============================] - 80s 13ms/step - loss: 0.0660 - categorical_accuracy: 0.9803 - val_loss: 1.0740 - val_categorical_accuracy: 0.8144\n",
            "\n",
            "Epoch 00080: val_loss did not improve\n",
            "Epoch 81/100\n",
            "6400/6400 [==============================] - 80s 13ms/step - loss: 0.0938 - categorical_accuracy: 0.9733 - val_loss: 0.6746 - val_categorical_accuracy: 0.8612\n",
            "\n",
            "Epoch 00081: val_loss did not improve\n",
            "Epoch 82/100\n",
            "6400/6400 [==============================] - 81s 13ms/step - loss: 0.0880 - categorical_accuracy: 0.9763 - val_loss: 0.5055 - val_categorical_accuracy: 0.9106\n",
            "\n",
            "Epoch 00082: val_loss did not improve\n",
            "Epoch 83/100\n",
            " 512/6400 [=>............................] - ETA: 1:08 - loss: 0.0443 - categorical_accuracy: 0.9805"
          ],
          "name": "stdout"
        },
        {
          "output_type": "stream",
          "text": [
            "6400/6400 [==============================] - 81s 13ms/step - loss: 0.0436 - categorical_accuracy: 0.9856 - val_loss: 0.5147 - val_categorical_accuracy: 0.9200\n",
            "\n",
            "Epoch 00083: val_loss did not improve\n",
            "Epoch 84/100\n",
            "6400/6400 [==============================] - 81s 13ms/step - loss: 0.0885 - categorical_accuracy: 0.9758 - val_loss: 1.5648 - val_categorical_accuracy: 0.7744\n",
            "\n",
            "Epoch 00084: val_loss did not improve\n",
            "Epoch 85/100\n",
            "6400/6400 [==============================] - 81s 13ms/step - loss: 0.1215 - categorical_accuracy: 0.9675 - val_loss: 0.4247 - val_categorical_accuracy: 0.9187\n",
            "\n",
            "Epoch 00085: val_loss did not improve\n",
            "Epoch 86/100\n",
            "6400/6400 [==============================] - 81s 13ms/step - loss: 0.0676 - categorical_accuracy: 0.9788 - val_loss: 0.3841 - val_categorical_accuracy: 0.9200\n",
            "\n",
            "Epoch 00086: val_loss did not improve\n",
            "Epoch 87/100\n",
            "6400/6400 [==============================] - 81s 13ms/step - loss: 0.0804 - categorical_accuracy: 0.9792 - val_loss: 0.9015 - val_categorical_accuracy: 0.8069\n",
            "\n",
            "Epoch 00087: val_loss did not improve\n",
            "Epoch 88/100\n",
            "6400/6400 [==============================] - 81s 13ms/step - loss: 0.0443 - categorical_accuracy: 0.9845 - val_loss: 0.4694 - val_categorical_accuracy: 0.9044\n",
            "\n",
            "Epoch 00088: val_loss did not improve\n",
            "Epoch 89/100\n"
          ],
          "name": "stdout"
        },
        {
          "output_type": "stream",
          "text": [
            "6400/6400 [==============================] - 80s 13ms/step - loss: 0.0743 - categorical_accuracy: 0.9802 - val_loss: 0.4450 - val_categorical_accuracy: 0.9113\n",
            "\n",
            "Epoch 00089: val_loss did not improve\n",
            "Epoch 90/100\n",
            "6400/6400 [==============================] - 80s 12ms/step - loss: 0.0893 - categorical_accuracy: 0.9750 - val_loss: 0.3909 - val_categorical_accuracy: 0.9237\n",
            "\n",
            "Epoch 00090: val_loss did not improve\n",
            "Epoch 91/100\n",
            "6400/6400 [==============================] - 80s 12ms/step - loss: 0.0425 - categorical_accuracy: 0.9852 - val_loss: 0.3781 - val_categorical_accuracy: 0.9337\n",
            "\n",
            "Epoch 00091: val_loss did not improve\n",
            "Epoch 92/100\n",
            "6400/6400 [==============================] - 80s 13ms/step - loss: 0.1524 - categorical_accuracy: 0.9686 - val_loss: 0.4278 - val_categorical_accuracy: 0.9006\n",
            "\n",
            "Epoch 00092: val_loss did not improve\n",
            "Epoch 93/100\n",
            "6400/6400 [==============================] - 80s 13ms/step - loss: 0.0263 - categorical_accuracy: 0.9909 - val_loss: 0.4465 - val_categorical_accuracy: 0.9206\n",
            "\n",
            "Epoch 00093: val_loss did not improve\n",
            "Epoch 94/100\n",
            "6400/6400 [==============================] - 80s 13ms/step - loss: 0.0691 - categorical_accuracy: 0.9805 - val_loss: 0.4155 - val_categorical_accuracy: 0.9187\n",
            "\n",
            "Epoch 00094: val_loss did not improve\n",
            "Epoch 95/100\n"
          ],
          "name": "stdout"
        },
        {
          "output_type": "stream",
          "text": [
            "6400/6400 [==============================] - 80s 13ms/step - loss: 0.0672 - categorical_accuracy: 0.9811 - val_loss: 0.4473 - val_categorical_accuracy: 0.9025\n",
            "\n",
            "Epoch 00095: val_loss did not improve\n",
            "Epoch 96/100\n",
            "6400/6400 [==============================] - 80s 13ms/step - loss: 0.0416 - categorical_accuracy: 0.9869 - val_loss: 0.4879 - val_categorical_accuracy: 0.9050\n",
            "\n",
            "Epoch 00096: val_loss did not improve\n",
            "Epoch 97/100\n",
            "6400/6400 [==============================] - 80s 13ms/step - loss: 0.0757 - categorical_accuracy: 0.9794 - val_loss: 0.4328 - val_categorical_accuracy: 0.9000\n",
            "\n",
            "Epoch 00097: val_loss did not improve\n",
            "Epoch 98/100\n",
            "6400/6400 [==============================] - 80s 13ms/step - loss: 0.0263 - categorical_accuracy: 0.9911 - val_loss: 1.2351 - val_categorical_accuracy: 0.8306\n",
            "\n",
            "Epoch 00098: val_loss did not improve\n",
            "Epoch 99/100\n",
            "6400/6400 [==============================] - 80s 13ms/step - loss: 0.0798 - categorical_accuracy: 0.9803 - val_loss: 0.4010 - val_categorical_accuracy: 0.9231\n",
            "\n",
            "Epoch 00099: val_loss did not improve\n",
            "Epoch 100/100\n",
            "6400/6400 [==============================] - 80s 13ms/step - loss: 0.0839 - categorical_accuracy: 0.9789 - val_loss: 0.4871 - val_categorical_accuracy: 0.9069\n",
            "\n",
            "Epoch 00100: val_loss did not improve\n"
          ],
          "name": "stdout"
        }
      ]
    },
    {
      "cell_type": "code",
      "metadata": {
        "id": "SDDh7xNiTF9P",
        "colab_type": "code",
        "outputId": "77255fec-39af-4a23-9d78-d40b1d0f75b2",
        "colab": {
          "base_uri": "https://localhost:8080/",
          "height": 68
        }
      },
      "source": [
        "# evaluate the model\n",
        "loss_train, acc_train = model.evaluate(doc_train, onehot_train, verbose=1)\n",
        "print('Training Accuracy: ' +str(acc_train*100)+\"%\")\n",
        "print(\"Training Loss: \" +str(loss_train))"
      ],
      "execution_count": 0,
      "outputs": [
        {
          "output_type": "stream",
          "text": [
            "8000/8000 [==============================] - 144s 18ms/step\n",
            "Training Accuracy: 97.6%\n",
            "Training Loss: 0.11040118133049691\n"
          ],
          "name": "stdout"
        }
      ]
    },
    {
      "cell_type": "code",
      "metadata": {
        "id": "r3cK71lTTF9a",
        "colab_type": "code",
        "outputId": "bfc02196-ced8-4fe7-9587-e3d05454cae6",
        "colab": {
          "base_uri": "https://localhost:8080/",
          "height": 68
        }
      },
      "source": [
        "# evaluate the model\n",
        "loss_test, acc_test = model.evaluate(doc_test, onehot_test, verbose=1)\n",
        "print('Test Accuracy: ' +str(acc_test*100)+\"%\")\n",
        "print(\"Test Loss: \" +str(loss_test))"
      ],
      "execution_count": 0,
      "outputs": [
        {
          "output_type": "stream",
          "text": [
            "2078/2078 [==============================] - 38s 18ms/step\n",
            "Test Accuracy: 89.94225217128053%\n",
            "Test Loss: 0.47571552788912247\n"
          ],
          "name": "stdout"
        }
      ]
    },
    {
      "cell_type": "code",
      "metadata": {
        "id": "MIPkWRIpTF9p",
        "colab_type": "code",
        "colab": {}
      },
      "source": [
        "#predict = model.predict(doc_test)\n",
        "#print(predict[0])"
      ],
      "execution_count": 0,
      "outputs": []
    },
    {
      "cell_type": "code",
      "metadata": {
        "id": "a6QU9H9HTF9s",
        "colab_type": "code",
        "colab": {}
      },
      "source": [
        "#from keras.utils import plot_model\n",
        "#plot_model(model, to_file='model.png')"
      ],
      "execution_count": 0,
      "outputs": []
    },
    {
      "cell_type": "code",
      "metadata": {
        "id": "FL3KQwkXTF9u",
        "colab_type": "code",
        "colab": {}
      },
      "source": [
        "#from IPython.display import SVG\n",
        "#from keras.utils.vis_utils import model_to_dot\n",
        "\n",
        "#SVG(model_to_dot(model).create(prog='dot', format='svg'))"
      ],
      "execution_count": 0,
      "outputs": []
    },
    {
      "cell_type": "code",
      "metadata": {
        "id": "32EKcNiuTF92",
        "colab_type": "code",
        "outputId": "1dfaf8d1-7c25-4686-bcd7-38d4924081e1",
        "colab": {
          "base_uri": "https://localhost:8080/",
          "height": 376
        }
      },
      "source": [
        "# summarize history for accuracy\n",
        "plt.plot(history.history['categorical_accuracy'] )\n",
        "plt.plot(history.history['val_categorical_accuracy'])\n",
        "# plt.plot(history.history['val_acc'])\n",
        "plt.title('model accuracy  ')\n",
        "plt.ylabel('accuracy')\n",
        "plt.xlabel('epoch')\n",
        "plt.legend(['train', 'test'], loc='upper left')\n",
        "plt.show()"
      ],
      "execution_count": 0,
      "outputs": [
        {
          "output_type": "display_data",
          "data": {
            "image/png": "[encoded data removed]",
            "text/plain": [
              "<matplotlib.figure.Figure at 0x7f1b09bdbf60>"
            ]
          },
          "metadata": {
            "tags": []
          }
        }
      ]
    },
    {
      "cell_type": "code",
      "metadata": {
        "id": "kRBVrgHVTF-A",
        "colab_type": "code",
        "outputId": "df740364-4ecb-4e38-c2fe-c8c04a50ec3b",
        "colab": {
          "base_uri": "https://localhost:8080/",
          "height": 376
        }
      },
      "source": [
        "# summarize history for loss\n",
        "plt.plot(history.history['loss'] )\n",
        "\n",
        "plt.plot(history.history['val_loss'])\n",
        "plt.title('model   loss')\n",
        "plt.ylabel('loss')\n",
        "plt.xlabel('epoch')\n",
        "plt.legend(['train', 'test'], loc='upper left')\n",
        "plt.show()"
      ],
      "execution_count": 0,
      "outputs": [
        {
          "output_type": "display_data",
          "data": {
            "image/png": "[encoded data removed]",
            "text/plain": [
              "<matplotlib.figure.Figure at 0x7f1b1e2994e0>"
            ]
          },
          "metadata": {
            "tags": []
          }
        }
      ]
    }
  ]
}